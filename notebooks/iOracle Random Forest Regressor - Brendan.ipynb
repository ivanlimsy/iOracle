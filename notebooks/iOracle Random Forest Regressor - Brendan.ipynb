{
 "cells": [
  {
   "cell_type": "markdown",
   "id": "b0acf6f7",
   "metadata": {},
   "source": [
    "# Random Forest Regessor Base Model"
   ]
  },
  {
   "cell_type": "markdown",
   "id": "ec9d6e7f",
   "metadata": {},
   "source": [
    "## Package imports"
   ]
  },
  {
   "cell_type": "code",
   "execution_count": 1,
   "id": "f6d0cab5",
   "metadata": {
    "ExecuteTime": {
     "end_time": "2022-01-08T06:25:46.250842Z",
     "start_time": "2022-01-08T06:25:45.211655Z"
    }
   },
   "outputs": [],
   "source": [
    "import yfinance as yf\n",
    "import pandas as pd\n",
    "import numpy as np\n",
    "import matplotlib.pyplot as plt\n",
    "import datetime \n",
    "import ta\n",
    "from sklearn.tree import DecisionTreeRegressor\n",
    "from sklearn.ensemble import RandomForestRegressor\n",
    "from sklearn.model_selection import cross_validate, ParameterGrid, train_test_split, GridSearchCV, RandomizedSearchCV, learning_curve\n",
    "from sklearn import metrics\n",
    "from sklearn.preprocessing import StandardScaler\n",
    "from ta.momentum import RSIIndicator\n",
    "from ta.trend import SMAIndicator\n",
    "from ta.volatility import BollingerBands\n",
    "from datetime import datetime as dt"
   ]
  },
  {
   "cell_type": "markdown",
   "id": "fb7b7516",
   "metadata": {
    "heading_collapsed": true
   },
   "source": [
    "## Custom TimedSplit Class"
   ]
  },
  {
   "cell_type": "code",
   "execution_count": 2,
   "id": "efb6afa9",
   "metadata": {
    "ExecuteTime": {
     "end_time": "2022-01-08T06:25:46.261052Z",
     "start_time": "2022-01-08T06:25:46.252297Z"
    },
    "hidden": true
   },
   "outputs": [],
   "source": [
    "class train_val_split:\n",
    "    \n",
    "    def __init__(self, df, duration=30, window=1, prediction_period=5, start = '2018-01-01', end = '2020-03-31'):\n",
    "        self.duration = duration # training period, for dates\n",
    "        self.window = window # rolling window freq, for dates\n",
    "        self.prediction_period = prediction_period # prediciton horizon, for dates\n",
    "        self.start = start\n",
    "        self.end = end\n",
    "        self.df = df.loc[(df.index >= start) & (df.index <= end)].reset_index()\n",
    "        self.start_ind = self.df[self.df.Date>=self.start].index.min()\n",
    "        \n",
    "    @staticmethod\n",
    "    def _strfdate(date):\n",
    "        return dt.strftime(date, '%Y-%m-%d')\n",
    "           \n",
    "    \n",
    "    def split_by_date(self):\n",
    "        self.end_ind = self.start_ind + self.duration\n",
    "        \n",
    "        dates = []\n",
    "        \n",
    "        while self.end_ind <=  len(self.df) - self.prediction_period:\n",
    "            date_start = self._strfdate(self.df.Date[self.start_ind])\n",
    "            date_end = self._strfdate(self.df.Date[self.end_ind])\n",
    "            \n",
    "            dates.append([date_start, date_end])\n",
    "            \n",
    "            self.start_ind += self.window\n",
    "            self.end_ind = self.start_ind + self.duration\n",
    "            \n",
    "        return dates\n",
    "    \n",
    "    def _chk_split(self, date_split):\n",
    "        for n in range(len(date_split)-1):\n",
    "            if date_split[n] >= date_split[n+1]:\n",
    "                return False\n",
    "        if date_split[0] < self.start:\n",
    "            return False\n",
    "        if date_split[-1] > self.end:\n",
    "            return False\n",
    "        return True\n",
    "            \n",
    "    \n",
    "    def split_by_index(self, date_split = ['2018-09-30','2019-06-30','2020-03-31']):\n",
    "        \n",
    "        if not self._chk_split(date_split):\n",
    "            return \"Check date split again\"\n",
    "        \n",
    "        ind_out = []            \n",
    "        for n, date in enumerate(date_split):\n",
    "            self.train_end_ind = self.df[self.df.Date<=date].index.max()\n",
    "            \n",
    "            if n < len(date_split)-1:\n",
    "                val_end = self.df[self.df.Date<=date_split[n+1]].index.max()\n",
    "            else:\n",
    "                val_end = self.df.index.max()\n",
    "            \n",
    "            #check boundary_dates\n",
    "            print(self.df.Date[self.train_end_ind], self.df.Date[self.train_end_ind+1], self.df.Date[val_end])\n",
    "                \n",
    "            ind_out.append((list(range(self.start_ind, self.train_end_ind+1)), list(range(self.train_end_ind+1, val_end+1))))\n",
    "            \n",
    "        return ind_out\n",
    "    \n",
    "    def get_val_map(self, start='2020-06-01', end='2020-12-31'):\n",
    "        start_ind = self.df[self.df.Date>=start].index.min()\n",
    "        end_ind = self.df[self.df.Date<=end].index.max()\n",
    "        \n",
    "        return {self._strfdate(self.df.Date[n-5]):self._strfdate(self.df.Date[n]) for n in range(start_ind, end_ind+1)}"
   ]
  },
  {
   "cell_type": "markdown",
   "id": "067cd2f1",
   "metadata": {},
   "source": [
    "## Download Data"
   ]
  },
  {
   "cell_type": "code",
   "execution_count": 3,
   "id": "232b6407",
   "metadata": {
    "ExecuteTime": {
     "end_time": "2022-01-08T06:25:46.263827Z",
     "start_time": "2022-01-08T06:25:46.262139Z"
    }
   },
   "outputs": [],
   "source": [
    "def get_data(ticker, start=\"2017-01-01\", end=\"2022-01-01\"):\n",
    "    return yf.download(ticker, start, end)"
   ]
  },
  {
   "cell_type": "code",
   "execution_count": 4,
   "id": "d015cf06",
   "metadata": {
    "ExecuteTime": {
     "end_time": "2022-01-08T06:25:46.633311Z",
     "start_time": "2022-01-08T06:25:46.265249Z"
    },
    "scrolled": true
   },
   "outputs": [
    {
     "name": "stdout",
     "output_type": "stream",
     "text": [
      "[*********************100%***********************]  1 of 1 completed\n"
     ]
    }
   ],
   "source": [
    "aapl_data = get_data(\"AAPL\")"
   ]
  },
  {
   "cell_type": "markdown",
   "id": "d16e3cca",
   "metadata": {},
   "source": [
    "## Plot the Adjusted Closing Price"
   ]
  },
  {
   "cell_type": "code",
   "execution_count": 5,
   "id": "c8addd4b",
   "metadata": {
    "ExecuteTime": {
     "end_time": "2022-01-08T06:25:46.636582Z",
     "start_time": "2022-01-08T06:25:46.634500Z"
    }
   },
   "outputs": [],
   "source": [
    "def plot_chart(df):\n",
    "    df['Adj Close'].plot()\n",
    "    plt.ylabel(\"Adjusted Close Prices\")\n",
    "    plt.show()"
   ]
  },
  {
   "cell_type": "code",
   "execution_count": 6,
   "id": "f33571b9",
   "metadata": {
    "ExecuteTime": {
     "end_time": "2022-01-08T06:25:46.754597Z",
     "start_time": "2022-01-08T06:25:46.637612Z"
    }
   },
   "outputs": [
    {
     "data": {
      "image/png": "[encoded data removed]",
      "text/plain": [
       "<Figure size 432x288 with 1 Axes>"
      ]
     },
     "metadata": {
      "needs_background": "light"
     },
     "output_type": "display_data"
    }
   ],
   "source": [
    "plot_chart(aapl_data)"
   ]
  },
  {
   "cell_type": "markdown",
   "id": "50f7d74f",
   "metadata": {},
   "source": [
    "## % Change Histogram"
   ]
  },
  {
   "cell_type": "code",
   "execution_count": 7,
   "id": "2bc8e42d",
   "metadata": {
    "ExecuteTime": {
     "end_time": "2022-01-08T06:25:46.861304Z",
     "start_time": "2022-01-08T06:25:46.756043Z"
    }
   },
   "outputs": [
    {
     "data": {
      "image/png": "[encoded data removed]",
      "text/plain": [
       "<Figure size 432x288 with 1 Axes>"
      ]
     },
     "metadata": {
      "needs_background": "light"
     },
     "output_type": "display_data"
    }
   ],
   "source": [
    "aapl_data['Adj Close'].pct_change().plot.hist(bins=50)\n",
    "plt.xlabel(\"Adjusted close 1 day percent change\")\n",
    "plt.show()"
   ]
  },
  {
   "cell_type": "markdown",
   "id": "16e61335",
   "metadata": {},
   "source": [
    "## Add features, target and drop NaN"
   ]
  },
  {
   "cell_type": "code",
   "execution_count": 8,
   "id": "01850b8a",
   "metadata": {
    "ExecuteTime": {
     "end_time": "2022-01-08T06:25:46.866371Z",
     "start_time": "2022-01-08T06:25:46.862327Z"
    }
   },
   "outputs": [],
   "source": [
    "def add_features_target(df):\n",
    "    feature_names = []\n",
    "    # add 14,50,200 day (MA, RSI, BB Width), volume, VIX and append names to feature names\n",
    "    for n in [14, 50, 200]:\n",
    "        df[str(n) + 'd' + ' ma'] = SMAIndicator(df['Adj Close'], window=n).sma_indicator()\n",
    "        df[str(n) + 'd' + ' rsi'] = RSIIndicator(df['Adj Close'], window=n).rsi()\n",
    "        df[str(n) + 'd' + ' bbwidth'] = BollingerBands(df['Adj Close'], window=n).bollinger_wband()\n",
    "        feature_names = feature_names + [str(n) + 'd' + ' ma' , str(n) + 'd' + ' rsi', str(n) + 'd' + ' bbwidth']\n",
    "    \n",
    "    # add VIX column and to feature_names\n",
    "    df[\"VIX\"] = get_data(\"^VIX\")[\"Adj Close\"]\n",
    "    feature_names.append(\"VIX\")\n",
    "    \n",
    "    # add target label 5 day future close column \n",
    "    df['5d_future_close'] = df['Adj Close'].shift(-5)\n",
    "    \n",
    "    # add Volume to feature_names\n",
    "    feature_names.append(\"Volume\")\n",
    "    \n",
    "    # add Adj Close to feature_names\n",
    "    feature_names.append(\"Adj Close\")\n",
    "    \n",
    "    # return completed dataframe and list of feature names\n",
    "    return df, feature_names"
   ]
  },
  {
   "cell_type": "code",
   "execution_count": 9,
   "id": "ed6467cf",
   "metadata": {
    "ExecuteTime": {
     "end_time": "2022-01-08T06:25:47.159225Z",
     "start_time": "2022-01-08T06:25:46.867405Z"
    }
   },
   "outputs": [
    {
     "name": "stdout",
     "output_type": "stream",
     "text": [
      "[*********************100%***********************]  1 of 1 completed\n"
     ]
    }
   ],
   "source": [
    "aapl_data, feature_names = add_features_target(aapl_data)"
   ]
  },
  {
   "cell_type": "markdown",
   "id": "6ee2899b",
   "metadata": {},
   "source": [
    "## Scale Features"
   ]
  },
  {
   "cell_type": "code",
   "execution_count": 10,
   "id": "7ca0fda0",
   "metadata": {
    "ExecuteTime": {
     "end_time": "2022-01-08T06:25:47.163960Z",
     "start_time": "2022-01-08T06:25:47.161924Z"
    },
    "scrolled": false
   },
   "outputs": [],
   "source": [
    "def scale_features(df):\n",
    "    #Instantiate scaler\n",
    "    scaler = StandardScaler()\n",
    "    #fit and transform features\n",
    "    df[feature_names] = scaler.fit_transform(df[feature_names])\n",
    "    #Show scaled features\n",
    "    return df"
   ]
  },
  {
   "cell_type": "code",
   "execution_count": 11,
   "id": "56a2df1b",
   "metadata": {
    "ExecuteTime": {
     "end_time": "2022-01-08T06:25:47.169900Z",
     "start_time": "2022-01-08T06:25:47.164916Z"
    },
    "scrolled": false
   },
   "outputs": [],
   "source": [
    "# Scale features only but not target label\n",
    "aapl_data = scale_features(aapl_data)"
   ]
  },
  {
   "cell_type": "markdown",
   "id": "dc88aafb",
   "metadata": {},
   "source": [
    "## Splitting into train and test sets chronologically"
   ]
  },
  {
   "cell_type": "code",
   "execution_count": 12,
   "id": "60679e6f",
   "metadata": {
    "ExecuteTime": {
     "end_time": "2022-01-08T06:25:47.176473Z",
     "start_time": "2022-01-08T06:25:47.170874Z"
    },
    "scrolled": true
   },
   "outputs": [],
   "source": [
    "total_train = aapl_data.loc[(aapl_data.index >= \"2018-01-01\") & (aapl_data.index <= \"2020-12-31\")]\n",
    "X_train = total_train[feature_names]\n",
    "y_train = total_train['5d_future_close']\n",
    "total_test = aapl_data.loc[(aapl_data.index >= \"2021-01-01\") & (aapl_data.index <= \"2021-12-23\")]\n",
    "X_test = total_test[feature_names]\n",
    "y_test = total_test['5d_future_close']"
   ]
  },
  {
   "cell_type": "markdown",
   "id": "a6fc1ed9",
   "metadata": {},
   "source": [
    "## Train Test Split"
   ]
  },
  {
   "cell_type": "code",
   "execution_count": 13,
   "id": "07256ee5",
   "metadata": {
    "ExecuteTime": {
     "end_time": "2022-01-08T06:25:47.183344Z",
     "start_time": "2022-01-08T06:25:47.177455Z"
    }
   },
   "outputs": [
    {
     "name": "stdout",
     "output_type": "stream",
     "text": [
      "2018-09-28 00:00:00 2018-10-01 00:00:00 2019-06-28 00:00:00\n",
      "2019-06-28 00:00:00 2019-07-01 00:00:00 2020-03-31 00:00:00\n",
      "2020-03-31 00:00:00 2020-04-01 00:00:00 2020-12-31 00:00:00\n"
     ]
    }
   ],
   "source": [
    "split = train_val_split(X_train, end = '2020-12-31')\n",
    "splits = split.split_by_index()"
   ]
  },
  {
   "cell_type": "markdown",
   "id": "1fb641cc",
   "metadata": {},
   "source": [
    "## Random Grid Search CV"
   ]
  },
  {
   "cell_type": "code",
   "execution_count": 14,
   "id": "61b40dae",
   "metadata": {
    "ExecuteTime": {
     "end_time": "2022-01-08T06:25:47.188752Z",
     "start_time": "2022-01-08T06:25:47.184433Z"
    }
   },
   "outputs": [],
   "source": [
    "def rf_random_grid_search():\n",
    "    \n",
    "    # Trees \n",
    "    n_estimators = [int(x) for x in np.linspace(start = 200, stop = 2000, num = 10)]\n",
    "    # Features to consider at every split\n",
    "    max_features = ['auto', 'sqrt']\n",
    "    # Maximum number of levels in tree\n",
    "    max_depth = [int(x) for x in np.linspace(10, 110, num = 11)]\n",
    "    max_depth.append(None)\n",
    "    # Minimum samples to split a node\n",
    "    min_samples_split = [2, 5, 10]\n",
    "    # Minimum number at each leaf node\n",
    "    min_samples_leaf = [1, 2, 4]\n",
    "    # Method of selecting samples at each tree\n",
    "    bootstrap = [True, False]\n",
    "\n",
    "    # Create the random grid\n",
    "    random_grid = {'n_estimators': n_estimators,\n",
    "                   'max_features': max_features,\n",
    "                   'max_depth': max_depth,\n",
    "                   'min_samples_split': min_samples_split,\n",
    "                   'min_samples_leaf': min_samples_leaf,\n",
    "                   'bootstrap': bootstrap}\n",
    "    # Instantiate model\n",
    "    rf = RandomForestRegressor()\n",
    "    # Random search of parameters with 5 folds\n",
    "    model = RandomizedSearchCV(estimator = rf, param_distributions = random_grid, scoring = 'neg_mean_squared_error', n_iter = 10, cv = splits, verbose=2, random_state=42, n_jobs = -1)\n",
    "    \n",
    "    return model"
   ]
  },
  {
   "cell_type": "markdown",
   "id": "81f9a3d2",
   "metadata": {},
   "source": [
    "## Train the model"
   ]
  },
  {
   "cell_type": "code",
   "execution_count": 15,
   "id": "22ac02f9",
   "metadata": {
    "ExecuteTime": {
     "end_time": "2022-01-08T06:26:07.892089Z",
     "start_time": "2022-01-08T06:25:47.189803Z"
    },
    "scrolled": true
   },
   "outputs": [
    {
     "name": "stdout",
     "output_type": "stream",
     "text": [
      "Fitting 3 folds for each of 10 candidates, totalling 30 fits\n"
     ]
    },
    {
     "data": {
      "text/plain": [
       "RandomizedSearchCV(cv=[([0, 1, 2, 3, 4, 5, 6, 7, 8, 9, 10, 11, 12, 13, 14, 15,\n",
       "                         16, 17, 18, 19, 20, 21, 22, 23, 24, 25, 26, 27, 28, 29, ...],\n",
       "                        [188, 189, 190, 191, 192, 193, 194, 195, 196, 197, 198,\n",
       "                         199, 200, 201, 202, 203, 204, 205, 206, 207, 208, 209,\n",
       "                         210, 211, 212, 213, 214, 215, 216, 217, ...]),\n",
       "                       ([0, 1, 2, 3, 4, 5, 6, 7, 8, 9, 10, 11, 12, 13, 14, 15,\n",
       "                         16, 17, 18, 19, 20, 21, 22, 23, 24, 25, 26, 27, 28, 29, ...],\n",
       "                        [375, 376, 377, 378, 379, 380, 3...\n",
       "                   estimator=RandomForestRegressor(), n_jobs=-1,\n",
       "                   param_distributions={'bootstrap': [True, False],\n",
       "                                        'max_depth': [10, 20, 30, 40, 50, 60,\n",
       "                                                      70, 80, 90, 100, 110,\n",
       "                                                      None],\n",
       "                                        'max_features': ['auto', 'sqrt'],\n",
       "                                        'min_samples_leaf': [1, 2, 4],\n",
       "                                        'min_samples_split': [2, 5, 10],\n",
       "                                        'n_estimators': [200, 400, 600, 800,\n",
       "                                                         1000, 1200, 1400, 1600,\n",
       "                                                         1800, 2000]},\n",
       "                   random_state=42, scoring='neg_mean_squared_error',\n",
       "                   verbose=2)"
      ]
     },
     "execution_count": 15,
     "metadata": {},
     "output_type": "execute_result"
    }
   ],
   "source": [
    "rf_random = rf_random_grid_search()\n",
    "# Fit\n",
    "rf_random.fit(X_train, y_train)"
   ]
  },
  {
   "cell_type": "markdown",
   "id": "e6edb8d6",
   "metadata": {},
   "source": [
    "## Base Model Best Parameters and Score"
   ]
  },
  {
   "cell_type": "code",
   "execution_count": 16,
   "id": "26d8e9d2",
   "metadata": {
    "ExecuteTime": {
     "end_time": "2022-01-08T06:26:07.896048Z",
     "start_time": "2022-01-08T06:26:07.893160Z"
    }
   },
   "outputs": [
    {
     "data": {
      "text/plain": [
       "{'n_estimators': 2000,\n",
       " 'min_samples_split': 2,\n",
       " 'min_samples_leaf': 2,\n",
       " 'max_features': 'auto',\n",
       " 'max_depth': 50,\n",
       " 'bootstrap': False}"
      ]
     },
     "execution_count": 16,
     "metadata": {},
     "output_type": "execute_result"
    }
   ],
   "source": [
    "rf_random.best_params_"
   ]
  },
  {
   "cell_type": "code",
   "execution_count": 17,
   "id": "17c244b3",
   "metadata": {
    "ExecuteTime": {
     "end_time": "2022-01-08T06:26:07.899121Z",
     "start_time": "2022-01-08T06:26:07.896841Z"
    },
    "scrolled": true
   },
   "outputs": [
    {
     "data": {
      "text/plain": [
       "-499.4086810086533"
      ]
     },
     "execution_count": 17,
     "metadata": {},
     "output_type": "execute_result"
    }
   ],
   "source": [
    "(rf_random.best_score_)"
   ]
  },
  {
   "cell_type": "markdown",
   "id": "c88fcc5d",
   "metadata": {},
   "source": [
    "## Predict with X_test and Score for y_test"
   ]
  },
  {
   "cell_type": "code",
   "execution_count": 18,
   "id": "e0295ab3",
   "metadata": {
    "ExecuteTime": {
     "end_time": "2022-01-08T06:26:08.007026Z",
     "start_time": "2022-01-08T06:26:07.899948Z"
    }
   },
   "outputs": [],
   "source": [
    "y_pred = rf_random.predict(X_test)"
   ]
  },
  {
   "cell_type": "code",
   "execution_count": 19,
   "id": "e17f2e24",
   "metadata": {
    "ExecuteTime": {
     "end_time": "2022-01-08T06:26:08.011794Z",
     "start_time": "2022-01-08T06:26:08.008001Z"
    },
    "scrolled": true
   },
   "outputs": [
    {
     "data": {
      "text/plain": [
       "14.16418391227759"
      ]
     },
     "execution_count": 19,
     "metadata": {},
     "output_type": "execute_result"
    }
   ],
   "source": [
    "test_score = metrics.mean_absolute_error(y_test, y_pred)\n",
    "test_score"
   ]
  },
  {
   "cell_type": "markdown",
   "id": "24ab9c29",
   "metadata": {},
   "source": [
    "## Check for 247 rows"
   ]
  },
  {
   "cell_type": "code",
   "execution_count": 20,
   "id": "6d989610",
   "metadata": {
    "ExecuteTime": {
     "end_time": "2022-01-08T06:26:08.015561Z",
     "start_time": "2022-01-08T06:26:08.012876Z"
    }
   },
   "outputs": [
    {
     "data": {
      "text/plain": [
       "True"
      ]
     },
     "execution_count": 20,
     "metadata": {},
     "output_type": "execute_result"
    }
   ],
   "source": [
    "len(y_pred) == 247"
   ]
  },
  {
   "cell_type": "markdown",
   "id": "a04cfed8",
   "metadata": {},
   "source": [
    "## Create dataframe with actual and predicted y-values"
   ]
  },
  {
   "cell_type": "code",
   "execution_count": 21,
   "id": "e0a8c93b",
   "metadata": {
    "ExecuteTime": {
     "end_time": "2022-01-08T06:26:08.029822Z",
     "start_time": "2022-01-08T06:26:08.016471Z"
    }
   },
   "outputs": [
    {
     "data": {
      "text/html": [
       "<div>\n",
       "<style scoped>\n",
       "    .dataframe tbody tr th:only-of-type {\n",
       "        vertical-align: middle;\n",
       "    }\n",
       "\n",
       "    .dataframe tbody tr th {\n",
       "        vertical-align: top;\n",
       "    }\n",
       "\n",
       "    .dataframe thead th {\n",
       "        text-align: right;\n",
       "    }\n",
       "</style>\n",
       "<table border=\"1\" class=\"dataframe\">\n",
       "  <thead>\n",
       "    <tr style=\"text-align: right;\">\n",
       "      <th></th>\n",
       "      <th>Actual</th>\n",
       "      <th>RF_pred</th>\n",
       "      <th>Residual</th>\n",
       "    </tr>\n",
       "    <tr>\n",
       "      <th>Date</th>\n",
       "      <th></th>\n",
       "      <th></th>\n",
       "      <th></th>\n",
       "    </tr>\n",
       "  </thead>\n",
       "  <tbody>\n",
       "    <tr>\n",
       "      <th>2021-01-04</th>\n",
       "      <td>128.189728</td>\n",
       "      <td>134.023841</td>\n",
       "      <td>5.834113</td>\n",
       "    </tr>\n",
       "    <tr>\n",
       "      <th>2021-01-05</th>\n",
       "      <td>128.010849</td>\n",
       "      <td>130.505458</td>\n",
       "      <td>2.494609</td>\n",
       "    </tr>\n",
       "    <tr>\n",
       "      <th>2021-01-06</th>\n",
       "      <td>130.088028</td>\n",
       "      <td>134.023841</td>\n",
       "      <td>3.935813</td>\n",
       "    </tr>\n",
       "    <tr>\n",
       "      <th>2021-01-07</th>\n",
       "      <td>128.120178</td>\n",
       "      <td>129.545601</td>\n",
       "      <td>1.425423</td>\n",
       "    </tr>\n",
       "    <tr>\n",
       "      <th>2021-01-08</th>\n",
       "      <td>126.361015</td>\n",
       "      <td>130.023504</td>\n",
       "      <td>3.662489</td>\n",
       "    </tr>\n",
       "    <tr>\n",
       "      <th>...</th>\n",
       "      <td>...</td>\n",
       "      <td>...</td>\n",
       "      <td>...</td>\n",
       "    </tr>\n",
       "    <tr>\n",
       "      <th>2021-12-17</th>\n",
       "      <td>180.330002</td>\n",
       "      <td>133.170703</td>\n",
       "      <td>-47.159299</td>\n",
       "    </tr>\n",
       "    <tr>\n",
       "      <th>2021-12-20</th>\n",
       "      <td>179.289993</td>\n",
       "      <td>130.027554</td>\n",
       "      <td>-49.262439</td>\n",
       "    </tr>\n",
       "    <tr>\n",
       "      <th>2021-12-21</th>\n",
       "      <td>179.380005</td>\n",
       "      <td>131.011324</td>\n",
       "      <td>-48.368681</td>\n",
       "    </tr>\n",
       "    <tr>\n",
       "      <th>2021-12-22</th>\n",
       "      <td>178.199997</td>\n",
       "      <td>131.011324</td>\n",
       "      <td>-47.188673</td>\n",
       "    </tr>\n",
       "    <tr>\n",
       "      <th>2021-12-23</th>\n",
       "      <td>177.570007</td>\n",
       "      <td>131.011324</td>\n",
       "      <td>-46.558683</td>\n",
       "    </tr>\n",
       "  </tbody>\n",
       "</table>\n",
       "<p>247 rows × 3 columns</p>\n",
       "</div>"
      ],
      "text/plain": [
       "                Actual     RF_pred   Residual\n",
       "Date                                         \n",
       "2021-01-04  128.189728  134.023841   5.834113\n",
       "2021-01-05  128.010849  130.505458   2.494609\n",
       "2021-01-06  130.088028  134.023841   3.935813\n",
       "2021-01-07  128.120178  129.545601   1.425423\n",
       "2021-01-08  126.361015  130.023504   3.662489\n",
       "...                ...         ...        ...\n",
       "2021-12-17  180.330002  133.170703 -47.159299\n",
       "2021-12-20  179.289993  130.027554 -49.262439\n",
       "2021-12-21  179.380005  131.011324 -48.368681\n",
       "2021-12-22  178.199997  131.011324 -47.188673\n",
       "2021-12-23  177.570007  131.011324 -46.558683\n",
       "\n",
       "[247 rows x 3 columns]"
      ]
     },
     "execution_count": 21,
     "metadata": {},
     "output_type": "execute_result"
    }
   ],
   "source": [
    "y_values = pd.DataFrame(y_test).rename(columns={\"5d_future_close\": \"Actual\"})\n",
    "y_values['RF_pred'] = y_pred\n",
    "y_values['Residual'] = y_values[\"RF_pred\"] - y_values[\"Actual\"]\n",
    "y_values"
   ]
  },
  {
   "cell_type": "code",
   "execution_count": null,
   "id": "ca0b9313",
   "metadata": {},
   "outputs": [],
   "source": []
  }
 ],
 "metadata": {
  "kernelspec": {
   "display_name": "Python 3 (ipykernel)",
   "language": "python",
   "name": "python3"
  },
  "language_info": {
   "codemirror_mode": {
    "name": "ipython",
    "version": 3
   },
   "file_extension": ".py",
   "mimetype": "text/x-python",
   "name": "python",
   "nbconvert_exporter": "python",
   "pygments_lexer": "ipython3",
   "version": "3.8.12"
  },
  "toc": {
   "base_numbering": 1,
   "nav_menu": {},
   "number_sections": true,
   "sideBar": true,
   "skip_h1_title": false,
   "title_cell": "Table of Contents",
   "title_sidebar": "Contents",
   "toc_cell": false,
   "toc_position": {},
   "toc_section_display": true,
   "toc_window_display": true
  },
  "varInspector": {
   "cols": {
    "lenName": 16,
    "lenType": 16,
    "lenVar": 40
   },
   "kernels_config": {
    "python": {
     "delete_cmd_postfix": "",
     "delete_cmd_prefix": "del ",
     "library": "var_list.py",
     "varRefreshCmd": "print(var_dic_list())"
    },
    "r": {
     "delete_cmd_postfix": ") ",
     "delete_cmd_prefix": "rm(",
     "library": "var_list.r",
     "varRefreshCmd": "cat(var_dic_list()) "
    }
   },
   "types_to_exclude": [
    "module",
    "function",
    "builtin_function_or_method",
    "instance",
    "_Feature"
   ],
   "window_display": false
  }
 },
 "nbformat": 4,
 "nbformat_minor": 5
}
