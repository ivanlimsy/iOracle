{
 "cells": [
  {
   "cell_type": "markdown",
   "id": "6149bbbb",
   "metadata": {},
   "source": [
    "## Notes"
   ]
  },
  {
   "cell_type": "markdown",
   "id": "1dfae296",
   "metadata": {},
   "source": [
    "Parameters to tune:\n",
    "- type of DL model (e.g. simple rnn, lstm)\n",
    "- architecture of DL model (e.g. 1-3 layers of rnn, units of rnn)\n",
    "- params of rnn model: stacking, in/out\n",
    "\n",
    "Note:\n",
    "- No padding as we can get the full sequence of 30 observations of every feature since we have all the daily data\n",
    "\n",
    "Todo's:\n",
    "- redo train-test-split to become timeseriessplit\n",
    "- learning rate\n",
    "\n",
    "Done:\n",
    "- stacking LSTM's\n",
    "\n",
    "Questions:\n",
    "- 27/12/21: when stacking RNNs, 2nd layer RNN results in worse numbers?"
   ]
  },
  {
   "cell_type": "markdown",
   "id": "45732d15",
   "metadata": {},
   "source": [
    "## Imports and exporting data"
   ]
  },
  {
   "cell_type": "code",
   "execution_count": 361,
   "id": "0c8e84fc",
   "metadata": {
    "ExecuteTime": {
     "end_time": "2022-01-07T16:40:03.748982Z",
     "start_time": "2022-01-07T16:40:03.735593Z"
    }
   },
   "outputs": [],
   "source": [
    "import datetime as dt\n",
    "import numpy as np\n",
    "import pandas as pd\n",
    "pd.options.display.float_format = '{:,.4f}'.format\n",
    "import math\n",
    "\n",
    "import requests\n",
    "import matplotlib.pyplot as plt\n",
    "import yfinance as yf\n",
    "import ta\n",
    "\n",
    "from sklearn.preprocessing import StandardScaler\n",
    "from sklearn.model_selection import train_test_split\n",
    "\n",
    "from tensorflow.keras.models import Sequential\n",
    "from tensorflow.keras.layers import Normalization, Dense, SimpleRNN, LSTM\n",
    "from tensorflow.keras.callbacks import EarlyStopping\n",
    "from tensorflow.keras import regularizers"
   ]
  },
  {
   "cell_type": "code",
   "execution_count": 33,
   "id": "b7875098",
   "metadata": {
    "ExecuteTime": {
     "end_time": "2021-12-26T08:26:19.872388Z",
     "start_time": "2021-12-26T08:26:19.030029Z"
    }
   },
   "outputs": [
    {
     "name": "stdout",
     "output_type": "stream",
     "text": [
      "[*********************100%***********************]  1 of 1 completed\n",
      "[*********************100%***********************]  1 of 1 completed\n"
     ]
    }
   ],
   "source": [
    "#Downloading from yfinance\n",
    "df=yf.download('AAPL','2017-01-01','2020-12-31')\n",
    "vix_df = yf.download('^VIX','2017-01-01','2020-12-31')   #for one of the features\n",
    "#Saving file to jupyter notebook folder\n",
    "df.to_csv(\"/Users/ivanlimsweeyong/code/ivanlimsy/jupyter/AAPL.csv\")\n",
    "vix_df.to_csv(\"/Users/ivanlimsweeyong/code/ivanlimsy/jupyter/VIX.csv\")   #for one of the features"
   ]
  },
  {
   "cell_type": "markdown",
   "id": "348ce4f9",
   "metadata": {},
   "source": [
    "## Random Forest replication"
   ]
  },
  {
   "cell_type": "markdown",
   "id": "0059c143",
   "metadata": {},
   "source": [
    "### Importing data"
   ]
  },
  {
   "cell_type": "code",
   "execution_count": 37,
   "id": "55a624d3",
   "metadata": {
    "ExecuteTime": {
     "end_time": "2022-01-07T13:03:26.738477Z",
     "start_time": "2022-01-07T13:03:26.731290Z"
    }
   },
   "outputs": [],
   "source": [
    "def load_data(symbol, params):\n",
    "    start = params['data_start']\n",
    "    end = params['test_end']\n",
    "    df = pd.read_csv(f\"/Users/ivanlimsweeyong/code/ivanlimsy/jupyter/{symbol}.csv\", index_col=0)\n",
    "    df.index = pd.to_datetime(df.index, format='%Y-%m-%d')\n",
    "    if df.index.min()>start or df.index.max()<end:\n",
    "        start_date = \"{0:0=4d}\".format(start.year)+'-'+\"{0:0=2d}\".format(start.month)+'-'+\"{0:0=2d}\".format(start.day)\n",
    "        end_date = \"{0:0=4d}\".format(end.year)+'-'+\"{0:0=2d}\".format(end.month)+'-'+\"{0:0=2d}\".format(end.day)\n",
    "        df = yf.download(f\"{symbol}\",start_date,end_date)\n",
    "        df.to_csv(f\"{symbol}.csv\")\n",
    "    return df"
   ]
  },
  {
   "cell_type": "markdown",
   "id": "36b0f144",
   "metadata": {
    "ExecuteTime": {
     "end_time": "2021-12-26T08:32:22.606496Z",
     "start_time": "2021-12-26T08:32:22.603689Z"
    }
   },
   "source": [
    "### Adding indicators"
   ]
  },
  {
   "cell_type": "code",
   "execution_count": 38,
   "id": "b5b1fefd",
   "metadata": {
    "ExecuteTime": {
     "end_time": "2022-01-07T13:03:28.626878Z",
     "start_time": "2022-01-07T13:03:28.618385Z"
    }
   },
   "outputs": [],
   "source": [
    "def make_features_target(df, params):\n",
    "    #Adding indicators\n",
    "    for days in params['days_list']:\n",
    "        df[f'w_bol_{days}'] = ta.volatility.BollingerBands(df['Adj Close'], window=days, window_dev=2).bollinger_wband()\n",
    "        df[f'rsi_{days}'] = ta.momentum.RSIIndicator(df['Adj Close'], window=days).rsi()\n",
    "        vix_df = load_data(\"^VIX\", params)\n",
    "        #vix_df = pd.read_csv(\"/Users/ivanlimsweeyong/code/ivanlimsy/jupyter/VIX.csv\", index_col=0)\n",
    "        #vix_df.index = pd.to_datetime(vix_df.index, format='%Y-%m-%d')\n",
    "        vix_df.rename(columns={'Adj Close': 'vix_adj_close'}, inplace=True)\n",
    "        df = df.merge(vix_df[['vix_adj_close']], left_index=True, right_index=True)\n",
    "        df[f'ma_{days}'] = ta.trend.SMAIndicator(df['Adj Close'], window=days).sma_indicator()\n",
    "    #df['macd'] = ta.trend.MACD(df['Adj Close'], window_slow=26, window_fast=12, window_sign=9).macd()\n",
    "    #df['roc'] = ta.momentum.ROCIndicator(df['Adj Close'], window=30).roc()\n",
    "    #df['cci'] = ta.trend.CCIIndicator(df['High'], df['Low'], df['Adj Close'], window=30, constant=0.015).cci()\n",
    "    #df['atr'] = ta.volatility.AverageTrueRange(df['High'], df['Low'], df['Adj Close'], window=30).average_true_range()\n",
    "    #df['fast_stocOc'] = ta.momentum.StochasticOscillator(df['High'], df['Low'], df['Adj Close'], window=14, smooth_window=1).stoch()\n",
    "    #df['slow_stocOc'] = ta.momentum.StochasticOscillator(df['High'], df['Low'], df['Adj Close'], window=14, smooth_window=3).stoch()\n",
    "    #df['obv'] = ta.volume.OnBalanceVolumeIndicator(df['Adj Close'], df['Volume']).on_balance_volume()\n",
    "    #Adding target\n",
    "    df['target'] = df['Adj Close'].shift(periods=-(params['fut_days']))\n",
    "    #Dropping irrelevant columns, dropping null rows, and trimming by time period\n",
    "    df.drop(labels=['Open', 'High', 'Low', 'Close'], axis=1, inplace=True)\n",
    "    df.dropna(axis=0, inplace=True)\n",
    "    df = df[df.index>=params['train_start']]\n",
    "    df = df[df.index<=params['test_end']]\n",
    "    return df\n",
    "#Following brendan's features\n",
    "# def make_features_target(df, params):\n",
    "#     #Adding indicators\n",
    "#     for n in [14,30,50,200]:\n",
    "#         df[f\"w_bol_{n}\"] = ta.volatility.BollingerBands(df['Adj Close'], window=n, window_dev=2).bollinger_wband()\n",
    "#         df[f\"rsi_{n}\"] = ta.momentum.RSIIndicator(df['Adj Close'], window=n).rsi()\n",
    "#         df[f\"ma_{n}\"] = ta.trend.SMAIndicator(df['Adj Close'], window=n).sma_indicator()\n",
    "#     #Adding target\n",
    "#     df['target'] = df['Adj Close'].shift(periods=-(params['fut_days']))\n",
    "#     #Dropping irrelevant columns, dropping null rows, and trimming by time period\n",
    "#     df.drop(labels=['Open', 'High', 'Low', 'Close', 'Volume'], axis=1, inplace=True)\n",
    "#     df.dropna(axis=0, inplace=True)\n",
    "#     df = df[df.index>=params['time_start']]\n",
    "#     df = df[df.index<=params['time_end']]\n",
    "#     return df"
   ]
  },
  {
   "cell_type": "markdown",
   "id": "4674742f",
   "metadata": {},
   "source": [
    "### Transform X and Y (changed to random forest structure instead of RNN structure)"
   ]
  },
  {
   "cell_type": "code",
   "execution_count": 46,
   "id": "845d34f8",
   "metadata": {
    "ExecuteTime": {
     "end_time": "2022-01-07T13:05:15.186401Z",
     "start_time": "2022-01-07T13:05:15.176758Z"
    }
   },
   "outputs": [],
   "source": [
    "#slicing [a,b]: loc includes both a & b, while iloc includes a excludes b\n",
    "def transform_data(df, params):\n",
    "    X = df.drop(labels='target', axis=1).copy()\n",
    "    y = df[['target']].copy()\n",
    "    #Setting X_test and y_test\n",
    "    #trainval_length = int(len(df)*(1-params['test_size']))\n",
    "    X_trainval_df = X[X.index<params['test_start']]\n",
    "    y_trainval_df = y[y.index<params['test_start']]\n",
    "    #X_trainval_df = X.iloc[0:trainval_length,:]\n",
    "    #y_trainval_df = y.iloc[0:trainval_length,:]    \n",
    "    X_test_df = X[X.index>=params['test_start']]\n",
    "    y_test_df = y[y.index>=params['test_start']]\n",
    "    #X_test_df = X.iloc[trainval_length:-1,:]\n",
    "    #y_test_df = y.iloc[trainval_length:-1,:]\n",
    "    \n",
    "    #Setting X_train/X_val, and y_train/y_val\n",
    "    #train_length = int(len(X_trainval_df)*(1-params['val_size']))\n",
    "    X_train_df = X_trainval_df[X_trainval_df.index<params['val_start']]\n",
    "    y_train_df = y_trainval_df[y_trainval_df.index<params['val_start']]\n",
    "    #X_train_df = X_trainval_df.iloc[0:train_length,:]\n",
    "    #y_train_df = y_trainval_df.iloc[0:train_length,:]\n",
    "    X_val_df = X_trainval_df[X_trainval_df.index>=params['val_start']]\n",
    "    y_val_df = y_trainval_df[y_trainval_df.index>=params['val_start']]\n",
    "    #X_val_df = X_trainval_df.iloc[train_length:-1,:]\n",
    "    #y_val_df = y_trainval_df.iloc[train_length:-1,:]\n",
    "    \n",
    "    #Scaling X features\n",
    "    scaler = StandardScaler()\n",
    "    X_train_df = pd.DataFrame(scaler.fit_transform(X_train_df))\n",
    "    scaler = StandardScaler()\n",
    "    X_val_df = pd.DataFrame(scaler.fit_transform(X_val_df))\n",
    "    scaler = StandardScaler()\n",
    "    X_test_df = pd.DataFrame(scaler.fit_transform(X_test_df))\n",
    "    \n",
    "    #Shapes: (n_sequences, n_observations, n_features)\n",
    "#     print(f\"Train shapes: X is {X_train.shape} and y is {y_train.shape}\")\n",
    "#     print(f\"Val shapes: X is {X_val.shape} and y is {y_val.shape}\")\n",
    "#     print(f\"Test shapes: X is {X_test.shape} and y is {y_test.shape}\")\n",
    "#     print(f\"Total number of sequences reduced from {len(df)} to {X_train.shape[0]+X_test.shape[0]}\")\n",
    "    return X_train_df, X_val_df, X_test_df, y_train_df, y_val_df, y_test_df"
   ]
  },
  {
   "cell_type": "markdown",
   "id": "414f1da2",
   "metadata": {},
   "source": [
    "### Sampling time series split"
   ]
  },
  {
   "cell_type": "code",
   "execution_count": 388,
   "id": "c1fbd541",
   "metadata": {
    "ExecuteTime": {
     "end_time": "2022-01-07T16:43:49.611034Z",
     "start_time": "2022-01-07T16:43:48.105082Z"
    }
   },
   "outputs": [
    {
     "name": "stdout",
     "output_type": "stream",
     "text": [
      "[*********************100%***********************]  1 of 1 completed\n",
      "[*********************100%***********************]  1 of 1 completed\n",
      "[*********************100%***********************]  1 of 1 completed\n",
      "[*********************100%***********************]  1 of 1 completed\n",
      "176.6999969482422\n"
     ]
    }
   ],
   "source": [
    "params={\n",
    "    'hist_days':60, 'fut_days':3,\n",
    "    'data_start': dt.datetime(2017,1,1,0,0,0),\n",
    "    'train_start':dt.datetime(2018,1,1,0,0,0), 'train_end':dt.datetime(2020,3,31,23,59,59),\n",
    "    'val_start':dt.datetime(2020,4,1,0,0,0), 'val_end':dt.datetime(2020,12,31,23,59,59),\n",
    "    'test_start':dt.datetime(2021,1,1,0,0,0), 'test_end':dt.datetime(2021,12,31,23,59,59),\n",
    "    'days_list':[14,50,200], #'bol_days':30, 'rsi_days':14, 'ma_days': 30,\n",
    "    'val_size': 0.2, 'test_size':0.15, 'batch_size':2, 'epochs':20,\n",
    "    'loss':'mse', 'optimizer':'rmsprop', 'metrics':'mae', 'patience':10,\n",
    "    'train_loss': np.nan, 'val_loss':np.nan, 'test_loss':np.nan, 'test_metric':np.nan,\n",
    "    'last_px':np.nan, 'remarks':''\n",
    "    }\n",
    "df = load_data(\"MMM\", params)\n",
    "df = make_features_target(df, params)\n",
    "print(df.iloc[-1,0])"
   ]
  },
  {
   "cell_type": "code",
   "execution_count": 316,
   "id": "e009acf2",
   "metadata": {
    "ExecuteTime": {
     "end_time": "2022-01-07T16:38:49.528004Z",
     "start_time": "2022-01-07T16:38:49.524397Z"
    }
   },
   "outputs": [],
   "source": [
    "from sklearn.model_selection import TimeSeriesSplit\n",
    "from sklearn.tree import DecisionTreeRegressor\n",
    "from sklearn.model_selection import cross_validate"
   ]
  },
  {
   "cell_type": "code",
   "execution_count": 389,
   "id": "fe6b10b2",
   "metadata": {
    "ExecuteTime": {
     "end_time": "2022-01-07T16:43:52.449473Z",
     "start_time": "2022-01-07T16:43:52.441683Z"
    }
   },
   "outputs": [],
   "source": [
    "X = df.drop('target', axis=1).copy()\n",
    "y = df['target']\n",
    "length = int(len(X)*0.8)\n",
    "X_train = X.iloc[:length,:]; X_test = X.iloc[length:,:]\n",
    "y_train = y[:length]; y_test = y[length:]"
   ]
  },
  {
   "cell_type": "markdown",
   "id": "ec0f8708",
   "metadata": {
    "heading_collapsed": true
   },
   "source": [
    "### DecisionTreeRegressor"
   ]
  },
  {
   "cell_type": "markdown",
   "id": "a71b9ebc",
   "metadata": {
    "heading_collapsed": true,
    "hidden": true
   },
   "source": [
    "#### Method 1 for obtaining cv value for cross-validate\n",
    "- using TimeSeriesSplit().split(X)\n",
    "- which returns a generator object, an acceptable input for cross_validate\n",
    "- however, there is no gap between train and test, i.e.\n",
    "   - y_train crosses over to X_test, and\n",
    "   - X_test overlaps with X_train (5-200 days), though I'm not sure if this is an issue"
   ]
  },
  {
   "cell_type": "code",
   "execution_count": 395,
   "id": "4aa10791",
   "metadata": {
    "ExecuteTime": {
     "end_time": "2022-01-07T16:44:02.606633Z",
     "start_time": "2022-01-07T16:44:02.550577Z"
    },
    "hidden": true
   },
   "outputs": [
    {
     "data": {
      "text/plain": [
       "32.79991374060427"
      ]
     },
     "execution_count": 395,
     "metadata": {},
     "output_type": "execute_result"
    }
   ],
   "source": [
    "tree = DecisionTreeRegressor()\n",
    "train = TimeSeriesSplit().split(X_train)\n",
    "cv_results=cross_validate(tree, X_train, y_train, scoring=\"neg_mean_squared_error\", cv=train)\n",
    "abs(cv_results['test_score'].min())**0.5"
   ]
  },
  {
   "cell_type": "markdown",
   "id": "8758bf2c",
   "metadata": {
    "heading_collapsed": true,
    "hidden": true
   },
   "source": [
    "#### Method 2 for obtaining cv value for cross-validate (can't create iterable)\n",
    "- using TimeSeriesSplit().split(X), but formatting into iterable\n",
    "- which is also an acceptable input for cross_validate\n",
    "- here, it's possible to manually leave out the last 5 entries of each train's fold if we don't want it to overlap into the test's fold\n",
    "- again, I'm not sure if it's important to ensure no overlaps for the time period covered by the indicators themselves from X_test into y_train (Adj close is also a feature, and most indicators are derived from Adj Close anyway"
   ]
  },
  {
   "cell_type": "code",
   "execution_count": 292,
   "id": "af922298",
   "metadata": {
    "ExecuteTime": {
     "end_time": "2022-01-07T16:32:09.075945Z",
     "start_time": "2022-01-07T16:32:09.068804Z"
    },
    "hidden": true
   },
   "outputs": [],
   "source": [
    "counter=0\n",
    "train=[]; test=[]; train_test = []\n",
    "for train_index, test_index in TimeSeriesSplit().split(X):\n",
    "    train = np.array(train_index)\n",
    "    test = np.array(test_index)\n",
    "    train_test.append(zip(train, test))\n",
    "#     train.append(train_index)\n",
    "#     test.append(test_index)\n",
    "#     print(type(train_index))\n",
    "#     print(type(test_index))\n",
    "# train = iter(train); test = iter(test)\n",
    "# train=np.array(train, dtype='object')\n",
    "# test=np.array(test, dtype='object')\n",
    "# train_test = zip(train,test)\n",
    "train_test = np.array(train_test)"
   ]
  },
  {
   "cell_type": "code",
   "execution_count": 289,
   "id": "d4842b23",
   "metadata": {
    "ExecuteTime": {
     "end_time": "2022-01-07T16:30:17.290777Z",
     "start_time": "2022-01-07T16:30:17.276066Z"
    },
    "collapsed": true,
    "hidden": true
   },
   "outputs": [
    {
     "data": {
      "text/plain": [
       "array([array([  0,   1,   2,   3,   4,   5,   6,   7,   8,   9,  10,  11,  12,\n",
       "               13,  14,  15,  16,  17,  18,  19,  20,  21,  22,  23,  24,  25,\n",
       "               26,  27,  28,  29,  30,  31,  32,  33,  34,  35,  36,  37,  38,\n",
       "               39,  40,  41,  42,  43,  44,  45,  46,  47,  48,  49,  50,  51,\n",
       "               52,  53,  54,  55,  56,  57,  58,  59,  60,  61,  62,  63,  64,\n",
       "               65,  66,  67,  68,  69,  70,  71,  72,  73,  74,  75,  76,  77,\n",
       "               78,  79,  80,  81,  82,  83,  84,  85,  86,  87,  88,  89,  90,\n",
       "               91,  92,  93,  94,  95,  96,  97,  98,  99, 100, 101, 102, 103,\n",
       "              104, 105, 106, 107, 108, 109, 110, 111, 112, 113, 114, 115, 116,\n",
       "              117, 118, 119, 120, 121, 122, 123, 124, 125, 126, 127, 128, 129,\n",
       "              130, 131, 132, 133, 134, 135, 136, 137, 138, 139, 140, 141, 142,\n",
       "              143, 144, 145, 146, 147, 148, 149, 150, 151, 152, 153, 154, 155,\n",
       "              156, 157, 158, 159, 160, 161, 162, 163, 164, 165, 166, 167, 168]),\n",
       "       array([  0,   1,   2,   3,   4,   5,   6,   7,   8,   9,  10,  11,  12,\n",
       "               13,  14,  15,  16,  17,  18,  19,  20,  21,  22,  23,  24,  25,\n",
       "               26,  27,  28,  29,  30,  31,  32,  33,  34,  35,  36,  37,  38,\n",
       "               39,  40,  41,  42,  43,  44,  45,  46,  47,  48,  49,  50,  51,\n",
       "               52,  53,  54,  55,  56,  57,  58,  59,  60,  61,  62,  63,  64,\n",
       "               65,  66,  67,  68,  69,  70,  71,  72,  73,  74,  75,  76,  77,\n",
       "               78,  79,  80,  81,  82,  83,  84,  85,  86,  87,  88,  89,  90,\n",
       "               91,  92,  93,  94,  95,  96,  97,  98,  99, 100, 101, 102, 103,\n",
       "              104, 105, 106, 107, 108, 109, 110, 111, 112, 113, 114, 115, 116,\n",
       "              117, 118, 119, 120, 121, 122, 123, 124, 125, 126, 127, 128, 129,\n",
       "              130, 131, 132, 133, 134, 135, 136, 137, 138, 139, 140, 141, 142,\n",
       "              143, 144, 145, 146, 147, 148, 149, 150, 151, 152, 153, 154, 155,\n",
       "              156, 157, 158, 159, 160, 161, 162, 163, 164, 165, 166, 167, 168,\n",
       "              169, 170, 171, 172, 173, 174, 175, 176, 177, 178, 179, 180, 181,\n",
       "              182, 183, 184, 185, 186, 187, 188, 189, 190, 191, 192, 193, 194,\n",
       "              195, 196, 197, 198, 199, 200, 201, 202, 203, 204, 205, 206, 207,\n",
       "              208, 209, 210, 211, 212, 213, 214, 215, 216, 217, 218, 219, 220,\n",
       "              221, 222, 223, 224, 225, 226, 227, 228, 229, 230, 231, 232, 233,\n",
       "              234, 235, 236, 237, 238, 239, 240, 241, 242, 243, 244, 245, 246,\n",
       "              247, 248, 249, 250, 251, 252, 253, 254, 255, 256, 257, 258, 259,\n",
       "              260, 261, 262, 263, 264, 265, 266, 267, 268, 269, 270, 271, 272,\n",
       "              273, 274, 275, 276, 277, 278, 279, 280, 281, 282, 283, 284, 285,\n",
       "              286, 287, 288, 289, 290, 291, 292, 293, 294, 295, 296, 297, 298,\n",
       "              299, 300, 301, 302, 303, 304, 305, 306, 307, 308, 309, 310, 311,\n",
       "              312, 313, 314, 315, 316, 317, 318, 319, 320, 321, 322, 323, 324,\n",
       "              325, 326, 327, 328, 329, 330, 331, 332, 333, 334, 335])         ,\n",
       "       array([  0,   1,   2,   3,   4,   5,   6,   7,   8,   9,  10,  11,  12,\n",
       "               13,  14,  15,  16,  17,  18,  19,  20,  21,  22,  23,  24,  25,\n",
       "               26,  27,  28,  29,  30,  31,  32,  33,  34,  35,  36,  37,  38,\n",
       "               39,  40,  41,  42,  43,  44,  45,  46,  47,  48,  49,  50,  51,\n",
       "               52,  53,  54,  55,  56,  57,  58,  59,  60,  61,  62,  63,  64,\n",
       "               65,  66,  67,  68,  69,  70,  71,  72,  73,  74,  75,  76,  77,\n",
       "               78,  79,  80,  81,  82,  83,  84,  85,  86,  87,  88,  89,  90,\n",
       "               91,  92,  93,  94,  95,  96,  97,  98,  99, 100, 101, 102, 103,\n",
       "              104, 105, 106, 107, 108, 109, 110, 111, 112, 113, 114, 115, 116,\n",
       "              117, 118, 119, 120, 121, 122, 123, 124, 125, 126, 127, 128, 129,\n",
       "              130, 131, 132, 133, 134, 135, 136, 137, 138, 139, 140, 141, 142,\n",
       "              143, 144, 145, 146, 147, 148, 149, 150, 151, 152, 153, 154, 155,\n",
       "              156, 157, 158, 159, 160, 161, 162, 163, 164, 165, 166, 167, 168,\n",
       "              169, 170, 171, 172, 173, 174, 175, 176, 177, 178, 179, 180, 181,\n",
       "              182, 183, 184, 185, 186, 187, 188, 189, 190, 191, 192, 193, 194,\n",
       "              195, 196, 197, 198, 199, 200, 201, 202, 203, 204, 205, 206, 207,\n",
       "              208, 209, 210, 211, 212, 213, 214, 215, 216, 217, 218, 219, 220,\n",
       "              221, 222, 223, 224, 225, 226, 227, 228, 229, 230, 231, 232, 233,\n",
       "              234, 235, 236, 237, 238, 239, 240, 241, 242, 243, 244, 245, 246,\n",
       "              247, 248, 249, 250, 251, 252, 253, 254, 255, 256, 257, 258, 259,\n",
       "              260, 261, 262, 263, 264, 265, 266, 267, 268, 269, 270, 271, 272,\n",
       "              273, 274, 275, 276, 277, 278, 279, 280, 281, 282, 283, 284, 285,\n",
       "              286, 287, 288, 289, 290, 291, 292, 293, 294, 295, 296, 297, 298,\n",
       "              299, 300, 301, 302, 303, 304, 305, 306, 307, 308, 309, 310, 311,\n",
       "              312, 313, 314, 315, 316, 317, 318, 319, 320, 321, 322, 323, 324,\n",
       "              325, 326, 327, 328, 329, 330, 331, 332, 333, 334, 335, 336, 337,\n",
       "              338, 339, 340, 341, 342, 343, 344, 345, 346, 347, 348, 349, 350,\n",
       "              351, 352, 353, 354, 355, 356, 357, 358, 359, 360, 361, 362, 363,\n",
       "              364, 365, 366, 367, 368, 369, 370, 371, 372, 373, 374, 375, 376,\n",
       "              377, 378, 379, 380, 381, 382, 383, 384, 385, 386, 387, 388, 389,\n",
       "              390, 391, 392, 393, 394, 395, 396, 397, 398, 399, 400, 401, 402,\n",
       "              403, 404, 405, 406, 407, 408, 409, 410, 411, 412, 413, 414, 415,\n",
       "              416, 417, 418, 419, 420, 421, 422, 423, 424, 425, 426, 427, 428,\n",
       "              429, 430, 431, 432, 433, 434, 435, 436, 437, 438, 439, 440, 441,\n",
       "              442, 443, 444, 445, 446, 447, 448, 449, 450, 451, 452, 453, 454,\n",
       "              455, 456, 457, 458, 459, 460, 461, 462, 463, 464, 465, 466, 467,\n",
       "              468, 469, 470, 471, 472, 473, 474, 475, 476, 477, 478, 479, 480,\n",
       "              481, 482, 483, 484, 485, 486, 487, 488, 489, 490, 491, 492, 493,\n",
       "              494, 495, 496, 497, 498, 499, 500, 501, 502])                   ,\n",
       "       array([  0,   1,   2,   3,   4,   5,   6,   7,   8,   9,  10,  11,  12,\n",
       "               13,  14,  15,  16,  17,  18,  19,  20,  21,  22,  23,  24,  25,\n",
       "               26,  27,  28,  29,  30,  31,  32,  33,  34,  35,  36,  37,  38,\n",
       "               39,  40,  41,  42,  43,  44,  45,  46,  47,  48,  49,  50,  51,\n",
       "               52,  53,  54,  55,  56,  57,  58,  59,  60,  61,  62,  63,  64,\n",
       "               65,  66,  67,  68,  69,  70,  71,  72,  73,  74,  75,  76,  77,\n",
       "               78,  79,  80,  81,  82,  83,  84,  85,  86,  87,  88,  89,  90,\n",
       "               91,  92,  93,  94,  95,  96,  97,  98,  99, 100, 101, 102, 103,\n",
       "              104, 105, 106, 107, 108, 109, 110, 111, 112, 113, 114, 115, 116,\n",
       "              117, 118, 119, 120, 121, 122, 123, 124, 125, 126, 127, 128, 129,\n",
       "              130, 131, 132, 133, 134, 135, 136, 137, 138, 139, 140, 141, 142,\n",
       "              143, 144, 145, 146, 147, 148, 149, 150, 151, 152, 153, 154, 155,\n",
       "              156, 157, 158, 159, 160, 161, 162, 163, 164, 165, 166, 167, 168,\n",
       "              169, 170, 171, 172, 173, 174, 175, 176, 177, 178, 179, 180, 181,\n",
       "              182, 183, 184, 185, 186, 187, 188, 189, 190, 191, 192, 193, 194,\n",
       "              195, 196, 197, 198, 199, 200, 201, 202, 203, 204, 205, 206, 207,\n",
       "              208, 209, 210, 211, 212, 213, 214, 215, 216, 217, 218, 219, 220,\n",
       "              221, 222, 223, 224, 225, 226, 227, 228, 229, 230, 231, 232, 233,\n",
       "              234, 235, 236, 237, 238, 239, 240, 241, 242, 243, 244, 245, 246,\n",
       "              247, 248, 249, 250, 251, 252, 253, 254, 255, 256, 257, 258, 259,\n",
       "              260, 261, 262, 263, 264, 265, 266, 267, 268, 269, 270, 271, 272,\n",
       "              273, 274, 275, 276, 277, 278, 279, 280, 281, 282, 283, 284, 285,\n",
       "              286, 287, 288, 289, 290, 291, 292, 293, 294, 295, 296, 297, 298,\n",
       "              299, 300, 301, 302, 303, 304, 305, 306, 307, 308, 309, 310, 311,\n",
       "              312, 313, 314, 315, 316, 317, 318, 319, 320, 321, 322, 323, 324,\n",
       "              325, 326, 327, 328, 329, 330, 331, 332, 333, 334, 335, 336, 337,\n",
       "              338, 339, 340, 341, 342, 343, 344, 345, 346, 347, 348, 349, 350,\n",
       "              351, 352, 353, 354, 355, 356, 357, 358, 359, 360, 361, 362, 363,\n",
       "              364, 365, 366, 367, 368, 369, 370, 371, 372, 373, 374, 375, 376,\n",
       "              377, 378, 379, 380, 381, 382, 383, 384, 385, 386, 387, 388, 389,\n",
       "              390, 391, 392, 393, 394, 395, 396, 397, 398, 399, 400, 401, 402,\n",
       "              403, 404, 405, 406, 407, 408, 409, 410, 411, 412, 413, 414, 415,\n",
       "              416, 417, 418, 419, 420, 421, 422, 423, 424, 425, 426, 427, 428,\n",
       "              429, 430, 431, 432, 433, 434, 435, 436, 437, 438, 439, 440, 441,\n",
       "              442, 443, 444, 445, 446, 447, 448, 449, 450, 451, 452, 453, 454,\n",
       "              455, 456, 457, 458, 459, 460, 461, 462, 463, 464, 465, 466, 467,\n",
       "              468, 469, 470, 471, 472, 473, 474, 475, 476, 477, 478, 479, 480,\n",
       "              481, 482, 483, 484, 485, 486, 487, 488, 489, 490, 491, 492, 493,\n",
       "              494, 495, 496, 497, 498, 499, 500, 501, 502, 503, 504, 505, 506,\n",
       "              507, 508, 509, 510, 511, 512, 513, 514, 515, 516, 517, 518, 519,\n",
       "              520, 521, 522, 523, 524, 525, 526, 527, 528, 529, 530, 531, 532,\n",
       "              533, 534, 535, 536, 537, 538, 539, 540, 541, 542, 543, 544, 545,\n",
       "              546, 547, 548, 549, 550, 551, 552, 553, 554, 555, 556, 557, 558,\n",
       "              559, 560, 561, 562, 563, 564, 565, 566, 567, 568, 569, 570, 571,\n",
       "              572, 573, 574, 575, 576, 577, 578, 579, 580, 581, 582, 583, 584,\n",
       "              585, 586, 587, 588, 589, 590, 591, 592, 593, 594, 595, 596, 597,\n",
       "              598, 599, 600, 601, 602, 603, 604, 605, 606, 607, 608, 609, 610,\n",
       "              611, 612, 613, 614, 615, 616, 617, 618, 619, 620, 621, 622, 623,\n",
       "              624, 625, 626, 627, 628, 629, 630, 631, 632, 633, 634, 635, 636,\n",
       "              637, 638, 639, 640, 641, 642, 643, 644, 645, 646, 647, 648, 649,\n",
       "              650, 651, 652, 653, 654, 655, 656, 657, 658, 659, 660, 661, 662,\n",
       "              663, 664, 665, 666, 667, 668, 669])                             ,\n",
       "       array([  0,   1,   2,   3,   4,   5,   6,   7,   8,   9,  10,  11,  12,\n",
       "               13,  14,  15,  16,  17,  18,  19,  20,  21,  22,  23,  24,  25,\n",
       "               26,  27,  28,  29,  30,  31,  32,  33,  34,  35,  36,  37,  38,\n",
       "               39,  40,  41,  42,  43,  44,  45,  46,  47,  48,  49,  50,  51,\n",
       "               52,  53,  54,  55,  56,  57,  58,  59,  60,  61,  62,  63,  64,\n",
       "               65,  66,  67,  68,  69,  70,  71,  72,  73,  74,  75,  76,  77,\n",
       "               78,  79,  80,  81,  82,  83,  84,  85,  86,  87,  88,  89,  90,\n",
       "               91,  92,  93,  94,  95,  96,  97,  98,  99, 100, 101, 102, 103,\n",
       "              104, 105, 106, 107, 108, 109, 110, 111, 112, 113, 114, 115, 116,\n",
       "              117, 118, 119, 120, 121, 122, 123, 124, 125, 126, 127, 128, 129,\n",
       "              130, 131, 132, 133, 134, 135, 136, 137, 138, 139, 140, 141, 142,\n",
       "              143, 144, 145, 146, 147, 148, 149, 150, 151, 152, 153, 154, 155,\n",
       "              156, 157, 158, 159, 160, 161, 162, 163, 164, 165, 166, 167, 168,\n",
       "              169, 170, 171, 172, 173, 174, 175, 176, 177, 178, 179, 180, 181,\n",
       "              182, 183, 184, 185, 186, 187, 188, 189, 190, 191, 192, 193, 194,\n",
       "              195, 196, 197, 198, 199, 200, 201, 202, 203, 204, 205, 206, 207,\n",
       "              208, 209, 210, 211, 212, 213, 214, 215, 216, 217, 218, 219, 220,\n",
       "              221, 222, 223, 224, 225, 226, 227, 228, 229, 230, 231, 232, 233,\n",
       "              234, 235, 236, 237, 238, 239, 240, 241, 242, 243, 244, 245, 246,\n",
       "              247, 248, 249, 250, 251, 252, 253, 254, 255, 256, 257, 258, 259,\n",
       "              260, 261, 262, 263, 264, 265, 266, 267, 268, 269, 270, 271, 272,\n",
       "              273, 274, 275, 276, 277, 278, 279, 280, 281, 282, 283, 284, 285,\n",
       "              286, 287, 288, 289, 290, 291, 292, 293, 294, 295, 296, 297, 298,\n",
       "              299, 300, 301, 302, 303, 304, 305, 306, 307, 308, 309, 310, 311,\n",
       "              312, 313, 314, 315, 316, 317, 318, 319, 320, 321, 322, 323, 324,\n",
       "              325, 326, 327, 328, 329, 330, 331, 332, 333, 334, 335, 336, 337,\n",
       "              338, 339, 340, 341, 342, 343, 344, 345, 346, 347, 348, 349, 350,\n",
       "              351, 352, 353, 354, 355, 356, 357, 358, 359, 360, 361, 362, 363,\n",
       "              364, 365, 366, 367, 368, 369, 370, 371, 372, 373, 374, 375, 376,\n",
       "              377, 378, 379, 380, 381, 382, 383, 384, 385, 386, 387, 388, 389,\n",
       "              390, 391, 392, 393, 394, 395, 396, 397, 398, 399, 400, 401, 402,\n",
       "              403, 404, 405, 406, 407, 408, 409, 410, 411, 412, 413, 414, 415,\n",
       "              416, 417, 418, 419, 420, 421, 422, 423, 424, 425, 426, 427, 428,\n",
       "              429, 430, 431, 432, 433, 434, 435, 436, 437, 438, 439, 440, 441,\n",
       "              442, 443, 444, 445, 446, 447, 448, 449, 450, 451, 452, 453, 454,\n",
       "              455, 456, 457, 458, 459, 460, 461, 462, 463, 464, 465, 466, 467,\n",
       "              468, 469, 470, 471, 472, 473, 474, 475, 476, 477, 478, 479, 480,\n",
       "              481, 482, 483, 484, 485, 486, 487, 488, 489, 490, 491, 492, 493,\n",
       "              494, 495, 496, 497, 498, 499, 500, 501, 502, 503, 504, 505, 506,\n",
       "              507, 508, 509, 510, 511, 512, 513, 514, 515, 516, 517, 518, 519,\n",
       "              520, 521, 522, 523, 524, 525, 526, 527, 528, 529, 530, 531, 532,\n",
       "              533, 534, 535, 536, 537, 538, 539, 540, 541, 542, 543, 544, 545,\n",
       "              546, 547, 548, 549, 550, 551, 552, 553, 554, 555, 556, 557, 558,\n",
       "              559, 560, 561, 562, 563, 564, 565, 566, 567, 568, 569, 570, 571,\n",
       "              572, 573, 574, 575, 576, 577, 578, 579, 580, 581, 582, 583, 584,\n",
       "              585, 586, 587, 588, 589, 590, 591, 592, 593, 594, 595, 596, 597,\n",
       "              598, 599, 600, 601, 602, 603, 604, 605, 606, 607, 608, 609, 610,\n",
       "              611, 612, 613, 614, 615, 616, 617, 618, 619, 620, 621, 622, 623,\n",
       "              624, 625, 626, 627, 628, 629, 630, 631, 632, 633, 634, 635, 636,\n",
       "              637, 638, 639, 640, 641, 642, 643, 644, 645, 646, 647, 648, 649,\n",
       "              650, 651, 652, 653, 654, 655, 656, 657, 658, 659, 660, 661, 662,\n",
       "              663, 664, 665, 666, 667, 668, 669, 670, 671, 672, 673, 674, 675,\n",
       "              676, 677, 678, 679, 680, 681, 682, 683, 684, 685, 686, 687, 688,\n",
       "              689, 690, 691, 692, 693, 694, 695, 696, 697, 698, 699, 700, 701,\n",
       "              702, 703, 704, 705, 706, 707, 708, 709, 710, 711, 712, 713, 714,\n",
       "              715, 716, 717, 718, 719, 720, 721, 722, 723, 724, 725, 726, 727,\n",
       "              728, 729, 730, 731, 732, 733, 734, 735, 736, 737, 738, 739, 740,\n",
       "              741, 742, 743, 744, 745, 746, 747, 748, 749, 750, 751, 752, 753,\n",
       "              754, 755, 756, 757, 758, 759, 760, 761, 762, 763, 764, 765, 766,\n",
       "              767, 768, 769, 770, 771, 772, 773, 774, 775, 776, 777, 778, 779,\n",
       "              780, 781, 782, 783, 784, 785, 786, 787, 788, 789, 790, 791, 792,\n",
       "              793, 794, 795, 796, 797, 798, 799, 800, 801, 802, 803, 804, 805,\n",
       "              806, 807, 808, 809, 810, 811, 812, 813, 814, 815, 816, 817, 818,\n",
       "              819, 820, 821, 822, 823, 824, 825, 826, 827, 828, 829, 830, 831,\n",
       "              832, 833, 834, 835, 836])                                       ],\n",
       "      dtype=object)"
      ]
     },
     "execution_count": 289,
     "metadata": {},
     "output_type": "execute_result"
    }
   ],
   "source": [
    "train"
   ]
  },
  {
   "cell_type": "code",
   "execution_count": 286,
   "id": "76867cef",
   "metadata": {
    "ExecuteTime": {
     "end_time": "2022-01-07T16:29:17.091216Z",
     "start_time": "2022-01-07T16:29:17.086217Z"
    },
    "hidden": true
   },
   "outputs": [
    {
     "name": "stdout",
     "output_type": "stream",
     "text": [
      "2\n",
      "(5,)\n"
     ]
    }
   ],
   "source": [
    "print(len(train_test))\n",
    "print(train_test[0].shape)"
   ]
  },
  {
   "cell_type": "code",
   "execution_count": 293,
   "id": "6764fc41",
   "metadata": {
    "ExecuteTime": {
     "end_time": "2022-01-07T16:32:11.349916Z",
     "start_time": "2022-01-07T16:32:11.342499Z"
    },
    "hidden": true
   },
   "outputs": [
    {
     "data": {
      "text/plain": [
       "()"
      ]
     },
     "execution_count": 293,
     "metadata": {},
     "output_type": "execute_result"
    }
   ],
   "source": [
    "test[0].shape"
   ]
  },
  {
   "cell_type": "code",
   "execution_count": 294,
   "id": "a93f36d4",
   "metadata": {
    "ExecuteTime": {
     "end_time": "2022-01-07T16:32:12.951830Z",
     "start_time": "2022-01-07T16:32:12.924337Z"
    },
    "hidden": true
   },
   "outputs": [
    {
     "ename": "ValueError",
     "evalue": "too many values to unpack (expected 2)",
     "output_type": "error",
     "traceback": [
      "\u001b[0;31m---------------------------------------------------------------------------\u001b[0m",
      "\u001b[0;31mEmpty\u001b[0m                                     Traceback (most recent call last)",
      "\u001b[0;32m~/.pyenv/versions/3.8.6/envs/iOracle/lib/python3.8/site-packages/joblib/parallel.py\u001b[0m in \u001b[0;36mdispatch_one_batch\u001b[0;34m(self, iterator)\u001b[0m\n\u001b[1;32m    821\u001b[0m             \u001b[0;32mtry\u001b[0m\u001b[0;34m:\u001b[0m\u001b[0;34m\u001b[0m\u001b[0;34m\u001b[0m\u001b[0m\n\u001b[0;32m--> 822\u001b[0;31m                 \u001b[0mtasks\u001b[0m \u001b[0;34m=\u001b[0m \u001b[0mself\u001b[0m\u001b[0;34m.\u001b[0m\u001b[0m_ready_batches\u001b[0m\u001b[0;34m.\u001b[0m\u001b[0mget\u001b[0m\u001b[0;34m(\u001b[0m\u001b[0mblock\u001b[0m\u001b[0;34m=\u001b[0m\u001b[0;32mFalse\u001b[0m\u001b[0;34m)\u001b[0m\u001b[0;34m\u001b[0m\u001b[0;34m\u001b[0m\u001b[0m\n\u001b[0m\u001b[1;32m    823\u001b[0m             \u001b[0;32mexcept\u001b[0m \u001b[0mqueue\u001b[0m\u001b[0;34m.\u001b[0m\u001b[0mEmpty\u001b[0m\u001b[0;34m:\u001b[0m\u001b[0;34m\u001b[0m\u001b[0;34m\u001b[0m\u001b[0m\n",
      "\u001b[0;32m~/.pyenv/versions/3.8.6/lib/python3.8/queue.py\u001b[0m in \u001b[0;36mget\u001b[0;34m(self, block, timeout)\u001b[0m\n\u001b[1;32m    166\u001b[0m                 \u001b[0;32mif\u001b[0m \u001b[0;32mnot\u001b[0m \u001b[0mself\u001b[0m\u001b[0;34m.\u001b[0m\u001b[0m_qsize\u001b[0m\u001b[0;34m(\u001b[0m\u001b[0;34m)\u001b[0m\u001b[0;34m:\u001b[0m\u001b[0;34m\u001b[0m\u001b[0;34m\u001b[0m\u001b[0m\n\u001b[0;32m--> 167\u001b[0;31m                     \u001b[0;32mraise\u001b[0m \u001b[0mEmpty\u001b[0m\u001b[0;34m\u001b[0m\u001b[0;34m\u001b[0m\u001b[0m\n\u001b[0m\u001b[1;32m    168\u001b[0m             \u001b[0;32melif\u001b[0m \u001b[0mtimeout\u001b[0m \u001b[0;32mis\u001b[0m \u001b[0;32mNone\u001b[0m\u001b[0;34m:\u001b[0m\u001b[0;34m\u001b[0m\u001b[0;34m\u001b[0m\u001b[0m\n",
      "\u001b[0;31mEmpty\u001b[0m: ",
      "\nDuring handling of the above exception, another exception occurred:\n",
      "\u001b[0;31mValueError\u001b[0m                                Traceback (most recent call last)",
      "\u001b[0;32m/var/folders/bn/0j_20fj56f9756v0cmcxf0dh0000gn/T/ipykernel_6481/399310070.py\u001b[0m in \u001b[0;36m<module>\u001b[0;34m\u001b[0m\n\u001b[0;32m----> 1\u001b[0;31m \u001b[0mcv_results\u001b[0m\u001b[0;34m=\u001b[0m\u001b[0mcross_validate\u001b[0m\u001b[0;34m(\u001b[0m\u001b[0mtree\u001b[0m\u001b[0;34m,\u001b[0m \u001b[0mX\u001b[0m\u001b[0;34m,\u001b[0m \u001b[0my\u001b[0m\u001b[0;34m,\u001b[0m \u001b[0mscoring\u001b[0m\u001b[0;34m=\u001b[0m\u001b[0;34m\"neg_mean_squared_error\"\u001b[0m\u001b[0;34m,\u001b[0m \u001b[0mcv\u001b[0m\u001b[0;34m=\u001b[0m\u001b[0mtrain_test\u001b[0m\u001b[0;34m)\u001b[0m\u001b[0;34m\u001b[0m\u001b[0;34m\u001b[0m\u001b[0m\n\u001b[0m",
      "\u001b[0;32m~/.pyenv/versions/3.8.6/envs/iOracle/lib/python3.8/site-packages/sklearn/model_selection/_validation.py\u001b[0m in \u001b[0;36mcross_validate\u001b[0;34m(estimator, X, y, groups, scoring, cv, n_jobs, verbose, fit_params, pre_dispatch, return_train_score, return_estimator, error_score)\u001b[0m\n\u001b[1;32m    265\u001b[0m     \u001b[0;31m# independent, and that it is pickle-able.\u001b[0m\u001b[0;34m\u001b[0m\u001b[0;34m\u001b[0m\u001b[0;34m\u001b[0m\u001b[0m\n\u001b[1;32m    266\u001b[0m     \u001b[0mparallel\u001b[0m \u001b[0;34m=\u001b[0m \u001b[0mParallel\u001b[0m\u001b[0;34m(\u001b[0m\u001b[0mn_jobs\u001b[0m\u001b[0;34m=\u001b[0m\u001b[0mn_jobs\u001b[0m\u001b[0;34m,\u001b[0m \u001b[0mverbose\u001b[0m\u001b[0;34m=\u001b[0m\u001b[0mverbose\u001b[0m\u001b[0;34m,\u001b[0m \u001b[0mpre_dispatch\u001b[0m\u001b[0;34m=\u001b[0m\u001b[0mpre_dispatch\u001b[0m\u001b[0;34m)\u001b[0m\u001b[0;34m\u001b[0m\u001b[0;34m\u001b[0m\u001b[0m\n\u001b[0;32m--> 267\u001b[0;31m     results = parallel(\n\u001b[0m\u001b[1;32m    268\u001b[0m         delayed(_fit_and_score)(\n\u001b[1;32m    269\u001b[0m             \u001b[0mclone\u001b[0m\u001b[0;34m(\u001b[0m\u001b[0mestimator\u001b[0m\u001b[0;34m)\u001b[0m\u001b[0;34m,\u001b[0m\u001b[0;34m\u001b[0m\u001b[0;34m\u001b[0m\u001b[0m\n",
      "\u001b[0;32m~/.pyenv/versions/3.8.6/envs/iOracle/lib/python3.8/site-packages/joblib/parallel.py\u001b[0m in \u001b[0;36m__call__\u001b[0;34m(self, iterable)\u001b[0m\n\u001b[1;32m   1041\u001b[0m             \u001b[0;31m# remaining jobs.\u001b[0m\u001b[0;34m\u001b[0m\u001b[0;34m\u001b[0m\u001b[0;34m\u001b[0m\u001b[0m\n\u001b[1;32m   1042\u001b[0m             \u001b[0mself\u001b[0m\u001b[0;34m.\u001b[0m\u001b[0m_iterating\u001b[0m \u001b[0;34m=\u001b[0m \u001b[0;32mFalse\u001b[0m\u001b[0;34m\u001b[0m\u001b[0;34m\u001b[0m\u001b[0m\n\u001b[0;32m-> 1043\u001b[0;31m             \u001b[0;32mif\u001b[0m \u001b[0mself\u001b[0m\u001b[0;34m.\u001b[0m\u001b[0mdispatch_one_batch\u001b[0m\u001b[0;34m(\u001b[0m\u001b[0miterator\u001b[0m\u001b[0;34m)\u001b[0m\u001b[0;34m:\u001b[0m\u001b[0;34m\u001b[0m\u001b[0;34m\u001b[0m\u001b[0m\n\u001b[0m\u001b[1;32m   1044\u001b[0m                 \u001b[0mself\u001b[0m\u001b[0;34m.\u001b[0m\u001b[0m_iterating\u001b[0m \u001b[0;34m=\u001b[0m \u001b[0mself\u001b[0m\u001b[0;34m.\u001b[0m\u001b[0m_original_iterator\u001b[0m \u001b[0;32mis\u001b[0m \u001b[0;32mnot\u001b[0m \u001b[0;32mNone\u001b[0m\u001b[0;34m\u001b[0m\u001b[0;34m\u001b[0m\u001b[0m\n\u001b[1;32m   1045\u001b[0m \u001b[0;34m\u001b[0m\u001b[0m\n",
      "\u001b[0;32m~/.pyenv/versions/3.8.6/envs/iOracle/lib/python3.8/site-packages/joblib/parallel.py\u001b[0m in \u001b[0;36mdispatch_one_batch\u001b[0;34m(self, iterator)\u001b[0m\n\u001b[1;32m    831\u001b[0m                 \u001b[0mbig_batch_size\u001b[0m \u001b[0;34m=\u001b[0m \u001b[0mbatch_size\u001b[0m \u001b[0;34m*\u001b[0m \u001b[0mn_jobs\u001b[0m\u001b[0;34m\u001b[0m\u001b[0;34m\u001b[0m\u001b[0m\n\u001b[1;32m    832\u001b[0m \u001b[0;34m\u001b[0m\u001b[0m\n\u001b[0;32m--> 833\u001b[0;31m                 \u001b[0mislice\u001b[0m \u001b[0;34m=\u001b[0m \u001b[0mlist\u001b[0m\u001b[0;34m(\u001b[0m\u001b[0mitertools\u001b[0m\u001b[0;34m.\u001b[0m\u001b[0mislice\u001b[0m\u001b[0;34m(\u001b[0m\u001b[0miterator\u001b[0m\u001b[0;34m,\u001b[0m \u001b[0mbig_batch_size\u001b[0m\u001b[0;34m)\u001b[0m\u001b[0;34m)\u001b[0m\u001b[0;34m\u001b[0m\u001b[0;34m\u001b[0m\u001b[0m\n\u001b[0m\u001b[1;32m    834\u001b[0m                 \u001b[0;32mif\u001b[0m \u001b[0mlen\u001b[0m\u001b[0;34m(\u001b[0m\u001b[0mislice\u001b[0m\u001b[0;34m)\u001b[0m \u001b[0;34m==\u001b[0m \u001b[0;36m0\u001b[0m\u001b[0;34m:\u001b[0m\u001b[0;34m\u001b[0m\u001b[0;34m\u001b[0m\u001b[0m\n\u001b[1;32m    835\u001b[0m                     \u001b[0;32mreturn\u001b[0m \u001b[0;32mFalse\u001b[0m\u001b[0;34m\u001b[0m\u001b[0;34m\u001b[0m\u001b[0m\n",
      "\u001b[0;32m~/.pyenv/versions/3.8.6/envs/iOracle/lib/python3.8/site-packages/sklearn/model_selection/_validation.py\u001b[0m in \u001b[0;36m<genexpr>\u001b[0;34m(.0)\u001b[0m\n\u001b[1;32m    265\u001b[0m     \u001b[0;31m# independent, and that it is pickle-able.\u001b[0m\u001b[0;34m\u001b[0m\u001b[0;34m\u001b[0m\u001b[0;34m\u001b[0m\u001b[0m\n\u001b[1;32m    266\u001b[0m     \u001b[0mparallel\u001b[0m \u001b[0;34m=\u001b[0m \u001b[0mParallel\u001b[0m\u001b[0;34m(\u001b[0m\u001b[0mn_jobs\u001b[0m\u001b[0;34m=\u001b[0m\u001b[0mn_jobs\u001b[0m\u001b[0;34m,\u001b[0m \u001b[0mverbose\u001b[0m\u001b[0;34m=\u001b[0m\u001b[0mverbose\u001b[0m\u001b[0;34m,\u001b[0m \u001b[0mpre_dispatch\u001b[0m\u001b[0;34m=\u001b[0m\u001b[0mpre_dispatch\u001b[0m\u001b[0;34m)\u001b[0m\u001b[0;34m\u001b[0m\u001b[0;34m\u001b[0m\u001b[0m\n\u001b[0;32m--> 267\u001b[0;31m     results = parallel(\n\u001b[0m\u001b[1;32m    268\u001b[0m         delayed(_fit_and_score)(\n\u001b[1;32m    269\u001b[0m             \u001b[0mclone\u001b[0m\u001b[0;34m(\u001b[0m\u001b[0mestimator\u001b[0m\u001b[0;34m)\u001b[0m\u001b[0;34m,\u001b[0m\u001b[0;34m\u001b[0m\u001b[0;34m\u001b[0m\u001b[0m\n",
      "\u001b[0;32m~/.pyenv/versions/3.8.6/envs/iOracle/lib/python3.8/site-packages/sklearn/model_selection/_split.py\u001b[0m in \u001b[0;36msplit\u001b[0;34m(self, X, y, groups)\u001b[0m\n\u001b[1;32m   2256\u001b[0m             \u001b[0mThe\u001b[0m \u001b[0mtesting\u001b[0m \u001b[0mset\u001b[0m \u001b[0mindices\u001b[0m \u001b[0;32mfor\u001b[0m \u001b[0mthat\u001b[0m \u001b[0msplit\u001b[0m\u001b[0;34m.\u001b[0m\u001b[0;34m\u001b[0m\u001b[0;34m\u001b[0m\u001b[0m\n\u001b[1;32m   2257\u001b[0m         \"\"\"\n\u001b[0;32m-> 2258\u001b[0;31m         \u001b[0;32mfor\u001b[0m \u001b[0mtrain\u001b[0m\u001b[0;34m,\u001b[0m \u001b[0mtest\u001b[0m \u001b[0;32min\u001b[0m \u001b[0mself\u001b[0m\u001b[0;34m.\u001b[0m\u001b[0mcv\u001b[0m\u001b[0;34m:\u001b[0m\u001b[0;34m\u001b[0m\u001b[0;34m\u001b[0m\u001b[0m\n\u001b[0m\u001b[1;32m   2259\u001b[0m             \u001b[0;32myield\u001b[0m \u001b[0mtrain\u001b[0m\u001b[0;34m,\u001b[0m \u001b[0mtest\u001b[0m\u001b[0;34m\u001b[0m\u001b[0;34m\u001b[0m\u001b[0m\n\u001b[1;32m   2260\u001b[0m \u001b[0;34m\u001b[0m\u001b[0m\n",
      "\u001b[0;31mValueError\u001b[0m: too many values to unpack (expected 2)"
     ]
    }
   ],
   "source": [
    "cv_results=cross_validate(tree, X, y, scoring=\"neg_mean_squared_error\", cv=train_test)"
   ]
  },
  {
   "cell_type": "code",
   "execution_count": 122,
   "id": "dba12b3c",
   "metadata": {
    "ExecuteTime": {
     "end_time": "2022-01-07T14:50:33.252950Z",
     "start_time": "2022-01-07T14:50:33.240509Z"
    },
    "hidden": true
   },
   "outputs": [
    {
     "data": {
      "text/plain": [
       "{'fit_time': array([0.00486183, 0.00704789, 0.00699711, 0.00966787, 0.0116899 ]),\n",
       " 'score_time': array([0.00325203, 0.00311923, 0.00198865, 0.00176501, 0.00226212]),\n",
       " 'test_score': array([ -62.43688879, -100.42813538, -377.84784372, -103.62815956,\n",
       "        -337.08008449])}"
      ]
     },
     "execution_count": 122,
     "metadata": {},
     "output_type": "execute_result"
    }
   ],
   "source": [
    "cv_results"
   ]
  },
  {
   "cell_type": "code",
   "execution_count": 102,
   "id": "60334115",
   "metadata": {
    "ExecuteTime": {
     "end_time": "2022-01-07T14:08:26.732846Z",
     "start_time": "2022-01-07T14:08:26.723484Z"
    },
    "hidden": true
   },
   "outputs": [
    {
     "data": {
      "text/plain": [
       "generator"
      ]
     },
     "execution_count": 102,
     "metadata": {},
     "output_type": "execute_result"
    }
   ],
   "source": [
    "type(train)"
   ]
  },
  {
   "cell_type": "code",
   "execution_count": 103,
   "id": "73d222ba",
   "metadata": {
    "ExecuteTime": {
     "end_time": "2022-01-07T14:08:39.592628Z",
     "start_time": "2022-01-07T14:08:39.584390Z"
    },
    "hidden": true
   },
   "outputs": [
    {
     "data": {
      "text/plain": [
       "list"
      ]
     },
     "execution_count": 103,
     "metadata": {},
     "output_type": "execute_result"
    }
   ],
   "source": [
    "z=[1,2,3]\n",
    "type(z)"
   ]
  },
  {
   "cell_type": "code",
   "execution_count": 106,
   "id": "7b0325a3",
   "metadata": {
    "ExecuteTime": {
     "end_time": "2022-01-07T14:09:00.065996Z",
     "start_time": "2022-01-07T14:09:00.057742Z"
    },
    "hidden": true
   },
   "outputs": [
    {
     "data": {
      "text/plain": [
       "iterator"
      ]
     },
     "execution_count": 106,
     "metadata": {},
     "output_type": "execute_result"
    }
   ],
   "source": [
    "asd = iter(np.array(z))\n",
    "type(asd)"
   ]
  },
  {
   "cell_type": "code",
   "execution_count": 100,
   "id": "f1d7b648",
   "metadata": {
    "ExecuteTime": {
     "end_time": "2022-01-07T13:54:42.232192Z",
     "start_time": "2022-01-07T13:54:42.213191Z"
    },
    "hidden": true
   },
   "outputs": [
    {
     "name": "stdout",
     "output_type": "stream",
     "text": [
      "1\n",
      "(array([  0,   1,   2,   3,   4,   5,   6,   7,   8,   9,  10,  11,  12,\n",
      "        13,  14,  15,  16,  17,  18,  19,  20,  21,  22,  23,  24,  25,\n",
      "        26,  27,  28,  29,  30,  31,  32,  33,  34,  35,  36,  37,  38,\n",
      "        39,  40,  41,  42,  43,  44,  45,  46,  47,  48,  49,  50,  51,\n",
      "        52,  53,  54,  55,  56,  57,  58,  59,  60,  61,  62,  63,  64,\n",
      "        65,  66,  67,  68,  69,  70,  71,  72,  73,  74,  75,  76,  77,\n",
      "        78,  79,  80,  81,  82,  83,  84,  85,  86,  87,  88,  89,  90,\n",
      "        91,  92,  93,  94,  95,  96,  97,  98,  99, 100, 101, 102, 103,\n",
      "       104, 105, 106, 107, 108, 109, 110, 111, 112, 113, 114, 115, 116,\n",
      "       117, 118, 119, 120, 121, 122, 123, 124, 125, 126, 127, 128, 129,\n",
      "       130, 131, 132, 133, 134, 135, 136, 137, 138, 139, 140, 141, 142,\n",
      "       143, 144, 145, 146, 147, 148, 149, 150, 151, 152, 153, 154, 155,\n",
      "       156, 157, 158, 159, 160, 161, 162, 163, 164, 165, 166, 167, 168]), array([169, 170, 171, 172, 173, 174, 175, 176, 177, 178, 179, 180, 181,\n",
      "       182, 183, 184, 185, 186, 187, 188, 189, 190, 191, 192, 193, 194,\n",
      "       195, 196, 197, 198, 199, 200, 201, 202, 203, 204, 205, 206, 207,\n",
      "       208, 209, 210, 211, 212, 213, 214, 215, 216, 217, 218, 219, 220,\n",
      "       221, 222, 223, 224, 225, 226, 227, 228, 229, 230, 231, 232, 233,\n",
      "       234, 235, 236, 237, 238, 239, 240, 241, 242, 243, 244, 245, 246,\n",
      "       247, 248, 249, 250, 251, 252, 253, 254, 255, 256, 257, 258, 259,\n",
      "       260, 261, 262, 263, 264, 265, 266, 267, 268, 269, 270, 271, 272,\n",
      "       273, 274, 275, 276, 277, 278, 279, 280, 281, 282, 283, 284, 285,\n",
      "       286, 287, 288, 289, 290, 291, 292, 293, 294, 295, 296, 297, 298,\n",
      "       299, 300, 301, 302, 303, 304, 305, 306, 307, 308, 309, 310, 311,\n",
      "       312, 313, 314, 315, 316, 317, 318, 319, 320, 321, 322, 323, 324,\n",
      "       325, 326, 327, 328, 329, 330, 331, 332, 333, 334, 335]))\n",
      "2\n",
      "(array([  0,   1,   2,   3,   4,   5,   6,   7,   8,   9,  10,  11,  12,\n",
      "        13,  14,  15,  16,  17,  18,  19,  20,  21,  22,  23,  24,  25,\n",
      "        26,  27,  28,  29,  30,  31,  32,  33,  34,  35,  36,  37,  38,\n",
      "        39,  40,  41,  42,  43,  44,  45,  46,  47,  48,  49,  50,  51,\n",
      "        52,  53,  54,  55,  56,  57,  58,  59,  60,  61,  62,  63,  64,\n",
      "        65,  66,  67,  68,  69,  70,  71,  72,  73,  74,  75,  76,  77,\n",
      "        78,  79,  80,  81,  82,  83,  84,  85,  86,  87,  88,  89,  90,\n",
      "        91,  92,  93,  94,  95,  96,  97,  98,  99, 100, 101, 102, 103,\n",
      "       104, 105, 106, 107, 108, 109, 110, 111, 112, 113, 114, 115, 116,\n",
      "       117, 118, 119, 120, 121, 122, 123, 124, 125, 126, 127, 128, 129,\n",
      "       130, 131, 132, 133, 134, 135, 136, 137, 138, 139, 140, 141, 142,\n",
      "       143, 144, 145, 146, 147, 148, 149, 150, 151, 152, 153, 154, 155,\n",
      "       156, 157, 158, 159, 160, 161, 162, 163, 164, 165, 166, 167, 168,\n",
      "       169, 170, 171, 172, 173, 174, 175, 176, 177, 178, 179, 180, 181,\n",
      "       182, 183, 184, 185, 186, 187, 188, 189, 190, 191, 192, 193, 194,\n",
      "       195, 196, 197, 198, 199, 200, 201, 202, 203, 204, 205, 206, 207,\n",
      "       208, 209, 210, 211, 212, 213, 214, 215, 216, 217, 218, 219, 220,\n",
      "       221, 222, 223, 224, 225, 226, 227, 228, 229, 230, 231, 232, 233,\n",
      "       234, 235, 236, 237, 238, 239, 240, 241, 242, 243, 244, 245, 246,\n",
      "       247, 248, 249, 250, 251, 252, 253, 254, 255, 256, 257, 258, 259,\n",
      "       260, 261, 262, 263, 264, 265, 266, 267, 268, 269, 270, 271, 272,\n",
      "       273, 274, 275, 276, 277, 278, 279, 280, 281, 282, 283, 284, 285,\n",
      "       286, 287, 288, 289, 290, 291, 292, 293, 294, 295, 296, 297, 298,\n",
      "       299, 300, 301, 302, 303, 304, 305, 306, 307, 308, 309, 310, 311,\n",
      "       312, 313, 314, 315, 316, 317, 318, 319, 320, 321, 322, 323, 324,\n",
      "       325, 326, 327, 328, 329, 330, 331, 332, 333, 334, 335]), array([336, 337, 338, 339, 340, 341, 342, 343, 344, 345, 346, 347, 348,\n",
      "       349, 350, 351, 352, 353, 354, 355, 356, 357, 358, 359, 360, 361,\n",
      "       362, 363, 364, 365, 366, 367, 368, 369, 370, 371, 372, 373, 374,\n",
      "       375, 376, 377, 378, 379, 380, 381, 382, 383, 384, 385, 386, 387,\n",
      "       388, 389, 390, 391, 392, 393, 394, 395, 396, 397, 398, 399, 400,\n",
      "       401, 402, 403, 404, 405, 406, 407, 408, 409, 410, 411, 412, 413,\n",
      "       414, 415, 416, 417, 418, 419, 420, 421, 422, 423, 424, 425, 426,\n",
      "       427, 428, 429, 430, 431, 432, 433, 434, 435, 436, 437, 438, 439,\n",
      "       440, 441, 442, 443, 444, 445, 446, 447, 448, 449, 450, 451, 452,\n",
      "       453, 454, 455, 456, 457, 458, 459, 460, 461, 462, 463, 464, 465,\n",
      "       466, 467, 468, 469, 470, 471, 472, 473, 474, 475, 476, 477, 478,\n",
      "       479, 480, 481, 482, 483, 484, 485, 486, 487, 488, 489, 490, 491,\n",
      "       492, 493, 494, 495, 496, 497, 498, 499, 500, 501, 502]))\n",
      "3\n",
      "(array([  0,   1,   2,   3,   4,   5,   6,   7,   8,   9,  10,  11,  12,\n",
      "        13,  14,  15,  16,  17,  18,  19,  20,  21,  22,  23,  24,  25,\n",
      "        26,  27,  28,  29,  30,  31,  32,  33,  34,  35,  36,  37,  38,\n",
      "        39,  40,  41,  42,  43,  44,  45,  46,  47,  48,  49,  50,  51,\n",
      "        52,  53,  54,  55,  56,  57,  58,  59,  60,  61,  62,  63,  64,\n",
      "        65,  66,  67,  68,  69,  70,  71,  72,  73,  74,  75,  76,  77,\n",
      "        78,  79,  80,  81,  82,  83,  84,  85,  86,  87,  88,  89,  90,\n",
      "        91,  92,  93,  94,  95,  96,  97,  98,  99, 100, 101, 102, 103,\n",
      "       104, 105, 106, 107, 108, 109, 110, 111, 112, 113, 114, 115, 116,\n",
      "       117, 118, 119, 120, 121, 122, 123, 124, 125, 126, 127, 128, 129,\n",
      "       130, 131, 132, 133, 134, 135, 136, 137, 138, 139, 140, 141, 142,\n",
      "       143, 144, 145, 146, 147, 148, 149, 150, 151, 152, 153, 154, 155,\n",
      "       156, 157, 158, 159, 160, 161, 162, 163, 164, 165, 166, 167, 168,\n",
      "       169, 170, 171, 172, 173, 174, 175, 176, 177, 178, 179, 180, 181,\n",
      "       182, 183, 184, 185, 186, 187, 188, 189, 190, 191, 192, 193, 194,\n",
      "       195, 196, 197, 198, 199, 200, 201, 202, 203, 204, 205, 206, 207,\n",
      "       208, 209, 210, 211, 212, 213, 214, 215, 216, 217, 218, 219, 220,\n",
      "       221, 222, 223, 224, 225, 226, 227, 228, 229, 230, 231, 232, 233,\n",
      "       234, 235, 236, 237, 238, 239, 240, 241, 242, 243, 244, 245, 246,\n",
      "       247, 248, 249, 250, 251, 252, 253, 254, 255, 256, 257, 258, 259,\n",
      "       260, 261, 262, 263, 264, 265, 266, 267, 268, 269, 270, 271, 272,\n",
      "       273, 274, 275, 276, 277, 278, 279, 280, 281, 282, 283, 284, 285,\n",
      "       286, 287, 288, 289, 290, 291, 292, 293, 294, 295, 296, 297, 298,\n",
      "       299, 300, 301, 302, 303, 304, 305, 306, 307, 308, 309, 310, 311,\n",
      "       312, 313, 314, 315, 316, 317, 318, 319, 320, 321, 322, 323, 324,\n",
      "       325, 326, 327, 328, 329, 330, 331, 332, 333, 334, 335, 336, 337,\n",
      "       338, 339, 340, 341, 342, 343, 344, 345, 346, 347, 348, 349, 350,\n",
      "       351, 352, 353, 354, 355, 356, 357, 358, 359, 360, 361, 362, 363,\n",
      "       364, 365, 366, 367, 368, 369, 370, 371, 372, 373, 374, 375, 376,\n",
      "       377, 378, 379, 380, 381, 382, 383, 384, 385, 386, 387, 388, 389,\n",
      "       390, 391, 392, 393, 394, 395, 396, 397, 398, 399, 400, 401, 402,\n",
      "       403, 404, 405, 406, 407, 408, 409, 410, 411, 412, 413, 414, 415,\n",
      "       416, 417, 418, 419, 420, 421, 422, 423, 424, 425, 426, 427, 428,\n",
      "       429, 430, 431, 432, 433, 434, 435, 436, 437, 438, 439, 440, 441,\n",
      "       442, 443, 444, 445, 446, 447, 448, 449, 450, 451, 452, 453, 454,\n",
      "       455, 456, 457, 458, 459, 460, 461, 462, 463, 464, 465, 466, 467,\n",
      "       468, 469, 470, 471, 472, 473, 474, 475, 476, 477, 478, 479, 480,\n",
      "       481, 482, 483, 484, 485, 486, 487, 488, 489, 490, 491, 492, 493,\n",
      "       494, 495, 496, 497, 498, 499, 500, 501, 502]), array([503, 504, 505, 506, 507, 508, 509, 510, 511, 512, 513, 514, 515,\n",
      "       516, 517, 518, 519, 520, 521, 522, 523, 524, 525, 526, 527, 528,\n",
      "       529, 530, 531, 532, 533, 534, 535, 536, 537, 538, 539, 540, 541,\n",
      "       542, 543, 544, 545, 546, 547, 548, 549, 550, 551, 552, 553, 554,\n",
      "       555, 556, 557, 558, 559, 560, 561, 562, 563, 564, 565, 566, 567,\n",
      "       568, 569, 570, 571, 572, 573, 574, 575, 576, 577, 578, 579, 580,\n",
      "       581, 582, 583, 584, 585, 586, 587, 588, 589, 590, 591, 592, 593,\n",
      "       594, 595, 596, 597, 598, 599, 600, 601, 602, 603, 604, 605, 606,\n",
      "       607, 608, 609, 610, 611, 612, 613, 614, 615, 616, 617, 618, 619,\n",
      "       620, 621, 622, 623, 624, 625, 626, 627, 628, 629, 630, 631, 632,\n",
      "       633, 634, 635, 636, 637, 638, 639, 640, 641, 642, 643, 644, 645,\n",
      "       646, 647, 648, 649, 650, 651, 652, 653, 654, 655, 656, 657, 658,\n",
      "       659, 660, 661, 662, 663, 664, 665, 666, 667, 668, 669]))\n",
      "4\n",
      "(array([  0,   1,   2,   3,   4,   5,   6,   7,   8,   9,  10,  11,  12,\n",
      "        13,  14,  15,  16,  17,  18,  19,  20,  21,  22,  23,  24,  25,\n",
      "        26,  27,  28,  29,  30,  31,  32,  33,  34,  35,  36,  37,  38,\n",
      "        39,  40,  41,  42,  43,  44,  45,  46,  47,  48,  49,  50,  51,\n",
      "        52,  53,  54,  55,  56,  57,  58,  59,  60,  61,  62,  63,  64,\n",
      "        65,  66,  67,  68,  69,  70,  71,  72,  73,  74,  75,  76,  77,\n",
      "        78,  79,  80,  81,  82,  83,  84,  85,  86,  87,  88,  89,  90,\n",
      "        91,  92,  93,  94,  95,  96,  97,  98,  99, 100, 101, 102, 103,\n",
      "       104, 105, 106, 107, 108, 109, 110, 111, 112, 113, 114, 115, 116,\n",
      "       117, 118, 119, 120, 121, 122, 123, 124, 125, 126, 127, 128, 129,\n",
      "       130, 131, 132, 133, 134, 135, 136, 137, 138, 139, 140, 141, 142,\n",
      "       143, 144, 145, 146, 147, 148, 149, 150, 151, 152, 153, 154, 155,\n",
      "       156, 157, 158, 159, 160, 161, 162, 163, 164, 165, 166, 167, 168,\n",
      "       169, 170, 171, 172, 173, 174, 175, 176, 177, 178, 179, 180, 181,\n",
      "       182, 183, 184, 185, 186, 187, 188, 189, 190, 191, 192, 193, 194,\n",
      "       195, 196, 197, 198, 199, 200, 201, 202, 203, 204, 205, 206, 207,\n",
      "       208, 209, 210, 211, 212, 213, 214, 215, 216, 217, 218, 219, 220,\n",
      "       221, 222, 223, 224, 225, 226, 227, 228, 229, 230, 231, 232, 233,\n",
      "       234, 235, 236, 237, 238, 239, 240, 241, 242, 243, 244, 245, 246,\n",
      "       247, 248, 249, 250, 251, 252, 253, 254, 255, 256, 257, 258, 259,\n",
      "       260, 261, 262, 263, 264, 265, 266, 267, 268, 269, 270, 271, 272,\n",
      "       273, 274, 275, 276, 277, 278, 279, 280, 281, 282, 283, 284, 285,\n",
      "       286, 287, 288, 289, 290, 291, 292, 293, 294, 295, 296, 297, 298,\n",
      "       299, 300, 301, 302, 303, 304, 305, 306, 307, 308, 309, 310, 311,\n",
      "       312, 313, 314, 315, 316, 317, 318, 319, 320, 321, 322, 323, 324,\n",
      "       325, 326, 327, 328, 329, 330, 331, 332, 333, 334, 335, 336, 337,\n",
      "       338, 339, 340, 341, 342, 343, 344, 345, 346, 347, 348, 349, 350,\n",
      "       351, 352, 353, 354, 355, 356, 357, 358, 359, 360, 361, 362, 363,\n",
      "       364, 365, 366, 367, 368, 369, 370, 371, 372, 373, 374, 375, 376,\n",
      "       377, 378, 379, 380, 381, 382, 383, 384, 385, 386, 387, 388, 389,\n",
      "       390, 391, 392, 393, 394, 395, 396, 397, 398, 399, 400, 401, 402,\n",
      "       403, 404, 405, 406, 407, 408, 409, 410, 411, 412, 413, 414, 415,\n",
      "       416, 417, 418, 419, 420, 421, 422, 423, 424, 425, 426, 427, 428,\n",
      "       429, 430, 431, 432, 433, 434, 435, 436, 437, 438, 439, 440, 441,\n",
      "       442, 443, 444, 445, 446, 447, 448, 449, 450, 451, 452, 453, 454,\n",
      "       455, 456, 457, 458, 459, 460, 461, 462, 463, 464, 465, 466, 467,\n",
      "       468, 469, 470, 471, 472, 473, 474, 475, 476, 477, 478, 479, 480,\n",
      "       481, 482, 483, 484, 485, 486, 487, 488, 489, 490, 491, 492, 493,\n",
      "       494, 495, 496, 497, 498, 499, 500, 501, 502, 503, 504, 505, 506,\n",
      "       507, 508, 509, 510, 511, 512, 513, 514, 515, 516, 517, 518, 519,\n",
      "       520, 521, 522, 523, 524, 525, 526, 527, 528, 529, 530, 531, 532,\n",
      "       533, 534, 535, 536, 537, 538, 539, 540, 541, 542, 543, 544, 545,\n",
      "       546, 547, 548, 549, 550, 551, 552, 553, 554, 555, 556, 557, 558,\n",
      "       559, 560, 561, 562, 563, 564, 565, 566, 567, 568, 569, 570, 571,\n",
      "       572, 573, 574, 575, 576, 577, 578, 579, 580, 581, 582, 583, 584,\n",
      "       585, 586, 587, 588, 589, 590, 591, 592, 593, 594, 595, 596, 597,\n",
      "       598, 599, 600, 601, 602, 603, 604, 605, 606, 607, 608, 609, 610,\n",
      "       611, 612, 613, 614, 615, 616, 617, 618, 619, 620, 621, 622, 623,\n",
      "       624, 625, 626, 627, 628, 629, 630, 631, 632, 633, 634, 635, 636,\n",
      "       637, 638, 639, 640, 641, 642, 643, 644, 645, 646, 647, 648, 649,\n",
      "       650, 651, 652, 653, 654, 655, 656, 657, 658, 659, 660, 661, 662,\n",
      "       663, 664, 665, 666, 667, 668, 669]), array([670, 671, 672, 673, 674, 675, 676, 677, 678, 679, 680, 681, 682,\n",
      "       683, 684, 685, 686, 687, 688, 689, 690, 691, 692, 693, 694, 695,\n",
      "       696, 697, 698, 699, 700, 701, 702, 703, 704, 705, 706, 707, 708,\n",
      "       709, 710, 711, 712, 713, 714, 715, 716, 717, 718, 719, 720, 721,\n",
      "       722, 723, 724, 725, 726, 727, 728, 729, 730, 731, 732, 733, 734,\n",
      "       735, 736, 737, 738, 739, 740, 741, 742, 743, 744, 745, 746, 747,\n",
      "       748, 749, 750, 751, 752, 753, 754, 755, 756, 757, 758, 759, 760,\n",
      "       761, 762, 763, 764, 765, 766, 767, 768, 769, 770, 771, 772, 773,\n",
      "       774, 775, 776, 777, 778, 779, 780, 781, 782, 783, 784, 785, 786,\n",
      "       787, 788, 789, 790, 791, 792, 793, 794, 795, 796, 797, 798, 799,\n",
      "       800, 801, 802, 803, 804, 805, 806, 807, 808, 809, 810, 811, 812,\n",
      "       813, 814, 815, 816, 817, 818, 819, 820, 821, 822, 823, 824, 825,\n",
      "       826, 827, 828, 829, 830, 831, 832, 833, 834, 835, 836]))\n",
      "5\n",
      "(array([  0,   1,   2,   3,   4,   5,   6,   7,   8,   9,  10,  11,  12,\n",
      "        13,  14,  15,  16,  17,  18,  19,  20,  21,  22,  23,  24,  25,\n",
      "        26,  27,  28,  29,  30,  31,  32,  33,  34,  35,  36,  37,  38,\n",
      "        39,  40,  41,  42,  43,  44,  45,  46,  47,  48,  49,  50,  51,\n",
      "        52,  53,  54,  55,  56,  57,  58,  59,  60,  61,  62,  63,  64,\n",
      "        65,  66,  67,  68,  69,  70,  71,  72,  73,  74,  75,  76,  77,\n",
      "        78,  79,  80,  81,  82,  83,  84,  85,  86,  87,  88,  89,  90,\n",
      "        91,  92,  93,  94,  95,  96,  97,  98,  99, 100, 101, 102, 103,\n",
      "       104, 105, 106, 107, 108, 109, 110, 111, 112, 113, 114, 115, 116,\n",
      "       117, 118, 119, 120, 121, 122, 123, 124, 125, 126, 127, 128, 129,\n",
      "       130, 131, 132, 133, 134, 135, 136, 137, 138, 139, 140, 141, 142,\n",
      "       143, 144, 145, 146, 147, 148, 149, 150, 151, 152, 153, 154, 155,\n",
      "       156, 157, 158, 159, 160, 161, 162, 163, 164, 165, 166, 167, 168,\n",
      "       169, 170, 171, 172, 173, 174, 175, 176, 177, 178, 179, 180, 181,\n",
      "       182, 183, 184, 185, 186, 187, 188, 189, 190, 191, 192, 193, 194,\n",
      "       195, 196, 197, 198, 199, 200, 201, 202, 203, 204, 205, 206, 207,\n",
      "       208, 209, 210, 211, 212, 213, 214, 215, 216, 217, 218, 219, 220,\n",
      "       221, 222, 223, 224, 225, 226, 227, 228, 229, 230, 231, 232, 233,\n",
      "       234, 235, 236, 237, 238, 239, 240, 241, 242, 243, 244, 245, 246,\n",
      "       247, 248, 249, 250, 251, 252, 253, 254, 255, 256, 257, 258, 259,\n",
      "       260, 261, 262, 263, 264, 265, 266, 267, 268, 269, 270, 271, 272,\n",
      "       273, 274, 275, 276, 277, 278, 279, 280, 281, 282, 283, 284, 285,\n",
      "       286, 287, 288, 289, 290, 291, 292, 293, 294, 295, 296, 297, 298,\n",
      "       299, 300, 301, 302, 303, 304, 305, 306, 307, 308, 309, 310, 311,\n",
      "       312, 313, 314, 315, 316, 317, 318, 319, 320, 321, 322, 323, 324,\n",
      "       325, 326, 327, 328, 329, 330, 331, 332, 333, 334, 335, 336, 337,\n",
      "       338, 339, 340, 341, 342, 343, 344, 345, 346, 347, 348, 349, 350,\n",
      "       351, 352, 353, 354, 355, 356, 357, 358, 359, 360, 361, 362, 363,\n",
      "       364, 365, 366, 367, 368, 369, 370, 371, 372, 373, 374, 375, 376,\n",
      "       377, 378, 379, 380, 381, 382, 383, 384, 385, 386, 387, 388, 389,\n",
      "       390, 391, 392, 393, 394, 395, 396, 397, 398, 399, 400, 401, 402,\n",
      "       403, 404, 405, 406, 407, 408, 409, 410, 411, 412, 413, 414, 415,\n",
      "       416, 417, 418, 419, 420, 421, 422, 423, 424, 425, 426, 427, 428,\n",
      "       429, 430, 431, 432, 433, 434, 435, 436, 437, 438, 439, 440, 441,\n",
      "       442, 443, 444, 445, 446, 447, 448, 449, 450, 451, 452, 453, 454,\n",
      "       455, 456, 457, 458, 459, 460, 461, 462, 463, 464, 465, 466, 467,\n",
      "       468, 469, 470, 471, 472, 473, 474, 475, 476, 477, 478, 479, 480,\n",
      "       481, 482, 483, 484, 485, 486, 487, 488, 489, 490, 491, 492, 493,\n",
      "       494, 495, 496, 497, 498, 499, 500, 501, 502, 503, 504, 505, 506,\n",
      "       507, 508, 509, 510, 511, 512, 513, 514, 515, 516, 517, 518, 519,\n",
      "       520, 521, 522, 523, 524, 525, 526, 527, 528, 529, 530, 531, 532,\n",
      "       533, 534, 535, 536, 537, 538, 539, 540, 541, 542, 543, 544, 545,\n",
      "       546, 547, 548, 549, 550, 551, 552, 553, 554, 555, 556, 557, 558,\n",
      "       559, 560, 561, 562, 563, 564, 565, 566, 567, 568, 569, 570, 571,\n",
      "       572, 573, 574, 575, 576, 577, 578, 579, 580, 581, 582, 583, 584,\n",
      "       585, 586, 587, 588, 589, 590, 591, 592, 593, 594, 595, 596, 597,\n",
      "       598, 599, 600, 601, 602, 603, 604, 605, 606, 607, 608, 609, 610,\n",
      "       611, 612, 613, 614, 615, 616, 617, 618, 619, 620, 621, 622, 623,\n",
      "       624, 625, 626, 627, 628, 629, 630, 631, 632, 633, 634, 635, 636,\n",
      "       637, 638, 639, 640, 641, 642, 643, 644, 645, 646, 647, 648, 649,\n",
      "       650, 651, 652, 653, 654, 655, 656, 657, 658, 659, 660, 661, 662,\n",
      "       663, 664, 665, 666, 667, 668, 669, 670, 671, 672, 673, 674, 675,\n",
      "       676, 677, 678, 679, 680, 681, 682, 683, 684, 685, 686, 687, 688,\n",
      "       689, 690, 691, 692, 693, 694, 695, 696, 697, 698, 699, 700, 701,\n",
      "       702, 703, 704, 705, 706, 707, 708, 709, 710, 711, 712, 713, 714,\n",
      "       715, 716, 717, 718, 719, 720, 721, 722, 723, 724, 725, 726, 727,\n",
      "       728, 729, 730, 731, 732, 733, 734, 735, 736, 737, 738, 739, 740,\n",
      "       741, 742, 743, 744, 745, 746, 747, 748, 749, 750, 751, 752, 753,\n",
      "       754, 755, 756, 757, 758, 759, 760, 761, 762, 763, 764, 765, 766,\n",
      "       767, 768, 769, 770, 771, 772, 773, 774, 775, 776, 777, 778, 779,\n",
      "       780, 781, 782, 783, 784, 785, 786, 787, 788, 789, 790, 791, 792,\n",
      "       793, 794, 795, 796, 797, 798, 799, 800, 801, 802, 803, 804, 805,\n",
      "       806, 807, 808, 809, 810, 811, 812, 813, 814, 815, 816, 817, 818,\n",
      "       819, 820, 821, 822, 823, 824, 825, 826, 827, 828, 829, 830, 831,\n",
      "       832, 833, 834, 835, 836]), array([ 837,  838,  839,  840,  841,  842,  843,  844,  845,  846,  847,\n",
      "        848,  849,  850,  851,  852,  853,  854,  855,  856,  857,  858,\n",
      "        859,  860,  861,  862,  863,  864,  865,  866,  867,  868,  869,\n",
      "        870,  871,  872,  873,  874,  875,  876,  877,  878,  879,  880,\n",
      "        881,  882,  883,  884,  885,  886,  887,  888,  889,  890,  891,\n",
      "        892,  893,  894,  895,  896,  897,  898,  899,  900,  901,  902,\n",
      "        903,  904,  905,  906,  907,  908,  909,  910,  911,  912,  913,\n",
      "        914,  915,  916,  917,  918,  919,  920,  921,  922,  923,  924,\n",
      "        925,  926,  927,  928,  929,  930,  931,  932,  933,  934,  935,\n",
      "        936,  937,  938,  939,  940,  941,  942,  943,  944,  945,  946,\n",
      "        947,  948,  949,  950,  951,  952,  953,  954,  955,  956,  957,\n",
      "        958,  959,  960,  961,  962,  963,  964,  965,  966,  967,  968,\n",
      "        969,  970,  971,  972,  973,  974,  975,  976,  977,  978,  979,\n",
      "        980,  981,  982,  983,  984,  985,  986,  987,  988,  989,  990,\n",
      "        991,  992,  993,  994,  995,  996,  997,  998,  999, 1000, 1001,\n",
      "       1002, 1003]))\n"
     ]
    }
   ],
   "source": [
    "# print(train[0])\n",
    "counter = 0\n",
    "for i in train:\n",
    "    counter+=1; print(counter)\n",
    "    print(i)"
   ]
  },
  {
   "cell_type": "code",
   "execution_count": 68,
   "id": "b1734a3f",
   "metadata": {
    "ExecuteTime": {
     "end_time": "2022-01-07T13:25:35.069328Z",
     "start_time": "2022-01-07T13:25:35.063665Z"
    },
    "hidden": true
   },
   "outputs": [],
   "source": [
    "train_indices = []\n",
    "test_indices = []\n",
    "time_series_split = TimeSeriesSplit()\n",
    "for i, j in time_series_split.split(np.array(X)):\n",
    "    train_indices.append(i)\n",
    "    test_indices.append(j)"
   ]
  },
  {
   "cell_type": "code",
   "execution_count": 87,
   "id": "63b16a82",
   "metadata": {
    "ExecuteTime": {
     "end_time": "2022-01-07T13:51:01.250781Z",
     "start_time": "2022-01-07T13:51:01.238103Z"
    },
    "hidden": true
   },
   "outputs": [
    {
     "data": {
      "text/plain": [
       "<generator object TimeSeriesSplit.split at 0x11ac87b30>"
      ]
     },
     "execution_count": 87,
     "metadata": {},
     "output_type": "execute_result"
    }
   ],
   "source": [
    "time_series_split.split(np.array(X))"
   ]
  },
  {
   "cell_type": "code",
   "execution_count": 77,
   "id": "d19a6bd7",
   "metadata": {
    "ExecuteTime": {
     "end_time": "2022-01-07T13:29:35.810622Z",
     "start_time": "2022-01-07T13:29:35.804425Z"
    },
    "hidden": true
   },
   "outputs": [],
   "source": [
    "X_train = []\n",
    "y_train = []\n",
    "for i in train_indices:\n",
    "    X_train.append(X.iloc[:i[-1],:])\n",
    "    y_train.append(y[:i[-1]])"
   ]
  },
  {
   "cell_type": "code",
   "execution_count": 67,
   "id": "d60362ca",
   "metadata": {
    "ExecuteTime": {
     "end_time": "2022-01-07T13:23:09.655822Z",
     "start_time": "2022-01-07T13:23:09.648105Z"
    },
    "hidden": true
   },
   "outputs": [
    {
     "data": {
      "text/plain": [
       "336"
      ]
     },
     "execution_count": 67,
     "metadata": {},
     "output_type": "execute_result"
    }
   ],
   "source": [
    "169+167"
   ]
  },
  {
   "cell_type": "markdown",
   "id": "3cdef3fc",
   "metadata": {},
   "source": [
    "### RandomForest"
   ]
  },
  {
   "cell_type": "code",
   "execution_count": 376,
   "id": "192572a6",
   "metadata": {
    "ExecuteTime": {
     "end_time": "2022-01-07T16:40:52.447477Z",
     "start_time": "2022-01-07T16:40:52.365273Z"
    }
   },
   "outputs": [],
   "source": [
    "from sklearn.ensemble import RandomForestRegressor"
   ]
  },
  {
   "cell_type": "code",
   "execution_count": 398,
   "id": "0ae699f0",
   "metadata": {
    "ExecuteTime": {
     "end_time": "2022-01-07T16:44:14.634596Z",
     "start_time": "2022-01-07T16:44:13.065449Z"
    }
   },
   "outputs": [
    {
     "data": {
      "text/plain": [
       "27.093241838166715"
      ]
     },
     "execution_count": 398,
     "metadata": {},
     "output_type": "execute_result"
    }
   ],
   "source": [
    "forest = RandomForestRegressor(n_estimators=100)\n",
    "train = TimeSeriesSplit().split(X_train)\n",
    "cv_results = cross_validate(forest, X_train, y_train,\n",
    "                            scoring = \"neg_mean_squared_error\", cv=train)\n",
    "abs(cv_results['test_score'].min())**0.5"
   ]
  },
  {
   "cell_type": "code",
   "execution_count": null,
   "id": "a4a6a517",
   "metadata": {},
   "outputs": [],
   "source": [
    "tree = DecisionTreeRegressor()\n",
    "train = TimeSeriesSplit().split(X_train)\n",
    "cv_results=cross_validate(tree, X_train, y_train, scoring=\"neg_mean_squared_error\", cv=train)\n",
    "abs(cv_results['test_score'].min())**0.5"
   ]
  },
  {
   "cell_type": "code",
   "execution_count": null,
   "id": "82e5f797",
   "metadata": {},
   "outputs": [],
   "source": []
  },
  {
   "cell_type": "markdown",
   "id": "dae06479",
   "metadata": {},
   "source": [
    "### Fitting random forest onto X_train and X_val"
   ]
  },
  {
   "cell_type": "code",
   "execution_count": 47,
   "id": "17161724",
   "metadata": {
    "ExecuteTime": {
     "end_time": "2022-01-07T13:05:26.808385Z",
     "start_time": "2022-01-07T13:05:24.280873Z"
    }
   },
   "outputs": [
    {
     "name": "stdout",
     "output_type": "stream",
     "text": [
      "[*********************100%***********************]  1 of 1 completed\n",
      "[*********************100%***********************]  1 of 1 completed\n",
      "[*********************100%***********************]  1 of 1 completed\n",
      "[*********************100%***********************]  1 of 1 completed\n"
     ]
    }
   ],
   "source": [
    "params={\n",
    "    'hist_days':60, 'fut_days':3,\n",
    "    'data_start': dt.datetime(2017,1,1,0,0,0),\n",
    "    'train_start':dt.datetime(2018,1,1,0,0,0), 'train_end':dt.datetime(2020,3,31,23,59,59),\n",
    "    'val_start':dt.datetime(2020,4,1,0,0,0), 'val_end':dt.datetime(2020,12,31,23,59,59),\n",
    "    'test_start':dt.datetime(2021,1,1,0,0,0), 'test_end':dt.datetime(2021,12,31,23,59,59),\n",
    "    'days_list':[14,50,200], #'bol_days':30, 'rsi_days':14, 'ma_days': 30,\n",
    "    'val_size': 0.2, 'test_size':0.15, 'batch_size':2, 'epochs':20,\n",
    "    'loss':'mse', 'optimizer':'rmsprop', 'metrics':'mae', 'patience':10,\n",
    "    'train_loss': np.nan, 'val_loss':np.nan, 'test_loss':np.nan, 'test_metric':np.nan,\n",
    "    'last_px':np.nan, 'remarks':''\n",
    "    }\n",
    "df = load_data(\"AAPL\", params)\n",
    "df = make_features_target(df, params)\n",
    "params['last_px']=df.iloc[-1,:]['Adj Close']\n",
    "X_train_df, X_val_df, X_test_df, y_train_df, y_val_df, y_test_df = transform_data(df, params)\n",
    "# model = initialize_model(params)\n",
    "# model, history = run_model(X_train, y_train, X_val, y_val, model, params)\n",
    "# results = evaluate_model(X_test, y_test, model)\n",
    "# params['train_loss'] = round(history.history['loss'][-1],4)\n",
    "# params['val_loss'] = round(history.history['val_loss'][-1], 4)\n",
    "# params['test_loss'] = round(results[0], 4)\n",
    "# params['test_metric'] = round(results[1], 4)\n",
    "# params['remarks'] = 'RNN(50,tanh), Dense(15,linear), Dense(1,linear)'\n",
    "#KIV: dropouts, regularization (DL lecture 2)\n",
    "#No. of params for RNN layer: units*(units+features+1bias)"
   ]
  },
  {
   "cell_type": "code",
   "execution_count": 51,
   "id": "b46a0ecc",
   "metadata": {
    "ExecuteTime": {
     "end_time": "2022-01-07T13:05:59.787531Z",
     "start_time": "2022-01-07T13:05:59.777815Z"
    }
   },
   "outputs": [
    {
     "name": "stdout",
     "output_type": "stream",
     "text": [
      "<class 'pandas.core.frame.DataFrame'>\n",
      "DatetimeIndex: 565 entries, 2018-01-02 to 2020-03-31\n",
      "Data columns (total 1 columns):\n",
      " #   Column  Non-Null Count  Dtype  \n",
      "---  ------  --------------  -----  \n",
      " 0   target  565 non-null    float64\n",
      "dtypes: float64(1)\n",
      "memory usage: 8.8 KB\n"
     ]
    }
   ],
   "source": [
    "y_train_df.info()"
   ]
  },
  {
   "cell_type": "code",
   "execution_count": 52,
   "id": "8bad2fb3",
   "metadata": {
    "ExecuteTime": {
     "end_time": "2022-01-07T13:06:05.492490Z",
     "start_time": "2022-01-07T13:06:05.481433Z"
    }
   },
   "outputs": [
    {
     "name": "stdout",
     "output_type": "stream",
     "text": [
      "<class 'pandas.core.frame.DataFrame'>\n",
      "DatetimeIndex: 191 entries, 2020-04-01 to 2020-12-31\n",
      "Data columns (total 1 columns):\n",
      " #   Column  Non-Null Count  Dtype  \n",
      "---  ------  --------------  -----  \n",
      " 0   target  191 non-null    float64\n",
      "dtypes: float64(1)\n",
      "memory usage: 3.0 KB\n"
     ]
    }
   ],
   "source": [
    "y_val_df.info()"
   ]
  },
  {
   "cell_type": "code",
   "execution_count": 53,
   "id": "9ce87ce6",
   "metadata": {
    "ExecuteTime": {
     "end_time": "2022-01-07T13:06:16.365297Z",
     "start_time": "2022-01-07T13:06:16.353719Z"
    }
   },
   "outputs": [
    {
     "name": "stdout",
     "output_type": "stream",
     "text": [
      "<class 'pandas.core.frame.DataFrame'>\n",
      "DatetimeIndex: 248 entries, 2021-01-04 to 2021-12-27\n",
      "Data columns (total 1 columns):\n",
      " #   Column  Non-Null Count  Dtype  \n",
      "---  ------  --------------  -----  \n",
      " 0   target  248 non-null    float64\n",
      "dtypes: float64(1)\n",
      "memory usage: 3.9 KB\n"
     ]
    }
   ],
   "source": [
    "y_test_df.info()"
   ]
  },
  {
   "cell_type": "markdown",
   "id": "d67e062e",
   "metadata": {},
   "source": [
    "### Next"
   ]
  },
  {
   "cell_type": "markdown",
   "id": "9625b75f",
   "metadata": {},
   "source": [
    "### Next"
   ]
  },
  {
   "cell_type": "markdown",
   "id": "1914868d",
   "metadata": {},
   "source": [
    "### Next"
   ]
  },
  {
   "cell_type": "markdown",
   "id": "ddff4ae0",
   "metadata": {},
   "source": [
    "### Next"
   ]
  },
  {
   "cell_type": "code",
   "execution_count": null,
   "id": "c8947cb8",
   "metadata": {},
   "outputs": [],
   "source": []
  },
  {
   "cell_type": "markdown",
   "id": "1a7faa81",
   "metadata": {},
   "source": [
    "## LSTM - functionalized"
   ]
  },
  {
   "cell_type": "markdown",
   "id": "6a42a4c7",
   "metadata": {},
   "source": [
    "### Functions"
   ]
  },
  {
   "cell_type": "markdown",
   "id": "6ab888f0",
   "metadata": {
    "heading_collapsed": true
   },
   "source": [
    "#### Importing data"
   ]
  },
  {
   "cell_type": "code",
   "execution_count": 26,
   "id": "fa5b99b2",
   "metadata": {
    "ExecuteTime": {
     "end_time": "2022-01-04T12:50:49.325292Z",
     "start_time": "2022-01-04T12:50:48.763747Z"
    },
    "hidden": true
   },
   "outputs": [
    {
     "name": "stdout",
     "output_type": "stream",
     "text": [
      "[*********************100%***********************]  1 of 1 completed\n"
     ]
    }
   ],
   "source": [
    "symbol = 'AAPL'\n",
    "start = params['train_start']\n",
    "end = params['test_end']\n",
    "start_date = \"{0:0=4d}\".format(start.year)+'-'+\"{0:0=2d}\".format(start.month)+'-'+\"{0:0=2d}\".format(start.day)\n",
    "end_date = \"{0:0=4d}\".format(end.year)+'-'+\"{0:0=2d}\".format(end.month)+'-'+\"{0:0=2d}\".format(end.day)\n",
    "df = yf.download(f\"{symbol}\",start_date,end_date)\n",
    "df.to_csv(f\"{symbol}.csv\")\n"
   ]
  },
  {
   "cell_type": "code",
   "execution_count": 3,
   "id": "ce36d1e7",
   "metadata": {
    "ExecuteTime": {
     "end_time": "2022-01-07T12:40:11.150166Z",
     "start_time": "2022-01-07T12:40:11.140974Z"
    },
    "hidden": true
   },
   "outputs": [],
   "source": [
    "def load_data(symbol, params):\n",
    "    start = params['data_start']\n",
    "    end = params['test_end']\n",
    "    df = pd.read_csv(f\"/Users/ivanlimsweeyong/code/ivanlimsy/jupyter/{symbol}.csv\", index_col=0)\n",
    "    df.index = pd.to_datetime(df.index, format='%Y-%m-%d')\n",
    "    if df.index.min()>start or df.index.max()<end:\n",
    "        start_date = \"{0:0=4d}\".format(start.year)+'-'+\"{0:0=2d}\".format(start.month)+'-'+\"{0:0=2d}\".format(start.day)\n",
    "        end_date = \"{0:0=4d}\".format(end.year)+'-'+\"{0:0=2d}\".format(end.month)+'-'+\"{0:0=2d}\".format(end.day)\n",
    "        df = yf.download(f\"{symbol}\",start_date,end_date)\n",
    "        df.to_csv(f\"{symbol}.csv\")\n",
    "    return df"
   ]
  },
  {
   "cell_type": "markdown",
   "id": "d37cd9cd",
   "metadata": {
    "ExecuteTime": {
     "end_time": "2021-12-26T08:32:22.606496Z",
     "start_time": "2021-12-26T08:32:22.603689Z"
    },
    "heading_collapsed": true
   },
   "source": [
    "#### Adding indicators"
   ]
  },
  {
   "cell_type": "code",
   "execution_count": 4,
   "id": "42b8415f",
   "metadata": {
    "ExecuteTime": {
     "end_time": "2022-01-07T12:40:20.841411Z",
     "start_time": "2022-01-07T12:40:20.828505Z"
    },
    "hidden": true
   },
   "outputs": [],
   "source": [
    "def make_features_target(df, params):\n",
    "    #Adding indicators\n",
    "    for days in params['days_list']:\n",
    "        df[f'w_bol_{days}'] = ta.volatility.BollingerBands(df['Adj Close'], window=days, window_dev=2).bollinger_wband()\n",
    "        df[f'rsi_{days}'] = ta.momentum.RSIIndicator(df['Adj Close'], window=days).rsi()\n",
    "        vix_df = load_data(\"^VIX\", params)\n",
    "        #vix_df = pd.read_csv(\"/Users/ivanlimsweeyong/code/ivanlimsy/jupyter/VIX.csv\", index_col=0)\n",
    "        #vix_df.index = pd.to_datetime(vix_df.index, format='%Y-%m-%d')\n",
    "        vix_df.rename(columns={'Adj Close': 'vix_adj_close'}, inplace=True)\n",
    "        df = df.merge(vix_df[['vix_adj_close']], left_index=True, right_index=True)\n",
    "        df[f'ma_{days}'] = ta.trend.SMAIndicator(df['Adj Close'], window=days).sma_indicator()\n",
    "    #df['macd'] = ta.trend.MACD(df['Adj Close'], window_slow=26, window_fast=12, window_sign=9).macd()\n",
    "    #df['roc'] = ta.momentum.ROCIndicator(df['Adj Close'], window=30).roc()\n",
    "    #df['cci'] = ta.trend.CCIIndicator(df['High'], df['Low'], df['Adj Close'], window=30, constant=0.015).cci()\n",
    "    #df['atr'] = ta.volatility.AverageTrueRange(df['High'], df['Low'], df['Adj Close'], window=30).average_true_range()\n",
    "    #df['fast_stocOc'] = ta.momentum.StochasticOscillator(df['High'], df['Low'], df['Adj Close'], window=14, smooth_window=1).stoch()\n",
    "    #df['slow_stocOc'] = ta.momentum.StochasticOscillator(df['High'], df['Low'], df['Adj Close'], window=14, smooth_window=3).stoch()\n",
    "    #df['obv'] = ta.volume.OnBalanceVolumeIndicator(df['Adj Close'], df['Volume']).on_balance_volume()\n",
    "    #Adding target\n",
    "    df['target'] = df['Adj Close'].shift(periods=-(params['fut_days']))\n",
    "    #Dropping irrelevant columns, dropping null rows, and trimming by time period\n",
    "    df.drop(labels=['Open', 'High', 'Low', 'Close'], axis=1, inplace=True)\n",
    "    df.dropna(axis=0, inplace=True)\n",
    "    df = df[df.index>=params['train_start']]\n",
    "    df = df[df.index<=params['test_end']]\n",
    "    return df\n",
    "#Following brendan's features\n",
    "# def make_features_target(df, params):\n",
    "#     #Adding indicators\n",
    "#     for n in [14,30,50,200]:\n",
    "#         df[f\"w_bol_{n}\"] = ta.volatility.BollingerBands(df['Adj Close'], window=n, window_dev=2).bollinger_wband()\n",
    "#         df[f\"rsi_{n}\"] = ta.momentum.RSIIndicator(df['Adj Close'], window=n).rsi()\n",
    "#         df[f\"ma_{n}\"] = ta.trend.SMAIndicator(df['Adj Close'], window=n).sma_indicator()\n",
    "#     #Adding target\n",
    "#     df['target'] = df['Adj Close'].shift(periods=-(params['fut_days']))\n",
    "#     #Dropping irrelevant columns, dropping null rows, and trimming by time period\n",
    "#     df.drop(labels=['Open', 'High', 'Low', 'Close', 'Volume'], axis=1, inplace=True)\n",
    "#     df.dropna(axis=0, inplace=True)\n",
    "#     df = df[df.index>=params['time_start']]\n",
    "#     df = df[df.index<=params['time_end']]\n",
    "#     return df"
   ]
  },
  {
   "cell_type": "markdown",
   "id": "a57fc236",
   "metadata": {},
   "source": [
    "#### Transform data into X and y"
   ]
  },
  {
   "cell_type": "code",
   "execution_count": 5,
   "id": "1ce6bd96",
   "metadata": {
    "ExecuteTime": {
     "end_time": "2022-01-07T12:40:23.677476Z",
     "start_time": "2022-01-07T12:40:23.654117Z"
    }
   },
   "outputs": [],
   "source": [
    "#slicing [a,b]: loc includes both a & b, while iloc includes a excludes b\n",
    "def transform_data(df, params):\n",
    "    X = df.drop(labels='target', axis=1).copy()\n",
    "    y = df[['target']].copy()\n",
    "    #Setting X_test and y_test\n",
    "    #trainval_length = int(len(df)*(1-params['test_size']))\n",
    "    X_trainval_df = X[X.index<params['test_start']]\n",
    "    y_trainval_df = y[y.index<params['test_start']]\n",
    "    #X_trainval_df = X.iloc[0:trainval_length,:]\n",
    "    #y_trainval_df = y.iloc[0:trainval_length,:]    \n",
    "    X_test_df = X[X.index>=params['test_start']]\n",
    "    y_test_df = y[y.index>=params['test_start']]\n",
    "    #X_test_df = X.iloc[trainval_length:-1,:]\n",
    "    #y_test_df = y.iloc[trainval_length:-1,:]\n",
    "    \n",
    "    #Setting X_train/X_val, and y_train/y_val\n",
    "    #train_length = int(len(X_trainval_df)*(1-params['val_size']))\n",
    "    X_train_df = X_trainval_df[X_trainval_df.index<params['val_start']]\n",
    "    y_train_df = y_trainval_df[y_trainval_df.index<params['val_start']]\n",
    "    #X_train_df = X_trainval_df.iloc[0:train_length,:]\n",
    "    #y_train_df = y_trainval_df.iloc[0:train_length,:]\n",
    "    X_val_df = X_trainval_df[X_trainval_df.index>=params['val_start']]\n",
    "    y_val_df = y_trainval_df[y_trainval_df.index>=params['val_start']]\n",
    "    #X_val_df = X_trainval_df.iloc[train_length:-1,:]\n",
    "    #y_val_df = y_trainval_df.iloc[train_length:-1,:]\n",
    "    \n",
    "    #Scaling X features\n",
    "    scaler = StandardScaler()\n",
    "    X_train_df = pd.DataFrame(scaler.fit_transform(X_train_df))\n",
    "    scaler = StandardScaler()\n",
    "    X_val_df = pd.DataFrame(scaler.fit_transform(X_val_df))\n",
    "    scaler = StandardScaler()\n",
    "    X_test_df = pd.DataFrame(scaler.fit_transform(X_test_df))\n",
    "    \n",
    "    #E.g.100 observations, index 0 to 99\n",
    "    #Historical days: 30 including the day itself\n",
    "    #Future days: 5\n",
    "    #Total days: 1-100 >> 0-99 >> iloc/range(0:100)\n",
    "        #1st i: 30 >> iloc/range(29)\n",
    "        #1st historical days: 1-30 >> 0:29 >> iloc/range(0:30)\n",
    "        #1st future days: 31:35 >> 30:34 >> iloc/range(30,35)\n",
    "        #Last i: 95 >> iloc/range(94)\n",
    "        #Last historical days: 66:95 >> 65:94 >> iloc/range(65:95)\n",
    "        #Last future days: 96:100 >> 95:99 >> iloc/range(95:100)\n",
    "    \n",
    "    #Preparing sequences of features for X_train and targets for y_train\n",
    "    X_train = []\n",
    "    y_train = []\n",
    "    #(30-1):(100-5-1) >> 29:94\n",
    "    for i in range((params['hist_days']-1),(len(X_train_df)-1)):\n",
    "        #(29-30+1):(29+1) >> 0:30\n",
    "        X_train.append(np.array(X_train_df.iloc[(i-params['hist_days']+1):i+1,:]))\n",
    "        #(29+5):0 >> 34:0\n",
    "        y_train.append(np.array(y_train_df.iloc[i,0]))\n",
    "    \n",
    "    #Preparing sequences of features for X_val and targets for y_val\n",
    "    X_val = []\n",
    "    y_val = []\n",
    "    for i in range((params['hist_days']-1),(len(X_val_df)-1)):\n",
    "        X_val.append(np.array(X_val_df.iloc[(i-params['hist_days']+1):i+1,:]))\n",
    "        y_val.append(np.array(y_val_df.iloc[i,0]))\n",
    "    \n",
    "    #Preparing sequences of features for X_test and targets for y_test\n",
    "    X_test = []\n",
    "    y_test = []\n",
    "    for i in range((params['hist_days']-1),(len(X_test_df)-1)):\n",
    "        X_test.append(np.array(X_test_df.iloc[(i-params['hist_days']+1):i+1,:]))\n",
    "        y_test.append(np.array(y_test_df.iloc[i, 0]))\n",
    "    \n",
    "    X_train = np.array(X_train); y_train = np.array(y_train);\n",
    "    y_train = np.reshape(np.array([y_train]),(y_train.shape[0],1))\n",
    "    X_val = np.array(X_val); y_val = np.array(y_val)\n",
    "    y_val = np.reshape(np.array([y_val]),(y_val.shape[0],1))\n",
    "    X_test = np.array(X_test); y_test = np.array(y_test)\n",
    "    y_test = np.reshape(np.array([y_test]),(y_test.shape[0],1))\n",
    "    \n",
    "    #Shapes: (n_sequences, n_observations, n_features)\n",
    "    print(f\"Train shapes: X is {X_train.shape} and y is {y_train.shape}\")\n",
    "    print(f\"Val shapes: X is {X_val.shape} and y is {y_val.shape}\")\n",
    "    print(f\"Test shapes: X is {X_test.shape} and y is {y_test.shape}\")\n",
    "    print(f\"Total number of sequences reduced from {len(df)} to {X_train.shape[0]+X_test.shape[0]}\")\n",
    "    return X_train, X_val, X_test, y_train, y_val, y_test, X_train_df, X_val_df, X_test_df"
   ]
  },
  {
   "cell_type": "markdown",
   "id": "80ed82a2",
   "metadata": {},
   "source": [
    "#### Initializing and fitting model:"
   ]
  },
  {
   "cell_type": "code",
   "execution_count": 30,
   "id": "305fb205",
   "metadata": {
    "ExecuteTime": {
     "end_time": "2022-01-04T13:19:30.691560Z",
     "start_time": "2022-01-04T13:19:30.685433Z"
    }
   },
   "outputs": [],
   "source": [
    "# reg_11 = regularizers.L1(0.01)\n",
    "\n",
    "def initialize_model(params):\n",
    "    reg_l1 = regularizers.L1(0.01)\n",
    "    model=Sequential()\n",
    "#     model.add(Normalization())\n",
    "    model.add(LSTM(20, activation='tanh', return_sequences=True, kernel_regularizer=reg_l1))\n",
    "#     model.add(LSTM(20, activation='tanh'))\n",
    "    model.add(Dense(15,activation=\"linear\"))\n",
    "    model.add(Dense(1,activation=\"linear\"))\n",
    "    model.compile(loss=params['loss'], optimizer=params['optimizer'], metrics=params['metrics'])\n",
    "    return model"
   ]
  },
  {
   "cell_type": "code",
   "execution_count": 8,
   "id": "d7fc473c",
   "metadata": {
    "ExecuteTime": {
     "end_time": "2022-01-04T11:41:39.980092Z",
     "start_time": "2022-01-04T11:41:39.971783Z"
    }
   },
   "outputs": [],
   "source": [
    "def run_model(X_train, y_train, X_val, y_val, model, params):\n",
    "    model = model\n",
    "    es = EarlyStopping(patience=params['patience'])\n",
    "    history = model.fit(X_train, y_train,\n",
    "                        batch_size=params['batch_size'], verbose=1, callbacks=es,\n",
    "                        validation_data=(X_val, y_val), epochs= params['epochs'])\n",
    "    return model, history"
   ]
  },
  {
   "cell_type": "code",
   "execution_count": 9,
   "id": "90c79862",
   "metadata": {
    "ExecuteTime": {
     "end_time": "2022-01-04T11:41:41.911311Z",
     "start_time": "2022-01-04T11:41:41.904792Z"
    }
   },
   "outputs": [],
   "source": [
    "def evaluate_model(X_test, y_test, model):\n",
    "    return model.evaluate(X_test, y_test)"
   ]
  },
  {
   "cell_type": "markdown",
   "id": "3c418663",
   "metadata": {
    "heading_collapsed": true
   },
   "source": [
    "#### Creating/Adding/Reading summary of analyses"
   ]
  },
  {
   "cell_type": "code",
   "execution_count": 8,
   "id": "22b68339",
   "metadata": {
    "ExecuteTime": {
     "end_time": "2021-12-30T06:47:58.794109Z",
     "start_time": "2021-12-30T06:47:58.780553Z"
    },
    "hidden": true
   },
   "outputs": [],
   "source": [
    "#Creating dataframe to save as csv for the first time\n",
    "def create_analysis():\n",
    "    summary = pd.DataFrame(params, index=[0])\n",
    "    summary.to_csv('summary_v02.csv')\n",
    "#Store results and save as csv\n",
    "def add_analysis():\n",
    "    summary = pd.read_csv('summary_v02.csv', index_col=0)\n",
    "    summary['time_start'] = pd.to_datetime(summary['time_start'], format=\"%Y-%m-%dT%H:%M:%S\")\n",
    "    summary['time_end'] = pd.to_datetime(summary['time_end'], format=\"%Y-%m-%dT%H:%M:%S\")\n",
    "    addon = pd.DataFrame(params, index=[0])\n",
    "    summary = pd.concat([summary, addon], axis=0, join='outer', ignore_index=True)\n",
    "    summary.index = np.array([0]*len(summary))\n",
    "    summary.drop_duplicates(inplace=True, ignore_index=True)\n",
    "    summary.to_csv('summary_v02.csv')\n",
    "def read_analysis():\n",
    "    summary = pd.read_csv('summary_v02.csv', index_col=0)\n",
    "    summary['time_start'] = pd.to_datetime(summary['time_start'], format=\"%Y-%m-%dT%H:%M:%S\")\n",
    "    summary['time_end'] = pd.to_datetime(summary['time_end'], format=\"%Y-%m-%dT%H:%M:%S\")\n",
    "    return summary"
   ]
  },
  {
   "cell_type": "markdown",
   "id": "a6786f4f",
   "metadata": {},
   "source": [
    "### Running all functions"
   ]
  },
  {
   "cell_type": "markdown",
   "id": "ef97af76",
   "metadata": {},
   "source": [
    "load_data() >> add_indicators(df, params) >> transform_data(df, params) >> <br>\n",
    "initialize_model(params) >> run_model(X_train, y_train, model, params) >> evaluate_model(X_test, y_test, model, params)"
   ]
  },
  {
   "cell_type": "code",
   "execution_count": 33,
   "id": "ad2bebce",
   "metadata": {
    "ExecuteTime": {
     "end_time": "2022-01-04T13:49:49.158623Z",
     "start_time": "2022-01-04T13:47:21.321430Z"
    },
    "scrolled": true
   },
   "outputs": [
    {
     "name": "stdout",
     "output_type": "stream",
     "text": [
      "[*********************100%***********************]  1 of 1 completed\n",
      "[*********************100%***********************]  1 of 1 completed\n",
      "[*********************100%***********************]  1 of 1 completed\n",
      "[*********************100%***********************]  1 of 1 completed\n",
      "Train shapes: X is (505, 60, 14) and y is (505, 1)\n",
      "Val shapes: X is (131, 60, 14) and y is (131, 1)\n",
      "Test shapes: X is (188, 60, 14) and y is (188, 1)\n",
      "Total number of sequences reduced from 1004 to 693\n",
      "Epoch 1/20\n",
      "253/253 [==============================] - 12s 36ms/step - loss: 1537.5188 - mae: 34.9598 - val_loss: 5627.6558 - val_mae: 73.8373\n",
      "Epoch 2/20\n",
      "253/253 [==============================] - 9s 34ms/step - loss: 168.8528 - mae: 9.2755 - val_loss: 4144.0190 - val_mae: 63.1555\n",
      "Epoch 3/20\n",
      "253/253 [==============================] - 9s 37ms/step - loss: 108.9162 - mae: 7.3425 - val_loss: 3866.5981 - val_mae: 61.2982\n",
      "Epoch 4/20\n",
      "253/253 [==============================] - 9s 34ms/step - loss: 67.6483 - mae: 5.7387 - val_loss: 3879.0186 - val_mae: 61.5155\n",
      "Epoch 5/20\n",
      "253/253 [==============================] - 9s 34ms/step - loss: 52.5549 - mae: 5.0927 - val_loss: 3831.0950 - val_mae: 61.1633\n",
      "Epoch 6/20\n",
      "253/253 [==============================] - 9s 35ms/step - loss: 44.9493 - mae: 4.7246 - val_loss: 3829.5322 - val_mae: 61.1815\n",
      "Epoch 7/20\n",
      "253/253 [==============================] - 8s 32ms/step - loss: 39.7954 - mae: 4.4468 - val_loss: 4066.6870 - val_mae: 63.1016\n",
      "Epoch 8/20\n",
      "253/253 [==============================] - 9s 35ms/step - loss: 34.4941 - mae: 4.1669 - val_loss: 4045.6885 - val_mae: 62.9337\n",
      "Epoch 9/20\n",
      "253/253 [==============================] - 9s 36ms/step - loss: 29.5592 - mae: 3.8891 - val_loss: 4157.1323 - val_mae: 63.8201\n",
      "Epoch 10/20\n",
      "253/253 [==============================] - 8s 33ms/step - loss: 26.5147 - mae: 3.7109 - val_loss: 4308.2808 - val_mae: 64.9680\n",
      "Epoch 11/20\n",
      "253/253 [==============================] - 8s 31ms/step - loss: 24.8461 - mae: 3.5849 - val_loss: 4285.7314 - val_mae: 64.7920\n",
      "Epoch 12/20\n",
      "253/253 [==============================] - 10s 38ms/step - loss: 23.2861 - mae: 3.4853 - val_loss: 4382.6831 - val_mae: 65.5354\n",
      "Epoch 13/20\n",
      "253/253 [==============================] - 8s 32ms/step - loss: 21.8487 - mae: 3.3740 - val_loss: 4371.6099 - val_mae: 65.4346\n",
      "Epoch 14/20\n",
      "253/253 [==============================] - 9s 36ms/step - loss: 20.8395 - mae: 3.2473 - val_loss: 4264.8374 - val_mae: 64.6471\n",
      "Epoch 15/20\n",
      "253/253 [==============================] - 10s 41ms/step - loss: 19.3774 - mae: 3.1352 - val_loss: 4373.2319 - val_mae: 65.4709\n",
      "Epoch 16/20\n",
      "253/253 [==============================] - 9s 35ms/step - loss: 18.7009 - mae: 3.0802 - val_loss: 4475.0767 - val_mae: 66.2416\n",
      "6/6 [==============================] - 0s 9ms/step - loss: 8519.3389 - mae: 91.6578\n"
     ]
    }
   ],
   "source": [
    "params={\n",
    "    'hist_days':60, 'fut_days':3,\n",
    "    'data_start': dt.datetime(2017,1,1,0,0,0),\n",
    "    'train_start':dt.datetime(2018,1,1,0,0,0), 'train_end':dt.datetime(2020,3,31,23,59,59),\n",
    "    'val_start':dt.datetime(2020,4,1,0,0,0), 'val_end':dt.datetime(2020,12,31,23,59,59),\n",
    "    'test_start':dt.datetime(2021,1,1,0,0,0), 'test_end':dt.datetime(2021,12,31,23,59,59),\n",
    "    'days_list':[14,50,200], #'bol_days':30, 'rsi_days':14, 'ma_days': 30,\n",
    "    'val_size': 0.2, 'test_size':0.15, 'batch_size':2, 'epochs':20,\n",
    "    'loss':'mse', 'optimizer':'rmsprop', 'metrics':'mae', 'patience':10,\n",
    "    'train_loss': np.nan, 'val_loss':np.nan, 'test_loss':np.nan, 'test_metric':np.nan,\n",
    "    'last_px':np.nan, 'remarks':''\n",
    "    }\n",
    "df = load_data(\"AAPL\", params)\n",
    "df = make_features_target(df, params)\n",
    "params['last_px']=df.iloc[-1,:]['Adj Close']\n",
    "X_train, X_val, X_test, y_train, y_val, y_test, X_train_df, X_val_df, X_test_df = transform_data(df, params)\n",
    "model = initialize_model(params)\n",
    "model, history = run_model(X_train, y_train, X_val, y_val, model, params)\n",
    "results = evaluate_model(X_test, y_test, model)\n",
    "params['train_loss'] = round(history.history['loss'][-1],4)\n",
    "params['val_loss'] = round(history.history['val_loss'][-1], 4)\n",
    "params['test_loss'] = round(results[0], 4)\n",
    "params['test_metric'] = round(results[1], 4)\n",
    "params['remarks'] = 'RNN(50,tanh), Dense(15,linear), Dense(1,linear)'\n",
    "#KIV: dropouts, regularization (DL lecture 2)\n",
    "#No. of params for RNN layer: units*(units+features+1bias)"
   ]
  },
  {
   "cell_type": "markdown",
   "id": "f1a9e462",
   "metadata": {},
   "source": [
    "val: 57 test: 88\n",
    "regularize: val: 58 test: 88"
   ]
  },
  {
   "cell_type": "code",
   "execution_count": 84,
   "id": "47ff4936",
   "metadata": {
    "ExecuteTime": {
     "end_time": "2021-12-28T16:42:11.182389Z",
     "start_time": "2021-12-28T16:42:11.156552Z"
    }
   },
   "outputs": [],
   "source": [
    "#create_analysis(), add_analysis(), read_analysis()\n",
    "# create_analysis()\n",
    "add_analysis()\n",
    "# read_analysis()"
   ]
  },
  {
   "cell_type": "code",
   "execution_count": 85,
   "id": "d0b4ce47",
   "metadata": {
    "ExecuteTime": {
     "end_time": "2021-12-28T16:42:11.547865Z",
     "start_time": "2021-12-28T16:42:11.489777Z"
    },
    "scrolled": true
   },
   "outputs": [
    {
     "data": {
      "text/html": [
       "<div>\n",
       "<style scoped>\n",
       "    .dataframe tbody tr th:only-of-type {\n",
       "        vertical-align: middle;\n",
       "    }\n",
       "\n",
       "    .dataframe tbody tr th {\n",
       "        vertical-align: top;\n",
       "    }\n",
       "\n",
       "    .dataframe thead th {\n",
       "        text-align: right;\n",
       "    }\n",
       "</style>\n",
       "<table border=\"1\" class=\"dataframe\">\n",
       "  <thead>\n",
       "    <tr style=\"text-align: right;\">\n",
       "      <th></th>\n",
       "      <th>hist_days</th>\n",
       "      <th>fut_days</th>\n",
       "      <th>time_start</th>\n",
       "      <th>time_end</th>\n",
       "      <th>bol_days</th>\n",
       "      <th>rsi_days</th>\n",
       "      <th>ma_days</th>\n",
       "      <th>val_size</th>\n",
       "      <th>test_size</th>\n",
       "      <th>batch_size</th>\n",
       "      <th>...</th>\n",
       "      <th>loss</th>\n",
       "      <th>optimizer</th>\n",
       "      <th>metrics</th>\n",
       "      <th>patience</th>\n",
       "      <th>train_loss</th>\n",
       "      <th>val_loss</th>\n",
       "      <th>test_loss</th>\n",
       "      <th>test_metric</th>\n",
       "      <th>last_px</th>\n",
       "      <th>remarks</th>\n",
       "    </tr>\n",
       "  </thead>\n",
       "  <tbody>\n",
       "    <tr>\n",
       "      <th>0</th>\n",
       "      <td>30</td>\n",
       "      <td>5</td>\n",
       "      <td>2017-09-01</td>\n",
       "      <td>2020-12-31</td>\n",
       "      <td>30</td>\n",
       "      <td>30</td>\n",
       "      <td>30</td>\n",
       "      <td>0.2</td>\n",
       "      <td>0.2</td>\n",
       "      <td>4</td>\n",
       "      <td>...</td>\n",
       "      <td>mae</td>\n",
       "      <td>rmsprop</td>\n",
       "      <td>mae</td>\n",
       "      <td>10</td>\n",
       "      <td>0.8345</td>\n",
       "      <td>22.9410</td>\n",
       "      <td>55.3683</td>\n",
       "      <td>55.3683</td>\n",
       "      <td>131.071976</td>\n",
       "      <td>LSTM(20,tanh), LSTM(20,tanh), Dense(15,linear)...</td>\n",
       "    </tr>\n",
       "    <tr>\n",
       "      <th>1</th>\n",
       "      <td>30</td>\n",
       "      <td>5</td>\n",
       "      <td>2017-09-01</td>\n",
       "      <td>2020-12-31</td>\n",
       "      <td>30</td>\n",
       "      <td>30</td>\n",
       "      <td>30</td>\n",
       "      <td>0.2</td>\n",
       "      <td>0.2</td>\n",
       "      <td>2</td>\n",
       "      <td>...</td>\n",
       "      <td>mae</td>\n",
       "      <td>rmsprop</td>\n",
       "      <td>mae</td>\n",
       "      <td>10</td>\n",
       "      <td>1.4083</td>\n",
       "      <td>23.2593</td>\n",
       "      <td>55.4531</td>\n",
       "      <td>55.4531</td>\n",
       "      <td>131.071976</td>\n",
       "      <td>RNN(50,tanh), Dense(15,linear), Dense(1,linear)</td>\n",
       "    </tr>\n",
       "    <tr>\n",
       "      <th>2</th>\n",
       "      <td>30</td>\n",
       "      <td>2</td>\n",
       "      <td>2017-09-01</td>\n",
       "      <td>2020-12-31</td>\n",
       "      <td>30</td>\n",
       "      <td>30</td>\n",
       "      <td>30</td>\n",
       "      <td>0.2</td>\n",
       "      <td>0.2</td>\n",
       "      <td>2</td>\n",
       "      <td>...</td>\n",
       "      <td>mae</td>\n",
       "      <td>rmsprop</td>\n",
       "      <td>mae</td>\n",
       "      <td>10</td>\n",
       "      <td>1.4166</td>\n",
       "      <td>24.0199</td>\n",
       "      <td>56.4973</td>\n",
       "      <td>56.4973</td>\n",
       "      <td>135.852509</td>\n",
       "      <td>RNN(50,tanh), Dense(15,linear), Dense(1,linear)</td>\n",
       "    </tr>\n",
       "  </tbody>\n",
       "</table>\n",
       "<p>3 rows × 21 columns</p>\n",
       "</div>"
      ],
      "text/plain": [
       "   hist_days  fut_days time_start   time_end  bol_days  rsi_days  ma_days  \\\n",
       "0         30         5 2017-09-01 2020-12-31        30        30       30   \n",
       "1         30         5 2017-09-01 2020-12-31        30        30       30   \n",
       "2         30         2 2017-09-01 2020-12-31        30        30       30   \n",
       "\n",
       "   val_size  test_size  batch_size  ...  loss optimizer metrics patience  \\\n",
       "0       0.2        0.2           4  ...   mae   rmsprop     mae       10   \n",
       "1       0.2        0.2           2  ...   mae   rmsprop     mae       10   \n",
       "2       0.2        0.2           2  ...   mae   rmsprop     mae       10   \n",
       "\n",
       "   train_loss  val_loss  test_loss  test_metric     last_px  \\\n",
       "0      0.8345   22.9410    55.3683      55.3683  131.071976   \n",
       "1      1.4083   23.2593    55.4531      55.4531  131.071976   \n",
       "2      1.4166   24.0199    56.4973      56.4973  135.852509   \n",
       "\n",
       "                                             remarks  \n",
       "0  LSTM(20,tanh), LSTM(20,tanh), Dense(15,linear)...  \n",
       "1    RNN(50,tanh), Dense(15,linear), Dense(1,linear)  \n",
       "2    RNN(50,tanh), Dense(15,linear), Dense(1,linear)  \n",
       "\n",
       "[3 rows x 21 columns]"
      ]
     },
     "execution_count": 85,
     "metadata": {},
     "output_type": "execute_result"
    }
   ],
   "source": [
    "read_analysis()"
   ]
  },
  {
   "cell_type": "markdown",
   "id": "01e4f971",
   "metadata": {},
   "source": [
    "## Testing"
   ]
  },
  {
   "cell_type": "code",
   "execution_count": 91,
   "id": "87b26b15",
   "metadata": {
    "ExecuteTime": {
     "end_time": "2021-12-28T16:48:52.700374Z",
     "start_time": "2021-12-28T16:48:52.684348Z"
    }
   },
   "outputs": [
    {
     "name": "stdout",
     "output_type": "stream",
     "text": [
      "right\n"
     ]
    }
   ],
   "source": [
    "params={\n",
    "    'hist_days':45, 'fut_days':2,\n",
    "    'time_start':dt.datetime(2014,9,1,0,0,0), 'time_end':dt.datetime(2020,12,31,0,0,0),\n",
    "    'days_list':[14,50,200], 'bol_days':45, 'rsi_days':45, 'ma_days': 45,\n",
    "    'val_size': 0.2, 'test_size':0.2, 'batch_size':2, 'epochs':20,\n",
    "    'loss':'mae', 'optimizer':'rmsprop', 'metrics':'mae', 'patience':10,\n",
    "    'train_loss': np.nan, 'val_loss':np.nan, 'test_loss':np.nan, 'test_metric':np.nan,\n",
    "    'last_px':np.nan, 'remarks':''\n",
    "    }\n",
    "df = load_data(params)"
   ]
  },
  {
   "cell_type": "code",
   "execution_count": 103,
   "id": "6a8c35db",
   "metadata": {
    "ExecuteTime": {
     "end_time": "2021-12-28T16:54:18.923183Z",
     "start_time": "2021-12-28T16:54:18.911656Z"
    }
   },
   "outputs": [
    {
     "name": "stdout",
     "output_type": "stream",
     "text": [
      "01\n"
     ]
    },
    {
     "data": {
      "text/plain": [
       "str"
      ]
     },
     "execution_count": 103,
     "metadata": {},
     "output_type": "execute_result"
    }
   ],
   "source": [
    "see = dt.datetime(2020,1,1,0,0,0)\n",
    "print(\"{0:0=2d}\".format(see.month))\n",
    "month = \"{0:0=2d}\".format(see.month)\n",
    "type(month)"
   ]
  },
  {
   "cell_type": "code",
   "execution_count": 15,
   "id": "ef4a775b",
   "metadata": {
    "ExecuteTime": {
     "end_time": "2021-12-28T12:01:02.707445Z",
     "start_time": "2021-12-28T12:01:02.606898Z"
    }
   },
   "outputs": [],
   "source": [
    "params={\n",
    "    'hist_days':30, 'fut_days':5,\n",
    "    'time_start':dt.datetime(2017,9,1,0,0,0), 'time_end':dt.datetime(2020,12,31,0,0,0),\n",
    "    'bol_days':30, 'rsi_days':30, 'ma_days': 30,\n",
    "    'val_size': 0.2, 'test_size':0.2, 'batch_size':4, 'epochs':50,\n",
    "    'loss':'mae', 'optimizer':'rmsprop', 'metrics':'mae', 'patience':10,\n",
    "    'train_loss': np.nan, 'val_loss':np.nan, 'test_loss':np.nan, 'test_metric':np.nan,\n",
    "    'last_px':np.nan, 'remarks':''\n",
    "    }\n",
    "df = load_data()\n",
    "df = make_features_target(df, params)\n",
    "X = df.drop(labels='target', axis=1).copy()\n",
    "y = df[['target']].copy()"
   ]
  },
  {
   "cell_type": "code",
   "execution_count": 16,
   "id": "0bcaba08",
   "metadata": {
    "ExecuteTime": {
     "end_time": "2021-12-28T12:01:25.274544Z",
     "start_time": "2021-12-28T12:01:25.220692Z"
    }
   },
   "outputs": [
    {
     "data": {
      "text/html": [
       "<div>\n",
       "<style scoped>\n",
       "    .dataframe tbody tr th:only-of-type {\n",
       "        vertical-align: middle;\n",
       "    }\n",
       "\n",
       "    .dataframe tbody tr th {\n",
       "        vertical-align: top;\n",
       "    }\n",
       "\n",
       "    .dataframe thead th {\n",
       "        text-align: right;\n",
       "    }\n",
       "</style>\n",
       "<table border=\"1\" class=\"dataframe\">\n",
       "  <thead>\n",
       "    <tr style=\"text-align: right;\">\n",
       "      <th></th>\n",
       "      <th>Adj Close</th>\n",
       "      <th>w_bol</th>\n",
       "      <th>rsi</th>\n",
       "      <th>vix_adj_close</th>\n",
       "      <th>ma</th>\n",
       "      <th>obv</th>\n",
       "    </tr>\n",
       "    <tr>\n",
       "      <th>Date</th>\n",
       "      <th></th>\n",
       "      <th></th>\n",
       "      <th></th>\n",
       "      <th></th>\n",
       "      <th></th>\n",
       "      <th></th>\n",
       "    </tr>\n",
       "  </thead>\n",
       "  <tbody>\n",
       "    <tr>\n",
       "      <th>2017-09-01</th>\n",
       "      <td>39.084606</td>\n",
       "      <td>11.509386</td>\n",
       "      <td>63.108697</td>\n",
       "      <td>10.13</td>\n",
       "      <td>37.490514</td>\n",
       "      <td>3105968000</td>\n",
       "    </tr>\n",
       "    <tr>\n",
       "      <th>2017-09-05</th>\n",
       "      <td>38.615261</td>\n",
       "      <td>11.334846</td>\n",
       "      <td>60.019660</td>\n",
       "      <td>12.23</td>\n",
       "      <td>37.574575</td>\n",
       "      <td>2988094000</td>\n",
       "    </tr>\n",
       "    <tr>\n",
       "      <th>2017-09-06</th>\n",
       "      <td>38.574757</td>\n",
       "      <td>11.153952</td>\n",
       "      <td>59.758524</td>\n",
       "      <td>11.63</td>\n",
       "      <td>37.652144</td>\n",
       "      <td>2901487200</td>\n",
       "    </tr>\n",
       "    <tr>\n",
       "      <th>2017-09-07</th>\n",
       "      <td>38.419895</td>\n",
       "      <td>10.953333</td>\n",
       "      <td>58.747578</td>\n",
       "      <td>11.55</td>\n",
       "      <td>37.718856</td>\n",
       "      <td>2813773200</td>\n",
       "    </tr>\n",
       "    <tr>\n",
       "      <th>2017-09-08</th>\n",
       "      <td>37.793308</td>\n",
       "      <td>10.210811</td>\n",
       "      <td>54.862793</td>\n",
       "      <td>12.12</td>\n",
       "      <td>37.787622</td>\n",
       "      <td>2699327200</td>\n",
       "    </tr>\n",
       "    <tr>\n",
       "      <th>...</th>\n",
       "      <td>...</td>\n",
       "      <td>...</td>\n",
       "      <td>...</td>\n",
       "      <td>...</td>\n",
       "      <td>...</td>\n",
       "      <td>...</td>\n",
       "    </tr>\n",
       "    <tr>\n",
       "      <th>2020-12-16</th>\n",
       "      <td>127.026901</td>\n",
       "      <td>11.768031</td>\n",
       "      <td>59.309264</td>\n",
       "      <td>22.50</td>\n",
       "      <td>119.295469</td>\n",
       "      <td>6091306100</td>\n",
       "    </tr>\n",
       "    <tr>\n",
       "      <th>2020-12-17</th>\n",
       "      <td>127.911446</td>\n",
       "      <td>12.345348</td>\n",
       "      <td>59.970969</td>\n",
       "      <td>21.93</td>\n",
       "      <td>119.757552</td>\n",
       "      <td>6185665900</td>\n",
       "    </tr>\n",
       "    <tr>\n",
       "      <th>2020-12-18</th>\n",
       "      <td>125.883957</td>\n",
       "      <td>12.801435</td>\n",
       "      <td>57.744377</td>\n",
       "      <td>21.57</td>\n",
       "      <td>120.017119</td>\n",
       "      <td>5993124400</td>\n",
       "    </tr>\n",
       "    <tr>\n",
       "      <th>2020-12-21</th>\n",
       "      <td>127.444328</td>\n",
       "      <td>13.441606</td>\n",
       "      <td>58.957558</td>\n",
       "      <td>25.16</td>\n",
       "      <td>120.333171</td>\n",
       "      <td>6114376000</td>\n",
       "    </tr>\n",
       "    <tr>\n",
       "      <th>2020-12-22</th>\n",
       "      <td>131.071976</td>\n",
       "      <td>14.497776</td>\n",
       "      <td>61.608478</td>\n",
       "      <td>24.23</td>\n",
       "      <td>120.848660</td>\n",
       "      <td>6283280800</td>\n",
       "    </tr>\n",
       "  </tbody>\n",
       "</table>\n",
       "<p>833 rows × 6 columns</p>\n",
       "</div>"
      ],
      "text/plain": [
       "             Adj Close      w_bol        rsi  vix_adj_close          ma  \\\n",
       "Date                                                                      \n",
       "2017-09-01   39.084606  11.509386  63.108697          10.13   37.490514   \n",
       "2017-09-05   38.615261  11.334846  60.019660          12.23   37.574575   \n",
       "2017-09-06   38.574757  11.153952  59.758524          11.63   37.652144   \n",
       "2017-09-07   38.419895  10.953333  58.747578          11.55   37.718856   \n",
       "2017-09-08   37.793308  10.210811  54.862793          12.12   37.787622   \n",
       "...                ...        ...        ...            ...         ...   \n",
       "2020-12-16  127.026901  11.768031  59.309264          22.50  119.295469   \n",
       "2020-12-17  127.911446  12.345348  59.970969          21.93  119.757552   \n",
       "2020-12-18  125.883957  12.801435  57.744377          21.57  120.017119   \n",
       "2020-12-21  127.444328  13.441606  58.957558          25.16  120.333171   \n",
       "2020-12-22  131.071976  14.497776  61.608478          24.23  120.848660   \n",
       "\n",
       "                   obv  \n",
       "Date                    \n",
       "2017-09-01  3105968000  \n",
       "2017-09-05  2988094000  \n",
       "2017-09-06  2901487200  \n",
       "2017-09-07  2813773200  \n",
       "2017-09-08  2699327200  \n",
       "...                ...  \n",
       "2020-12-16  6091306100  \n",
       "2020-12-17  6185665900  \n",
       "2020-12-18  5993124400  \n",
       "2020-12-21  6114376000  \n",
       "2020-12-22  6283280800  \n",
       "\n",
       "[833 rows x 6 columns]"
      ]
     },
     "execution_count": 16,
     "metadata": {},
     "output_type": "execute_result"
    }
   ],
   "source": [
    "from sklearn.model_selection import TimeSeriesSplit\n",
    "X"
   ]
  },
  {
   "cell_type": "code",
   "execution_count": null,
   "id": "b5c43eb6",
   "metadata": {},
   "outputs": [],
   "source": []
  },
  {
   "cell_type": "markdown",
   "id": "97b2e8d3",
   "metadata": {},
   "source": [
    "## RNN - Initial Setup"
   ]
  },
  {
   "cell_type": "markdown",
   "id": "1418c8af",
   "metadata": {
    "heading_collapsed": true
   },
   "source": [
    "### Getting data\n",
    "Data is downloaded for the first time and stored in the same folder as this jupyter notebook. Comment/uncomment to execute accordingly<br>\n",
    "Note: Close data is not the same Adj Close data"
   ]
  },
  {
   "cell_type": "code",
   "execution_count": 2,
   "id": "8933704f",
   "metadata": {
    "ExecuteTime": {
     "end_time": "2021-12-26T07:57:07.846946Z",
     "start_time": "2021-12-26T07:57:07.818389Z"
    },
    "hidden": true
   },
   "outputs": [],
   "source": [
    "#Downloading from yfinance\n",
    "# df=yf.download('AAPL','2018-01-01','2020-12-31')\n",
    "#Saving file to jupyter notebook folder\n",
    "# df.to_csv(\"/Users/ivanlimsweeyong/code/ivanlimsy/jupyter/AAPL.csv\")\n",
    "#Retrieving file from jupyter notebook folder\n",
    "df = pd.read_csv(\"/Users/ivanlimsweeyong/code/ivanlimsy/jupyter/AAPL.csv\", index_col=0)\n",
    "df.index = pd.to_datetime(df.index, format='%Y-%m-%d')"
   ]
  },
  {
   "cell_type": "markdown",
   "id": "e24c78e0",
   "metadata": {
    "heading_collapsed": true
   },
   "source": [
    "### Prepare technical indicators"
   ]
  },
  {
   "cell_type": "code",
   "execution_count": 3,
   "id": "1cab34fb",
   "metadata": {
    "ExecuteTime": {
     "end_time": "2021-12-26T07:57:09.254105Z",
     "start_time": "2021-12-26T07:57:09.238526Z"
    },
    "hidden": true
   },
   "outputs": [],
   "source": [
    "import ta"
   ]
  },
  {
   "cell_type": "markdown",
   "id": "742917cd",
   "metadata": {
    "heading_collapsed": true,
    "hidden": true
   },
   "source": [
    "####  Volatility - Bollinger Bands 20 days, 2 s.d. (width)"
   ]
  },
  {
   "cell_type": "code",
   "execution_count": 4,
   "id": "e7d848cc",
   "metadata": {
    "ExecuteTime": {
     "end_time": "2021-12-26T07:57:09.800016Z",
     "start_time": "2021-12-26T07:57:09.781461Z"
    },
    "hidden": true
   },
   "outputs": [],
   "source": [
    "bol = ta.volatility.BollingerBands(df['Adj Close'], window=30, window_dev=2)\n",
    "df['w_bol'] = bol.bollinger_wband()"
   ]
  },
  {
   "cell_type": "markdown",
   "id": "c1c44e2e",
   "metadata": {
    "ExecuteTime": {
     "end_time": "2021-12-23T11:01:32.494184Z",
     "start_time": "2021-12-23T11:01:32.445594Z"
    },
    "heading_collapsed": true,
    "hidden": true
   },
   "source": [
    "#### Momentum - RSI 14 days"
   ]
  },
  {
   "cell_type": "code",
   "execution_count": 5,
   "id": "cdac93e1",
   "metadata": {
    "ExecuteTime": {
     "end_time": "2021-12-26T07:57:12.563984Z",
     "start_time": "2021-12-26T07:57:12.551515Z"
    },
    "hidden": true
   },
   "outputs": [],
   "source": [
    "rsi = ta.momentum.RSIIndicator(df['Adj Close'], window=14)\n",
    "df['rsi'] = rsi.rsi()"
   ]
  },
  {
   "cell_type": "markdown",
   "id": "5d434222",
   "metadata": {
    "heading_collapsed": true,
    "hidden": true
   },
   "source": [
    "#### VIX index"
   ]
  },
  {
   "cell_type": "code",
   "execution_count": 6,
   "id": "9dd11126",
   "metadata": {
    "ExecuteTime": {
     "end_time": "2021-12-26T07:57:13.089963Z",
     "start_time": "2021-12-26T07:57:13.074499Z"
    },
    "hidden": true
   },
   "outputs": [],
   "source": [
    "#Downloading from yfinance\n",
    "# vix_df=yf.download('^VIX','2018-01-01','2020-12-31')\n",
    "#Saving file to jupyter notebook folder\n",
    "# vix_df.to_csv(\"/Users/ivanlimsweeyong/code/ivanlimsy/jupyter/VIX.csv\")\n",
    "#Retrieving file from jupyter notebook folder\n",
    "vix_df = pd.read_csv(\"/Users/ivanlimsweeyong/code/ivanlimsy/jupyter/VIX.csv\", index_col=0)\n",
    "vix_df.index = pd.to_datetime(vix_df.index, format='%Y-%m-%d')\n",
    "vix_df.rename(columns={'Adj Close': 'vix_adj_close'}, inplace=True)\n",
    "df = df.merge(vix_df[['vix_adj_close']], left_index=True, right_index=True)"
   ]
  },
  {
   "cell_type": "markdown",
   "id": "8baa7cc7",
   "metadata": {
    "ExecuteTime": {
     "end_time": "2021-12-23T11:37:53.692764Z",
     "start_time": "2021-12-23T11:37:53.656777Z"
    },
    "heading_collapsed": true,
    "hidden": true
   },
   "source": [
    "#### Simple Moving Average"
   ]
  },
  {
   "cell_type": "code",
   "execution_count": 7,
   "id": "8685c761",
   "metadata": {
    "ExecuteTime": {
     "end_time": "2021-12-26T07:57:15.255550Z",
     "start_time": "2021-12-26T07:57:15.249503Z"
    },
    "hidden": true
   },
   "outputs": [],
   "source": [
    "ma = ta.trend.SMAIndicator(df['Adj Close'], window=30)\n",
    "df['ma_30'] = ma.sma_indicator()"
   ]
  },
  {
   "cell_type": "markdown",
   "id": "62366b4a",
   "metadata": {
    "heading_collapsed": true,
    "hidden": true
   },
   "source": [
    "#### On Balance Volume"
   ]
  },
  {
   "cell_type": "code",
   "execution_count": 8,
   "id": "ef443ad0",
   "metadata": {
    "ExecuteTime": {
     "end_time": "2021-12-26T07:57:16.399886Z",
     "start_time": "2021-12-26T07:57:16.392325Z"
    },
    "hidden": true
   },
   "outputs": [],
   "source": [
    "obv = ta.volume.OnBalanceVolumeIndicator(df['Adj Close'], df['Volume'])"
   ]
  },
  {
   "cell_type": "code",
   "execution_count": 9,
   "id": "731e44f8",
   "metadata": {
    "ExecuteTime": {
     "end_time": "2021-12-26T07:57:17.106025Z",
     "start_time": "2021-12-26T07:57:17.100497Z"
    },
    "hidden": true
   },
   "outputs": [],
   "source": [
    "df['obv'] = obv.on_balance_volume()"
   ]
  },
  {
   "cell_type": "markdown",
   "id": "d3af8e78",
   "metadata": {
    "heading_collapsed": true,
    "hidden": true
   },
   "source": [
    "#### Visualization of indicators"
   ]
  },
  {
   "cell_type": "code",
   "execution_count": 68,
   "id": "2de3983b",
   "metadata": {
    "ExecuteTime": {
     "end_time": "2021-12-23T12:07:10.960568Z",
     "start_time": "2021-12-23T12:07:10.947857Z"
    },
    "hidden": true
   },
   "outputs": [],
   "source": [
    "df2 = df.dropna(axis=0).copy()   #so as not to drop inplace"
   ]
  },
  {
   "cell_type": "code",
   "execution_count": 75,
   "id": "c9754729",
   "metadata": {
    "ExecuteTime": {
     "end_time": "2021-12-23T12:09:25.800212Z",
     "start_time": "2021-12-23T12:09:25.782607Z"
    },
    "hidden": true
   },
   "outputs": [
    {
     "data": {
      "text/plain": [
       "Index(['Open', 'High', 'Low', 'Close', 'Adj Close', 'Volume', 'h_bol', 'l_bol',\n",
       "       'rsi', 'vix_adj_close', 'ma_30', 'obv', 'w_bol'],\n",
       "      dtype='object')"
      ]
     },
     "execution_count": 75,
     "metadata": {},
     "output_type": "execute_result"
    }
   ],
   "source": [
    "df2.columns"
   ]
  },
  {
   "cell_type": "code",
   "execution_count": 78,
   "id": "5f9fd7da",
   "metadata": {
    "ExecuteTime": {
     "end_time": "2021-12-23T12:11:27.887790Z",
     "start_time": "2021-12-23T12:11:26.604730Z"
    },
    "collapsed": true,
    "hidden": true
   },
   "outputs": [
    {
     "data": {
      "image/png": "[encoded data removed]",
      "text/plain": [
       "<Figure size 432x288 with 1 Axes>"
      ]
     },
     "metadata": {
      "needs_background": "light"
     },
     "output_type": "display_data"
    },
    {
     "data": {
      "image/png": "[encoded data removed]",
      "text/plain": [
       "<Figure size 432x288 with 1 Axes>"
      ]
     },
     "metadata": {
      "needs_background": "light"
     },
     "output_type": "display_data"
    },
    {
     "data": {
      "image/png": "[encoded data removed]",
      "text/plain": [
       "<Figure size 432x288 with 1 Axes>"
      ]
     },
     "metadata": {
      "needs_background": "light"
     },
     "output_type": "display_data"
    },
    {
     "data": {
      "image/png": "[encoded data removed]",
      "text/plain": [
       "<Figure size 432x288 with 1 Axes>"
      ]
     },
     "metadata": {
      "needs_background": "light"
     },
     "output_type": "display_data"
    },
    {
     "data": {
      "image/png": "[encoded data removed]",
      "text/plain": [
       "<Figure size 432x288 with 1 Axes>"
      ]
     },
     "metadata": {
      "needs_background": "light"
     },
     "output_type": "display_data"
    }
   ],
   "source": [
    "fig = plt.figure()\n",
    "fig = plt.hist(df2['w_bol'])\n",
    "plt.title(\"Width of bollinger band\")\n",
    "plt.show()\n",
    "fig = plt.figure()\n",
    "fig = plt.hist(df2['rsi'])\n",
    "plt.title(\"RSI of 14 days\")\n",
    "plt.show()\n",
    "fig = plt.figure()\n",
    "fig = plt.hist(df2['vix_adj_close'])\n",
    "plt.title(\"VIX index adjusted close\")\n",
    "plt.show()\n",
    "fig = plt.figure()\n",
    "fig = plt.hist(df2['ma_30'])\n",
    "plt.title(\"Moving Average of past 30 days\")\n",
    "plt.show()\n",
    "fig = plt.figure()\n",
    "fig = plt.hist(df2['obv'])\n",
    "plt.title(\"On Balance Volume\")\n",
    "plt.show()"
   ]
  },
  {
   "cell_type": "markdown",
   "id": "3517b0a8",
   "metadata": {
    "heading_collapsed": true
   },
   "source": [
    "### Prepare X and y data"
   ]
  },
  {
   "cell_type": "markdown",
   "id": "6e208b91",
   "metadata": {
    "hidden": true
   },
   "source": [
    "X.shape = (n_sequences, n_observations, n_features)<br>\n",
    "sequences: sequence of 30 consecutive observations of the selected features<br>\n",
    "observations: a single day of selected features' values<br>\n",
    "features: price and indicators"
   ]
  },
  {
   "cell_type": "code",
   "execution_count": 12,
   "id": "0249b71f",
   "metadata": {
    "ExecuteTime": {
     "end_time": "2021-12-26T07:57:36.275254Z",
     "start_time": "2021-12-26T07:57:35.884807Z"
    },
    "hidden": true
   },
   "outputs": [
    {
     "name": "stdout",
     "output_type": "stream",
     "text": [
      "(691, 30, 5)\n",
      "(691, 1)\n"
     ]
    }
   ],
   "source": [
    "df2 = df.dropna(axis=0).copy()\n",
    "df2.drop(labels=['Open', 'High', 'Low', 'Close', 'Volume'], axis=1, inplace=True)\n",
    "#Tried using .iloc but not sure how to split into sequences of 30 days\n",
    "# X = df2.iloc[:-5,:]\n",
    "# X.drop(labels=['Adj Close'], axis=1, inplace=True)\n",
    "# y = df2.iloc[5:,:][['Adj Close']]\n",
    "X=[]; y=[]\n",
    "for i in range(len(df2)-35):\n",
    "    X.append(np.array(df2.iloc[i:(i+30),1:6]))\n",
    "    y.append(np.array(df2.iloc[(i+35):(i+36),0]))\n",
    "X = np.array(X)\n",
    "y = np.array(y)\n",
    "print(X.shape)   #(n_sequences, n_observations, n_features)\n",
    "print(y.shape)"
   ]
  },
  {
   "cell_type": "markdown",
   "id": "79fd530f",
   "metadata": {
    "hidden": true
   },
   "source": [
    "Checkpoint: created X of 6 features:\n",
    "- adj close price\n",
    "- width of bollinger bands\n",
    "- rsi\n",
    "- vix adj close price\n",
    "- ma 30 days\n",
    "- on balance volume"
   ]
  },
  {
   "cell_type": "markdown",
   "id": "ffc24800",
   "metadata": {
    "hidden": true
   },
   "source": [
    "Pointers:\n",
    "- No. of rnn units refers to n number of interesting temporal features from the time series (random, unknown, selected by model)"
   ]
  },
  {
   "cell_type": "code",
   "execution_count": 13,
   "id": "affc1243",
   "metadata": {
    "ExecuteTime": {
     "end_time": "2021-12-26T07:57:42.573157Z",
     "start_time": "2021-12-26T07:57:38.467344Z"
    },
    "hidden": true
   },
   "outputs": [],
   "source": [
    "from tensorflow.keras.models import Sequential\n",
    "from tensorflow.keras.layers import Normalization, Dense, SimpleRNN\n",
    "from tensorflow.keras.callbacks import EarlyStopping\n",
    "from sklearn.model_selection import train_test_split"
   ]
  },
  {
   "cell_type": "code",
   "execution_count": 14,
   "id": "932fbde4",
   "metadata": {
    "ExecuteTime": {
     "end_time": "2021-12-26T07:57:42.587630Z",
     "start_time": "2021-12-26T07:57:42.575137Z"
    },
    "hidden": true
   },
   "outputs": [
    {
     "name": "stdout",
     "output_type": "stream",
     "text": [
      "(552, 30, 5)\n",
      "(139, 30, 5)\n",
      "(552, 1)\n",
      "(139, 1)\n"
     ]
    }
   ],
   "source": [
    "X_train, X_test, y_train, y_test = train_test_split(X, y, test_size=0.2, random_state=42)\n",
    "print(X_train.shape); print(X_test.shape); print(y_train.shape); print(y_test.shape)"
   ]
  },
  {
   "cell_type": "code",
   "execution_count": 17,
   "id": "7dda7e91",
   "metadata": {
    "ExecuteTime": {
     "end_time": "2021-12-26T07:59:12.211548Z",
     "start_time": "2021-12-26T07:59:12.205732Z"
    },
    "hidden": true
   },
   "outputs": [],
   "source": [
    "def initialize_model():\n",
    "    model=Sequential()\n",
    "#     model.add(Normalization())\n",
    "    model.add(SimpleRNN(units=30, activation='tanh', input_shape=(30,5)))\n",
    "    model.add(Dense(15,activation=\"linear\"))\n",
    "    model.add(Dense(1,activation=\"linear\"))\n",
    "    model.compile(loss='mae', optimizer='rmsprop')\n",
    "    return model"
   ]
  },
  {
   "cell_type": "code",
   "execution_count": 18,
   "id": "aab2df1e",
   "metadata": {
    "ExecuteTime": {
     "end_time": "2021-12-26T08:00:06.061248Z",
     "start_time": "2021-12-26T07:59:15.173232Z"
    },
    "hidden": true,
    "scrolled": true
   },
   "outputs": [
    {
     "name": "stdout",
     "output_type": "stream",
     "text": [
      "Epoch 1/20\n",
      "221/221 [==============================] - 4s 11ms/step - loss: 58.0522 - val_loss: 45.2376\n",
      "Epoch 2/20\n",
      "221/221 [==============================] - 2s 8ms/step - loss: 41.5412 - val_loss: 37.7771\n",
      "Epoch 3/20\n",
      "221/221 [==============================] - 2s 9ms/step - loss: 39.5598 - val_loss: 37.2128\n",
      "Epoch 4/20\n",
      "221/221 [==============================] - 2s 8ms/step - loss: 38.9664 - val_loss: 36.4987\n",
      "Epoch 5/20\n",
      "221/221 [==============================] - 2s 8ms/step - loss: 38.3890 - val_loss: 36.0008\n",
      "Epoch 6/20\n",
      "221/221 [==============================] - 2s 8ms/step - loss: 37.7615 - val_loss: 35.1918\n",
      "Epoch 7/20\n",
      "221/221 [==============================] - 2s 9ms/step - loss: 37.0922 - val_loss: 34.4979\n",
      "Epoch 8/20\n",
      "221/221 [==============================] - 4s 16ms/step - loss: 36.3846 - val_loss: 33.7859\n",
      "Epoch 9/20\n",
      "221/221 [==============================] - 4s 16ms/step - loss: 35.6474 - val_loss: 32.9253\n",
      "Epoch 10/20\n",
      "221/221 [==============================] - 3s 14ms/step - loss: 34.8025 - val_loss: 32.0689\n",
      "Epoch 11/20\n",
      "221/221 [==============================] - 3s 14ms/step - loss: 33.9073 - val_loss: 30.9478\n",
      "Epoch 12/20\n",
      "221/221 [==============================] - 2s 11ms/step - loss: 32.8311 - val_loss: 29.7948\n",
      "Epoch 13/20\n",
      "221/221 [==============================] - 3s 16ms/step - loss: 31.6752 - val_loss: 28.4773\n",
      "Epoch 14/20\n",
      "221/221 [==============================] - 3s 14ms/step - loss: 30.3101 - val_loss: 26.8835\n",
      "Epoch 15/20\n",
      "221/221 [==============================] - 3s 15ms/step - loss: 28.6860 - val_loss: 25.1772\n",
      "Epoch 16/20\n",
      "221/221 [==============================] - 3s 12ms/step - loss: 26.9068 - val_loss: 23.0655\n",
      "Epoch 17/20\n",
      "221/221 [==============================] - 2s 9ms/step - loss: 24.8487 - val_loss: 20.7630\n",
      "Epoch 18/20\n",
      "221/221 [==============================] - 2s 9ms/step - loss: 22.3743 - val_loss: 18.0545\n",
      "Epoch 19/20\n",
      "221/221 [==============================] - 2s 8ms/step - loss: 19.8448 - val_loss: 15.9381\n",
      "Epoch 20/20\n",
      "221/221 [==============================] - 2s 9ms/step - loss: 18.5957 - val_loss: 15.6681\n"
     ]
    }
   ],
   "source": [
    "model = initialize_model()\n",
    "es = EarlyStopping(patience=5)\n",
    "history = model.fit(X_train, y_train,\n",
    "                    batch_size=2, verbose=1,\n",
    "                    epochs= 20, validation_split=0.2)"
   ]
  },
  {
   "cell_type": "code",
   "execution_count": 19,
   "id": "b33bdc5f",
   "metadata": {
    "ExecuteTime": {
     "end_time": "2021-12-26T08:00:06.185861Z",
     "start_time": "2021-12-26T08:00:06.065506Z"
    },
    "hidden": true
   },
   "outputs": [
    {
     "name": "stdout",
     "output_type": "stream",
     "text": [
      "5/5 [==============================] - 0s 4ms/step - loss: 17.8817\n"
     ]
    }
   ],
   "source": [
    "#Tanh\n",
    "result = model.evaluate(X_test, y_test)"
   ]
  },
  {
   "cell_type": "code",
   "execution_count": 28,
   "id": "99e604cf",
   "metadata": {
    "ExecuteTime": {
     "end_time": "2021-12-26T08:04:33.101308Z",
     "start_time": "2021-12-26T08:04:32.811333Z"
    },
    "hidden": true,
    "scrolled": true
   },
   "outputs": [
    {
     "data": {
      "image/png": "[encoded data removed]",
      "text/plain": [
       "<Figure size 1440x432 with 1 Axes>"
      ]
     },
     "metadata": {
      "needs_background": "light"
     },
     "output_type": "display_data"
    }
   ],
   "source": [
    "plt.figure(figsize=(20,6))\n",
    "plt.plot([i for i in range(0,20)], history.history['loss'], label='loss')\n",
    "plt.plot([i for i in range(0,20)], history.history['val_loss'], label='val_loss')\n",
    "plt.legend()\n",
    "plt.show()"
   ]
  },
  {
   "cell_type": "markdown",
   "id": "ae12e72d",
   "metadata": {},
   "source": [
    "## yFinance API"
   ]
  },
  {
   "cell_type": "markdown",
   "id": "0ec751ee",
   "metadata": {
    "heading_collapsed": true
   },
   "source": [
    "### Installations, importing"
   ]
  },
  {
   "cell_type": "code",
   "execution_count": 1,
   "id": "f4bbcd7e",
   "metadata": {
    "ExecuteTime": {
     "end_time": "2021-12-16T12:31:14.457205Z",
     "start_time": "2021-12-16T12:31:07.933899Z"
    },
    "collapsed": true,
    "hidden": true
   },
   "outputs": [
    {
     "name": "stdout",
     "output_type": "stream",
     "text": [
      "Collecting yfinance\n",
      "  Downloading yfinance-0.1.67-py2.py3-none-any.whl (25 kB)\n",
      "Requirement already satisfied: pandas>=0.24 in /Users/ivanlimsweeyong/.pyenv/versions/3.8.6/envs/lewagon/lib/python3.8/site-packages (from yfinance) (1.3.1)\n",
      "Requirement already satisfied: requests>=2.20 in /Users/ivanlimsweeyong/.pyenv/versions/3.8.6/envs/lewagon/lib/python3.8/site-packages (from yfinance) (2.26.0)\n",
      "Requirement already satisfied: numpy>=1.15 in /Users/ivanlimsweeyong/.pyenv/versions/3.8.6/envs/lewagon/lib/python3.8/site-packages (from yfinance) (1.18.5)\n",
      "Collecting multitasking>=0.0.7\n",
      "  Downloading multitasking-0.0.10.tar.gz (8.2 kB)\n",
      "  Preparing metadata (setup.py) ... \u001b[?25ldone\n",
      "\u001b[?25hRequirement already satisfied: lxml>=4.5.1 in /Users/ivanlimsweeyong/.pyenv/versions/3.8.6/envs/lewagon/lib/python3.8/site-packages (from yfinance) (4.6.3)\n",
      "Requirement already satisfied: pytz>=2017.3 in /Users/ivanlimsweeyong/.pyenv/versions/3.8.6/envs/lewagon/lib/python3.8/site-packages (from pandas>=0.24->yfinance) (2021.1)\n",
      "Requirement already satisfied: python-dateutil>=2.7.3 in /Users/ivanlimsweeyong/.pyenv/versions/3.8.6/envs/lewagon/lib/python3.8/site-packages (from pandas>=0.24->yfinance) (2.8.2)\n",
      "Requirement already satisfied: charset-normalizer~=2.0.0 in /Users/ivanlimsweeyong/.pyenv/versions/3.8.6/envs/lewagon/lib/python3.8/site-packages (from requests>=2.20->yfinance) (2.0.4)\n",
      "Requirement already satisfied: certifi>=2017.4.17 in /Users/ivanlimsweeyong/.pyenv/versions/3.8.6/envs/lewagon/lib/python3.8/site-packages (from requests>=2.20->yfinance) (2021.5.30)\n",
      "Requirement already satisfied: urllib3<1.27,>=1.21.1 in /Users/ivanlimsweeyong/.pyenv/versions/3.8.6/envs/lewagon/lib/python3.8/site-packages (from requests>=2.20->yfinance) (1.26.6)\n",
      "Requirement already satisfied: idna<4,>=2.5 in /Users/ivanlimsweeyong/.pyenv/versions/3.8.6/envs/lewagon/lib/python3.8/site-packages (from requests>=2.20->yfinance) (3.2)\n",
      "Requirement already satisfied: six>=1.5 in /Users/ivanlimsweeyong/.pyenv/versions/3.8.6/envs/lewagon/lib/python3.8/site-packages (from python-dateutil>=2.7.3->pandas>=0.24->yfinance) (1.14.0)\n",
      "Building wheels for collected packages: multitasking\n",
      "  Building wheel for multitasking (setup.py) ... \u001b[?25ldone\n",
      "\u001b[?25h  Created wheel for multitasking: filename=multitasking-0.0.10-py3-none-any.whl size=8489 sha256=5e36f4c637dc8e80eb25b5b825b499227ed8abbcf47ec9e8cb148076692eeef3\n",
      "  Stored in directory: /Users/ivanlimsweeyong/Library/Caches/pip/wheels/21/c9/66/b41c847de65c7985db52ec21d59996841598b8b0e93f2b9500\n",
      "Successfully built multitasking\n",
      "Installing collected packages: multitasking, yfinance\n",
      "Successfully installed multitasking-0.0.10 yfinance-0.1.67\n"
     ]
    }
   ],
   "source": [
    "!pip install yfinance"
   ]
  },
  {
   "cell_type": "code",
   "execution_count": 4,
   "id": "27fc43e2",
   "metadata": {
    "ExecuteTime": {
     "end_time": "2021-12-18T07:30:47.598044Z",
     "start_time": "2021-12-18T07:30:47.571069Z"
    },
    "hidden": true
   },
   "outputs": [],
   "source": [
    "import yfinance as yf"
   ]
  },
  {
   "cell_type": "markdown",
   "id": "bd2be771",
   "metadata": {},
   "source": [
    "### Downloading data"
   ]
  },
  {
   "cell_type": "markdown",
   "id": "0494fc26",
   "metadata": {},
   "source": [
    "Data consists of open/high/low/close/volume and also adjusted close - adjusted close accounts for all applicable splits and dividend distributions"
   ]
  },
  {
   "cell_type": "code",
   "execution_count": 104,
   "id": "133cf147",
   "metadata": {
    "ExecuteTime": {
     "end_time": "2021-12-28T16:57:35.357615Z",
     "start_time": "2021-12-28T16:57:34.857160Z"
    }
   },
   "outputs": [
    {
     "name": "stdout",
     "output_type": "stream",
     "text": [
      "[*********************100%***********************]  1 of 1 completed\n"
     ]
    }
   ],
   "source": [
    "data=yf.download('AAPL','2015-01-01','2021-12-01')\n",
    "df = data.copy()"
   ]
  },
  {
   "cell_type": "code",
   "execution_count": 21,
   "id": "7990525d",
   "metadata": {
    "ExecuteTime": {
     "end_time": "2021-12-18T07:35:52.936323Z",
     "start_time": "2021-12-18T07:35:52.929821Z"
    }
   },
   "outputs": [],
   "source": [
    "df['close_equals_adjclose'] = (df['Close']==df['Adj Close'])\n",
    "df['close_notequal_adjclose'] = df['close_equals_adjclose'].map({True:1,False:0.5})"
   ]
  },
  {
   "cell_type": "code",
   "execution_count": 17,
   "id": "53e77245",
   "metadata": {
    "ExecuteTime": {
     "end_time": "2021-12-18T07:33:39.471577Z",
     "start_time": "2021-12-18T07:33:39.213547Z"
    },
    "collapsed": true
   },
   "outputs": [
    {
     "data": {
      "image/png": "[encoded data removed]",
      "text/plain": [
       "<Figure size 1152x504 with 1 Axes>"
      ]
     },
     "metadata": {
      "needs_background": "light"
     },
     "output_type": "display_data"
    }
   ],
   "source": [
    "fig = plt.figure(figsize=(16,7))\n",
    "plt.plot(df.index, df['Close'])\n",
    "plt.plot(df.index, df['Adj Close'])\n",
    "plt.show()"
   ]
  },
  {
   "cell_type": "code",
   "execution_count": 22,
   "id": "1a3063d6",
   "metadata": {
    "ExecuteTime": {
     "end_time": "2021-12-18T07:35:55.612623Z",
     "start_time": "2021-12-18T07:35:55.424638Z"
    },
    "collapsed": true
   },
   "outputs": [
    {
     "data": {
      "image/png": "[encoded data removed]",
      "text/plain": [
       "<Figure size 1152x504 with 1 Axes>"
      ]
     },
     "metadata": {
      "needs_background": "light"
     },
     "output_type": "display_data"
    }
   ],
   "source": [
    "fig = plt.figure(figsize=(16,7))\n",
    "plt.plot(df.index, df['close_notequal_adjclose'])\n",
    "plt.show()"
   ]
  },
  {
   "cell_type": "code",
   "execution_count": 72,
   "id": "e0e24c7b",
   "metadata": {
    "ExecuteTime": {
     "end_time": "2021-12-18T08:02:38.227939Z",
     "start_time": "2021-12-18T08:02:38.201570Z"
    }
   },
   "outputs": [
    {
     "data": {
      "text/html": [
       "<div>\n",
       "<style scoped>\n",
       "    .dataframe tbody tr th:only-of-type {\n",
       "        vertical-align: middle;\n",
       "    }\n",
       "\n",
       "    .dataframe tbody tr th {\n",
       "        vertical-align: top;\n",
       "    }\n",
       "\n",
       "    .dataframe thead th {\n",
       "        text-align: right;\n",
       "    }\n",
       "</style>\n",
       "<table border=\"1\" class=\"dataframe\">\n",
       "  <thead>\n",
       "    <tr style=\"text-align: right;\">\n",
       "      <th></th>\n",
       "      <th>Open</th>\n",
       "      <th>High</th>\n",
       "      <th>Low</th>\n",
       "      <th>Close</th>\n",
       "      <th>Adj Close</th>\n",
       "      <th>Volume</th>\n",
       "      <th>close_equals_adj_close</th>\n",
       "      <th>close_equals_adjclose</th>\n",
       "      <th>close_notequal_adjclose</th>\n",
       "    </tr>\n",
       "    <tr>\n",
       "      <th>Date</th>\n",
       "      <th></th>\n",
       "      <th></th>\n",
       "      <th></th>\n",
       "      <th></th>\n",
       "      <th></th>\n",
       "      <th></th>\n",
       "      <th></th>\n",
       "      <th></th>\n",
       "      <th></th>\n",
       "    </tr>\n",
       "  </thead>\n",
       "  <tbody>\n",
       "    <tr>\n",
       "      <th>2014-12-31</th>\n",
       "      <td>28.205000</td>\n",
       "      <td>28.282499</td>\n",
       "      <td>27.552500</td>\n",
       "      <td>27.594999</td>\n",
       "      <td>24.983654</td>\n",
       "      <td>165613600</td>\n",
       "      <td>False</td>\n",
       "      <td>False</td>\n",
       "      <td>0.5</td>\n",
       "    </tr>\n",
       "    <tr>\n",
       "      <th>2015-01-02</th>\n",
       "      <td>27.847500</td>\n",
       "      <td>27.860001</td>\n",
       "      <td>26.837500</td>\n",
       "      <td>27.332500</td>\n",
       "      <td>24.745995</td>\n",
       "      <td>212818400</td>\n",
       "      <td>False</td>\n",
       "      <td>False</td>\n",
       "      <td>0.5</td>\n",
       "    </tr>\n",
       "    <tr>\n",
       "      <th>2015-01-05</th>\n",
       "      <td>27.072500</td>\n",
       "      <td>27.162500</td>\n",
       "      <td>26.352501</td>\n",
       "      <td>26.562500</td>\n",
       "      <td>24.048864</td>\n",
       "      <td>257142000</td>\n",
       "      <td>False</td>\n",
       "      <td>False</td>\n",
       "      <td>0.5</td>\n",
       "    </tr>\n",
       "    <tr>\n",
       "      <th>2015-01-06</th>\n",
       "      <td>26.635000</td>\n",
       "      <td>26.857500</td>\n",
       "      <td>26.157499</td>\n",
       "      <td>26.565001</td>\n",
       "      <td>24.051126</td>\n",
       "      <td>263188400</td>\n",
       "      <td>False</td>\n",
       "      <td>False</td>\n",
       "      <td>0.5</td>\n",
       "    </tr>\n",
       "    <tr>\n",
       "      <th>2015-01-07</th>\n",
       "      <td>26.799999</td>\n",
       "      <td>27.049999</td>\n",
       "      <td>26.674999</td>\n",
       "      <td>26.937500</td>\n",
       "      <td>24.388376</td>\n",
       "      <td>160423600</td>\n",
       "      <td>False</td>\n",
       "      <td>False</td>\n",
       "      <td>0.5</td>\n",
       "    </tr>\n",
       "    <tr>\n",
       "      <th>...</th>\n",
       "      <td>...</td>\n",
       "      <td>...</td>\n",
       "      <td>...</td>\n",
       "      <td>...</td>\n",
       "      <td>...</td>\n",
       "      <td>...</td>\n",
       "      <td>...</td>\n",
       "      <td>...</td>\n",
       "      <td>...</td>\n",
       "    </tr>\n",
       "    <tr>\n",
       "      <th>2021-11-23</th>\n",
       "      <td>161.119995</td>\n",
       "      <td>161.800003</td>\n",
       "      <td>159.059998</td>\n",
       "      <td>161.410004</td>\n",
       "      <td>161.410004</td>\n",
       "      <td>96041900</td>\n",
       "      <td>True</td>\n",
       "      <td>True</td>\n",
       "      <td>1.0</td>\n",
       "    </tr>\n",
       "    <tr>\n",
       "      <th>2021-11-24</th>\n",
       "      <td>160.750000</td>\n",
       "      <td>162.139999</td>\n",
       "      <td>159.639999</td>\n",
       "      <td>161.940002</td>\n",
       "      <td>161.940002</td>\n",
       "      <td>69463600</td>\n",
       "      <td>True</td>\n",
       "      <td>True</td>\n",
       "      <td>1.0</td>\n",
       "    </tr>\n",
       "    <tr>\n",
       "      <th>2021-11-26</th>\n",
       "      <td>159.570007</td>\n",
       "      <td>160.449997</td>\n",
       "      <td>156.360001</td>\n",
       "      <td>156.809998</td>\n",
       "      <td>156.809998</td>\n",
       "      <td>76959800</td>\n",
       "      <td>True</td>\n",
       "      <td>True</td>\n",
       "      <td>1.0</td>\n",
       "    </tr>\n",
       "    <tr>\n",
       "      <th>2021-11-29</th>\n",
       "      <td>159.369995</td>\n",
       "      <td>161.190002</td>\n",
       "      <td>158.789993</td>\n",
       "      <td>160.240005</td>\n",
       "      <td>160.240005</td>\n",
       "      <td>88748200</td>\n",
       "      <td>True</td>\n",
       "      <td>True</td>\n",
       "      <td>1.0</td>\n",
       "    </tr>\n",
       "    <tr>\n",
       "      <th>2021-11-30</th>\n",
       "      <td>159.990005</td>\n",
       "      <td>165.520004</td>\n",
       "      <td>159.919998</td>\n",
       "      <td>165.300003</td>\n",
       "      <td>165.300003</td>\n",
       "      <td>174048100</td>\n",
       "      <td>True</td>\n",
       "      <td>True</td>\n",
       "      <td>1.0</td>\n",
       "    </tr>\n",
       "  </tbody>\n",
       "</table>\n",
       "<p>1742 rows × 9 columns</p>\n",
       "</div>"
      ],
      "text/plain": [
       "                  Open        High         Low       Close   Adj Close  \\\n",
       "Date                                                                     \n",
       "2014-12-31   28.205000   28.282499   27.552500   27.594999   24.983654   \n",
       "2015-01-02   27.847500   27.860001   26.837500   27.332500   24.745995   \n",
       "2015-01-05   27.072500   27.162500   26.352501   26.562500   24.048864   \n",
       "2015-01-06   26.635000   26.857500   26.157499   26.565001   24.051126   \n",
       "2015-01-07   26.799999   27.049999   26.674999   26.937500   24.388376   \n",
       "...                ...         ...         ...         ...         ...   \n",
       "2021-11-23  161.119995  161.800003  159.059998  161.410004  161.410004   \n",
       "2021-11-24  160.750000  162.139999  159.639999  161.940002  161.940002   \n",
       "2021-11-26  159.570007  160.449997  156.360001  156.809998  156.809998   \n",
       "2021-11-29  159.369995  161.190002  158.789993  160.240005  160.240005   \n",
       "2021-11-30  159.990005  165.520004  159.919998  165.300003  165.300003   \n",
       "\n",
       "               Volume  close_equals_adj_close  close_equals_adjclose  \\\n",
       "Date                                                                   \n",
       "2014-12-31  165613600                   False                  False   \n",
       "2015-01-02  212818400                   False                  False   \n",
       "2015-01-05  257142000                   False                  False   \n",
       "2015-01-06  263188400                   False                  False   \n",
       "2015-01-07  160423600                   False                  False   \n",
       "...               ...                     ...                    ...   \n",
       "2021-11-23   96041900                    True                   True   \n",
       "2021-11-24   69463600                    True                   True   \n",
       "2021-11-26   76959800                    True                   True   \n",
       "2021-11-29   88748200                    True                   True   \n",
       "2021-11-30  174048100                    True                   True   \n",
       "\n",
       "            close_notequal_adjclose  \n",
       "Date                                 \n",
       "2014-12-31                      0.5  \n",
       "2015-01-02                      0.5  \n",
       "2015-01-05                      0.5  \n",
       "2015-01-06                      0.5  \n",
       "2015-01-07                      0.5  \n",
       "...                             ...  \n",
       "2021-11-23                      1.0  \n",
       "2021-11-24                      1.0  \n",
       "2021-11-26                      1.0  \n",
       "2021-11-29                      1.0  \n",
       "2021-11-30                      1.0  \n",
       "\n",
       "[1742 rows x 9 columns]"
      ]
     },
     "execution_count": 72,
     "metadata": {},
     "output_type": "execute_result"
    }
   ],
   "source": [
    "df"
   ]
  },
  {
   "cell_type": "markdown",
   "id": "028e20d4",
   "metadata": {
    "heading_collapsed": true
   },
   "source": [
    "### Function to quicksearch different stocks"
   ]
  },
  {
   "cell_type": "code",
   "execution_count": 2,
   "id": "97ae2b95",
   "metadata": {
    "ExecuteTime": {
     "end_time": "2021-12-21T11:18:38.610321Z",
     "start_time": "2021-12-21T11:18:38.593608Z"
    },
    "hidden": true
   },
   "outputs": [],
   "source": [
    "tech_stocks = ['AAPL', 'GOOG', 'MSFT', 'FB', 'AMZN']\n",
    "indices = ['^DJI', '^IXIC', '^N225', '^HSI', '^FTSE']"
   ]
  },
  {
   "cell_type": "code",
   "execution_count": 5,
   "id": "d4d9f31b",
   "metadata": {
    "ExecuteTime": {
     "end_time": "2021-12-21T11:18:46.683468Z",
     "start_time": "2021-12-21T11:18:46.672633Z"
    },
    "hidden": true
   },
   "outputs": [],
   "source": [
    "def see_plots(stock, dates):\n",
    "    data=yf.download(stock,dates[0],dates[1])\n",
    "    df = data.copy()\n",
    "    date_change_sr = (df['Close']!=df['Adj Close']); date_change = None\n",
    "    if date_change_sr.empty == False:   #there was a date change\n",
    "        date_change = date_change_sr.index[0]\n",
    "    #Plotting\n",
    "    fig, ax = plt.subplots(1,2, figsize=(16,4))\n",
    "    ax[0].plot(df.index, df['Close']); ax[0].plot(df.index, df['Adj Close'])\n",
    "    ax[0].plot(df.index, df['High']); ax[0].plot(df.index, df['Low'])\n",
    "    ax[0].set_title(f\"Stock price for {stock}\")\n",
    "    plt.show()\n",
    "    if date_change==None: print(f\"Stock price for {stock}, close diverged on {date_change}\")"
   ]
  },
  {
   "cell_type": "code",
   "execution_count": 7,
   "id": "31e73da5",
   "metadata": {
    "ExecuteTime": {
     "end_time": "2021-12-21T11:19:22.603942Z",
     "start_time": "2021-12-21T11:19:14.754198Z"
    },
    "hidden": true
   },
   "outputs": [
    {
     "name": "stdout",
     "output_type": "stream",
     "text": [
      "[*********************100%***********************]  5 of 5 completed\n"
     ]
    },
    {
     "data": {
      "image/png": "[encoded data removed]",
      "text/plain": [
       "<Figure size 1152x288 with 2 Axes>"
      ]
     },
     "metadata": {
      "needs_background": "light"
     },
     "output_type": "display_data"
    },
    {
     "name": "stdout",
     "output_type": "stream",
     "text": [
      "[*********************100%***********************]  5 of 5 completed\n"
     ]
    },
    {
     "data": {
      "image/png": "[encoded data removed]",
      "text/plain": [
       "<Figure size 1152x288 with 2 Axes>"
      ]
     },
     "metadata": {
      "needs_background": "light"
     },
     "output_type": "display_data"
    },
    {
     "name": "stdout",
     "output_type": "stream",
     "text": [
      "[*********************100%***********************]  5 of 5 completed\n"
     ]
    },
    {
     "data": {
      "image/png": "[encoded data removed]",
      "text/plain": [
       "<Figure size 1152x288 with 2 Axes>"
      ]
     },
     "metadata": {
      "needs_background": "light"
     },
     "output_type": "display_data"
    },
    {
     "name": "stdout",
     "output_type": "stream",
     "text": [
      "[*********************100%***********************]  5 of 5 completed\n"
     ]
    },
    {
     "data": {
      "image/png": "[encoded data removed]",
      "text/plain": [
       "<Figure size 1152x288 with 2 Axes>"
      ]
     },
     "metadata": {
      "needs_background": "light"
     },
     "output_type": "display_data"
    },
    {
     "name": "stdout",
     "output_type": "stream",
     "text": [
      "[*********************100%***********************]  5 of 5 completed\n"
     ]
    },
    {
     "data": {
      "image/png": "[encoded data removed]",
      "text/plain": [
       "<Figure size 1152x288 with 2 Axes>"
      ]
     },
     "metadata": {
      "needs_background": "light"
     },
     "output_type": "display_data"
    }
   ],
   "source": [
    "dates = ['2016-01-01', '2021-12-17']\n",
    "for asset in tech_stocks:\n",
    "    see_plots(indices, dates)"
   ]
  },
  {
   "cell_type": "code",
   "execution_count": 131,
   "id": "95463323",
   "metadata": {
    "ExecuteTime": {
     "end_time": "2021-12-18T08:38:51.314549Z",
     "start_time": "2021-12-18T08:38:50.902378Z"
    },
    "collapsed": true,
    "hidden": true
   },
   "outputs": [
    {
     "name": "stdout",
     "output_type": "stream",
     "text": [
      "[*********************100%***********************]  1 of 1 completed\n"
     ]
    },
    {
     "data": {
      "image/png": "[encoded data removed]",
      "text/plain": [
       "<Figure size 1152x288 with 2 Axes>"
      ]
     },
     "metadata": {
      "needs_background": "light"
     },
     "output_type": "display_data"
    }
   ],
   "source": [
    "#For single checking of plots\n",
    "temp_dates = ['2016-01-01', '2021-12-17']\n",
    "see_plots(\"^STI\", temp_dates)"
   ]
  },
  {
   "cell_type": "code",
   "execution_count": 139,
   "id": "5038cb6b",
   "metadata": {
    "ExecuteTime": {
     "end_time": "2021-12-18T09:10:48.248281Z",
     "start_time": "2021-12-18T09:10:47.976287Z"
    },
    "hidden": true
   },
   "outputs": [
    {
     "name": "stdout",
     "output_type": "stream",
     "text": [
      "[*********************100%***********************]  1 of 1 completed\n"
     ]
    }
   ],
   "source": [
    "#For accessing dataframes\n",
    "data=yf.download('DJI',temp_dates[0],temp_dates[1])"
   ]
  },
  {
   "cell_type": "markdown",
   "id": "064bc3af",
   "metadata": {
    "heading_collapsed": true
   },
   "source": [
    "### Stationarity Tests"
   ]
  },
  {
   "cell_type": "code",
   "execution_count": 138,
   "id": "b7214d33",
   "metadata": {
    "ExecuteTime": {
     "end_time": "2021-12-18T09:10:29.917147Z",
     "start_time": "2021-12-18T09:10:29.067478Z"
    },
    "hidden": true
   },
   "outputs": [],
   "source": [
    "from statsmodels.tsa.stattools import adfuller"
   ]
  },
  {
   "cell_type": "code",
   "execution_count": 146,
   "id": "7b364073",
   "metadata": {
    "ExecuteTime": {
     "end_time": "2021-12-18T09:14:49.262703Z",
     "start_time": "2021-12-18T09:14:49.068243Z"
    },
    "hidden": true
   },
   "outputs": [
    {
     "name": "stdout",
     "output_type": "stream",
     "text": [
      "[*********************100%***********************]  1 of 1 completed\n"
     ]
    },
    {
     "data": {
      "text/plain": [
       "(-2.516157594989495,\n",
       " 0.11159233909220129,\n",
       " 0,\n",
       " 104,\n",
       " {'1%': -3.4948504603223145,\n",
       "  '5%': -2.889758398668639,\n",
       "  '10%': -2.5818220155325444},\n",
       " 1218.5472454177066)"
      ]
     },
     "execution_count": 146,
     "metadata": {},
     "output_type": "execute_result"
    }
   ],
   "source": [
    "temp_dates = ['2019-01-01', '2019-12-31']\n",
    "data=yf.download('DJI',temp_dates[0],temp_dates[1])\n",
    "adfuller(data['Close'])"
   ]
  },
  {
   "cell_type": "code",
   "execution_count": 7,
   "id": "9f556c36",
   "metadata": {
    "ExecuteTime": {
     "end_time": "2021-12-18T09:35:51.343261Z",
     "start_time": "2021-12-18T09:35:51.323146Z"
    },
    "hidden": true
   },
   "outputs": [],
   "source": [
    "import ta #https://github.com/bukosabino/ta"
   ]
  },
  {
   "cell_type": "markdown",
   "id": "bf3f6035",
   "metadata": {},
   "source": [
    "## Oanda API"
   ]
  },
  {
   "cell_type": "code",
   "execution_count": 147,
   "id": "d192aa56",
   "metadata": {
    "ExecuteTime": {
     "end_time": "2021-12-18T09:21:40.520558Z",
     "start_time": "2021-12-18T09:21:40.337432Z"
    },
    "collapsed": true
   },
   "outputs": [
    {
     "ename": "NameError",
     "evalue": "name 'token' is not defined",
     "output_type": "error",
     "traceback": [
      "\u001b[0;31m---------------------------------------------------------------------------\u001b[0m",
      "\u001b[0;31mNameError\u001b[0m                                 Traceback (most recent call last)",
      "\u001b[0;32m/var/folders/bn/0j_20fj56f9756v0cmcxf0dh0000gn/T/ipykernel_10898/3146192126.py\u001b[0m in \u001b[0;36m<module>\u001b[0;34m\u001b[0m\n\u001b[1;32m      1\u001b[0m \u001b[0;31m# account =\u001b[0m\u001b[0;34m\u001b[0m\u001b[0;34m\u001b[0m\u001b[0;34m\u001b[0m\u001b[0m\n\u001b[1;32m      2\u001b[0m \u001b[0;31m# token =\u001b[0m\u001b[0;34m\u001b[0m\u001b[0;34m\u001b[0m\u001b[0;34m\u001b[0m\u001b[0m\n\u001b[0;32m----> 3\u001b[0;31m \u001b[0mheaders\u001b[0m \u001b[0;34m=\u001b[0m \u001b[0;34m{\u001b[0m\u001b[0;34m'Authorization'\u001b[0m\u001b[0;34m:\u001b[0m\u001b[0;34mf'Bearer {token}'\u001b[0m\u001b[0;34m,\u001b[0m \u001b[0;34m'Content-Type'\u001b[0m\u001b[0;34m:\u001b[0m\u001b[0;34m'application/json'\u001b[0m\u001b[0;34m}\u001b[0m\u001b[0;34m\u001b[0m\u001b[0;34m\u001b[0m\u001b[0m\n\u001b[0m\u001b[1;32m      4\u001b[0m \u001b[0;34m\u001b[0m\u001b[0m\n\u001b[1;32m      5\u001b[0m \u001b[0minstrument\u001b[0m\u001b[0;34m=\u001b[0m \u001b[0;34m'EUR_USD'\u001b[0m\u001b[0;34m\u001b[0m\u001b[0;34m\u001b[0m\u001b[0m\n",
      "\u001b[0;31mNameError\u001b[0m: name 'token' is not defined"
     ]
    }
   ],
   "source": [
    "# account = \n",
    "# token = \n",
    "headers = {'Authorization':f'Bearer {token}', 'Content-Type':'application/json'}\n",
    "\n",
    "instrument= 'EUR_USD'\n",
    "end_datetime = str(dt.datetime(2014,5,13,0,0,0)).replace(' ','T')\n",
    "params = {'price':'M', 'granularity': 'M1',\n",
    "          'count': 5000, 'to': end_datetime}\n",
    "\n",
    "url = f'https://api-fxpractice.oanda.com/v3/accounts/{account}/instruments/{instrument}/candles'\n",
    "response = requests.get(url, headers=headers, params=params).json()\n",
    "# df = pd.DataFrame(response['candles'])\n"
   ]
  },
  {
   "cell_type": "code",
   "execution_count": 24,
   "id": "a4d2bc95",
   "metadata": {
    "ExecuteTime": {
     "end_time": "2021-12-17T16:58:42.154972Z",
     "start_time": "2021-12-17T16:58:42.124139Z"
    },
    "scrolled": true
   },
   "outputs": [
    {
     "data": {
      "text/html": [
       "<div>\n",
       "<style scoped>\n",
       "    .dataframe tbody tr th:only-of-type {\n",
       "        vertical-align: middle;\n",
       "    }\n",
       "\n",
       "    .dataframe tbody tr th {\n",
       "        vertical-align: top;\n",
       "    }\n",
       "\n",
       "    .dataframe thead th {\n",
       "        text-align: right;\n",
       "    }\n",
       "</style>\n",
       "<table border=\"1\" class=\"dataframe\">\n",
       "  <thead>\n",
       "    <tr style=\"text-align: right;\">\n",
       "      <th></th>\n",
       "      <th>complete</th>\n",
       "      <th>volume</th>\n",
       "      <th>time</th>\n",
       "      <th>mid</th>\n",
       "    </tr>\n",
       "  </thead>\n",
       "  <tbody>\n",
       "    <tr>\n",
       "      <th>0</th>\n",
       "      <td>True</td>\n",
       "      <td>43</td>\n",
       "      <td>2014-05-07T15:14:00.000000000Z</td>\n",
       "      <td>{'o': '1.39210', 'h': '1.39217', 'l': '1.39187...</td>\n",
       "    </tr>\n",
       "    <tr>\n",
       "      <th>1</th>\n",
       "      <td>True</td>\n",
       "      <td>38</td>\n",
       "      <td>2014-05-07T15:15:00.000000000Z</td>\n",
       "      <td>{'o': '1.39188', 'h': '1.39189', 'l': '1.39179...</td>\n",
       "    </tr>\n",
       "    <tr>\n",
       "      <th>2</th>\n",
       "      <td>True</td>\n",
       "      <td>31</td>\n",
       "      <td>2014-05-07T15:16:00.000000000Z</td>\n",
       "      <td>{'o': '1.39186', 'h': '1.39197', 'l': '1.39186...</td>\n",
       "    </tr>\n",
       "    <tr>\n",
       "      <th>3</th>\n",
       "      <td>True</td>\n",
       "      <td>117</td>\n",
       "      <td>2014-05-07T15:17:00.000000000Z</td>\n",
       "      <td>{'o': '1.39197', 'h': '1.39218', 'l': '1.39190...</td>\n",
       "    </tr>\n",
       "    <tr>\n",
       "      <th>4</th>\n",
       "      <td>True</td>\n",
       "      <td>51</td>\n",
       "      <td>2014-05-07T15:18:00.000000000Z</td>\n",
       "      <td>{'o': '1.39217', 'h': '1.39229', 'l': '1.39214...</td>\n",
       "    </tr>\n",
       "    <tr>\n",
       "      <th>...</th>\n",
       "      <td>...</td>\n",
       "      <td>...</td>\n",
       "      <td>...</td>\n",
       "      <td>...</td>\n",
       "    </tr>\n",
       "    <tr>\n",
       "      <th>4995</th>\n",
       "      <td>True</td>\n",
       "      <td>8</td>\n",
       "      <td>2014-05-13T03:55:00.000000000Z</td>\n",
       "      <td>{'o': '1.37573', 'h': '1.37575', 'l': '1.37573...</td>\n",
       "    </tr>\n",
       "    <tr>\n",
       "      <th>4996</th>\n",
       "      <td>True</td>\n",
       "      <td>8</td>\n",
       "      <td>2014-05-13T03:56:00.000000000Z</td>\n",
       "      <td>{'o': '1.37573', 'h': '1.37575', 'l': '1.37573...</td>\n",
       "    </tr>\n",
       "    <tr>\n",
       "      <th>4997</th>\n",
       "      <td>True</td>\n",
       "      <td>1</td>\n",
       "      <td>2014-05-13T03:57:00.000000000Z</td>\n",
       "      <td>{'o': '1.37572', 'h': '1.37572', 'l': '1.37572...</td>\n",
       "    </tr>\n",
       "    <tr>\n",
       "      <th>4998</th>\n",
       "      <td>True</td>\n",
       "      <td>5</td>\n",
       "      <td>2014-05-13T03:58:00.000000000Z</td>\n",
       "      <td>{'o': '1.37573', 'h': '1.37574', 'l': '1.37571...</td>\n",
       "    </tr>\n",
       "    <tr>\n",
       "      <th>4999</th>\n",
       "      <td>True</td>\n",
       "      <td>4</td>\n",
       "      <td>2014-05-13T03:59:00.000000000Z</td>\n",
       "      <td>{'o': '1.37575', 'h': '1.37575', 'l': '1.37574...</td>\n",
       "    </tr>\n",
       "  </tbody>\n",
       "</table>\n",
       "<p>5000 rows × 4 columns</p>\n",
       "</div>"
      ],
      "text/plain": [
       "      complete  volume                            time  \\\n",
       "0         True      43  2014-05-07T15:14:00.000000000Z   \n",
       "1         True      38  2014-05-07T15:15:00.000000000Z   \n",
       "2         True      31  2014-05-07T15:16:00.000000000Z   \n",
       "3         True     117  2014-05-07T15:17:00.000000000Z   \n",
       "4         True      51  2014-05-07T15:18:00.000000000Z   \n",
       "...        ...     ...                             ...   \n",
       "4995      True       8  2014-05-13T03:55:00.000000000Z   \n",
       "4996      True       8  2014-05-13T03:56:00.000000000Z   \n",
       "4997      True       1  2014-05-13T03:57:00.000000000Z   \n",
       "4998      True       5  2014-05-13T03:58:00.000000000Z   \n",
       "4999      True       4  2014-05-13T03:59:00.000000000Z   \n",
       "\n",
       "                                                    mid  \n",
       "0     {'o': '1.39210', 'h': '1.39217', 'l': '1.39187...  \n",
       "1     {'o': '1.39188', 'h': '1.39189', 'l': '1.39179...  \n",
       "2     {'o': '1.39186', 'h': '1.39197', 'l': '1.39186...  \n",
       "3     {'o': '1.39197', 'h': '1.39218', 'l': '1.39190...  \n",
       "4     {'o': '1.39217', 'h': '1.39229', 'l': '1.39214...  \n",
       "...                                                 ...  \n",
       "4995  {'o': '1.37573', 'h': '1.37575', 'l': '1.37573...  \n",
       "4996  {'o': '1.37573', 'h': '1.37575', 'l': '1.37573...  \n",
       "4997  {'o': '1.37572', 'h': '1.37572', 'l': '1.37572...  \n",
       "4998  {'o': '1.37573', 'h': '1.37574', 'l': '1.37571...  \n",
       "4999  {'o': '1.37575', 'h': '1.37575', 'l': '1.37574...  \n",
       "\n",
       "[5000 rows x 4 columns]"
      ]
     },
     "execution_count": 24,
     "metadata": {},
     "output_type": "execute_result"
    }
   ],
   "source": [
    "pd.DataFrame(response['candles'])"
   ]
  },
  {
   "cell_type": "code",
   "execution_count": 5,
   "id": "92c593d8",
   "metadata": {
    "ExecuteTime": {
     "end_time": "2021-12-17T16:53:04.881527Z",
     "start_time": "2021-12-17T16:53:04.875423Z"
    }
   },
   "outputs": [
    {
     "data": {
      "text/plain": [
       "'2020-05-13T00:00:00'"
      ]
     },
     "execution_count": 5,
     "metadata": {},
     "output_type": "execute_result"
    }
   ],
   "source": [
    "end_datetime.replace(' ','T')"
   ]
  },
  {
   "cell_type": "markdown",
   "id": "134558d0",
   "metadata": {},
   "source": [
    "## Others"
   ]
  },
  {
   "cell_type": "code",
   "execution_count": 3,
   "id": "04277c8e",
   "metadata": {
    "ExecuteTime": {
     "end_time": "2021-12-24T17:37:47.054157Z",
     "start_time": "2021-12-24T17:37:46.589118Z"
    }
   },
   "outputs": [
    {
     "name": "stdout",
     "output_type": "stream",
     "text": [
      "[*********************100%***********************]  1 of 1 completed\n"
     ]
    }
   ],
   "source": [
    "#Downloading from yfinance\n",
    "df=yf.download('^VIX','2016-01-01','2021-12-20')\n",
    "#Saving file to jupyter notebook folder\n",
    "# vix_df.to_csv(\"/Users/ivanlimsweeyong/code/ivanlimsy/jupyter/VIX.csv\")\n",
    "#Retrieving file from jupyter notebook folder\n",
    "# vix_df = pd.read_csv(\"/Users/ivanlimsweeyong/code/ivanlimsy/jupyter/VIX.csv\", index_col=0)\n",
    "df.index = pd.to_datetime(vix_df.index, format='%Y-%m-%d')\n",
    "# vix_df.rename(columns={'Adj Close': 'vix_adj_close'}, inplace=True)\n",
    "# df = df.merge(vix_df[['vix_adj_close']], left_index=True, right_index=True)"
   ]
  },
  {
   "cell_type": "code",
   "execution_count": 5,
   "id": "f28337bd",
   "metadata": {
    "ExecuteTime": {
     "end_time": "2021-12-24T17:38:02.562549Z",
     "start_time": "2021-12-24T17:38:02.310870Z"
    }
   },
   "outputs": [
    {
     "data": {
      "image/png": "[encoded data removed]",
      "text/plain": [
       "<Figure size 1440x432 with 1 Axes>"
      ]
     },
     "metadata": {
      "needs_background": "light"
     },
     "output_type": "display_data"
    }
   ],
   "source": [
    "plt.figure(figsize=(20,6))\n",
    "plt.plot(df.index, df['Adj Close'])\n",
    "plt.show()"
   ]
  },
  {
   "cell_type": "code",
   "execution_count": null,
   "id": "f9dcb60f",
   "metadata": {},
   "outputs": [],
   "source": []
  }
 ],
 "metadata": {
  "kernelspec": {
   "display_name": "Python 3 (ipykernel)",
   "language": "python",
   "name": "python3"
  },
  "language_info": {
   "codemirror_mode": {
    "name": "ipython",
    "version": 3
   },
   "file_extension": ".py",
   "mimetype": "text/x-python",
   "name": "python",
   "nbconvert_exporter": "python",
   "pygments_lexer": "ipython3",
   "version": "3.8.6"
  },
  "toc": {
   "base_numbering": 1,
   "nav_menu": {},
   "number_sections": true,
   "sideBar": true,
   "skip_h1_title": false,
   "title_cell": "Table of Contents",
   "title_sidebar": "Contents",
   "toc_cell": false,
   "toc_position": {
    "height": "calc(100% - 180px)",
    "left": "10px",
    "top": "150px",
    "width": "349.091px"
   },
   "toc_section_display": true,
   "toc_window_display": true
  }
 },
 "nbformat": 4,
 "nbformat_minor": 5
}
